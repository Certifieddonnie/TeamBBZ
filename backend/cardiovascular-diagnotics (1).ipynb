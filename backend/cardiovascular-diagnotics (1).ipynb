{
 "cells": [
  {
   "cell_type": "code",
   "execution_count": 1,
   "metadata": {},
   "outputs": [],
   "source": [
    "import pandas as pd\n",
    "import numpy as np"
   ]
  },
  {
   "cell_type": "code",
   "execution_count": 2,
   "metadata": {
    "execution": {
     "iopub.execute_input": "2024-04-26T18:46:27.393997Z",
     "iopub.status.busy": "2024-04-26T18:46:27.393356Z",
     "iopub.status.idle": "2024-04-26T18:46:27.570002Z",
     "shell.execute_reply": "2024-04-26T18:46:27.568802Z",
     "shell.execute_reply.started": "2024-04-26T18:46:27.393962Z"
    }
   },
   "outputs": [
    {
     "data": {
      "text/html": [
       "<div>\n",
       "<style scoped>\n",
       "    .dataframe tbody tr th:only-of-type {\n",
       "        vertical-align: middle;\n",
       "    }\n",
       "\n",
       "    .dataframe tbody tr th {\n",
       "        vertical-align: top;\n",
       "    }\n",
       "\n",
       "    .dataframe thead th {\n",
       "        text-align: right;\n",
       "    }\n",
       "</style>\n",
       "<table border=\"1\" class=\"dataframe\">\n",
       "  <thead>\n",
       "    <tr style=\"text-align: right;\">\n",
       "      <th></th>\n",
       "      <th>id</th>\n",
       "      <th>age</th>\n",
       "      <th>gender</th>\n",
       "      <th>height</th>\n",
       "      <th>weight</th>\n",
       "      <th>ap_hi</th>\n",
       "      <th>ap_lo</th>\n",
       "      <th>cholesterol</th>\n",
       "      <th>gluc</th>\n",
       "      <th>smoke</th>\n",
       "      <th>alco</th>\n",
       "      <th>active</th>\n",
       "      <th>cardio</th>\n",
       "    </tr>\n",
       "  </thead>\n",
       "  <tbody>\n",
       "    <tr>\n",
       "      <th>0</th>\n",
       "      <td>0</td>\n",
       "      <td>18393</td>\n",
       "      <td>2</td>\n",
       "      <td>168</td>\n",
       "      <td>62.0</td>\n",
       "      <td>110</td>\n",
       "      <td>80</td>\n",
       "      <td>1</td>\n",
       "      <td>1</td>\n",
       "      <td>0</td>\n",
       "      <td>0</td>\n",
       "      <td>1</td>\n",
       "      <td>0</td>\n",
       "    </tr>\n",
       "    <tr>\n",
       "      <th>1</th>\n",
       "      <td>1</td>\n",
       "      <td>20228</td>\n",
       "      <td>1</td>\n",
       "      <td>156</td>\n",
       "      <td>85.0</td>\n",
       "      <td>140</td>\n",
       "      <td>90</td>\n",
       "      <td>3</td>\n",
       "      <td>1</td>\n",
       "      <td>0</td>\n",
       "      <td>0</td>\n",
       "      <td>1</td>\n",
       "      <td>1</td>\n",
       "    </tr>\n",
       "    <tr>\n",
       "      <th>2</th>\n",
       "      <td>2</td>\n",
       "      <td>18857</td>\n",
       "      <td>1</td>\n",
       "      <td>165</td>\n",
       "      <td>64.0</td>\n",
       "      <td>130</td>\n",
       "      <td>70</td>\n",
       "      <td>3</td>\n",
       "      <td>1</td>\n",
       "      <td>0</td>\n",
       "      <td>0</td>\n",
       "      <td>0</td>\n",
       "      <td>1</td>\n",
       "    </tr>\n",
       "    <tr>\n",
       "      <th>3</th>\n",
       "      <td>3</td>\n",
       "      <td>17623</td>\n",
       "      <td>2</td>\n",
       "      <td>169</td>\n",
       "      <td>82.0</td>\n",
       "      <td>150</td>\n",
       "      <td>100</td>\n",
       "      <td>1</td>\n",
       "      <td>1</td>\n",
       "      <td>0</td>\n",
       "      <td>0</td>\n",
       "      <td>1</td>\n",
       "      <td>1</td>\n",
       "    </tr>\n",
       "    <tr>\n",
       "      <th>4</th>\n",
       "      <td>4</td>\n",
       "      <td>17474</td>\n",
       "      <td>1</td>\n",
       "      <td>156</td>\n",
       "      <td>56.0</td>\n",
       "      <td>100</td>\n",
       "      <td>60</td>\n",
       "      <td>1</td>\n",
       "      <td>1</td>\n",
       "      <td>0</td>\n",
       "      <td>0</td>\n",
       "      <td>0</td>\n",
       "      <td>0</td>\n",
       "    </tr>\n",
       "  </tbody>\n",
       "</table>\n",
       "</div>"
      ],
      "text/plain": [
       "   id    age  gender  height  weight  ap_hi  ap_lo  cholesterol  gluc  smoke  \\\n",
       "0   0  18393       2     168    62.0    110     80            1     1      0   \n",
       "1   1  20228       1     156    85.0    140     90            3     1      0   \n",
       "2   2  18857       1     165    64.0    130     70            3     1      0   \n",
       "3   3  17623       2     169    82.0    150    100            1     1      0   \n",
       "4   4  17474       1     156    56.0    100     60            1     1      0   \n",
       "\n",
       "   alco  active  cardio  \n",
       "0     0       1       0  \n",
       "1     0       1       1  \n",
       "2     0       0       1  \n",
       "3     0       1       1  \n",
       "4     0       0       0  "
      ]
     },
     "execution_count": 2,
     "metadata": {},
     "output_type": "execute_result"
    }
   ],
   "source": [
    "df = pd.read_csv('cardio_train.csv', sep=';')\n",
    "df.head()"
   ]
  },
  {
   "cell_type": "code",
   "execution_count": 3,
   "metadata": {
    "execution": {
     "iopub.execute_input": "2024-04-26T18:46:28.616222Z",
     "iopub.status.busy": "2024-04-26T18:46:28.615770Z",
     "iopub.status.idle": "2024-04-26T18:46:28.621507Z",
     "shell.execute_reply": "2024-04-26T18:46:28.620143Z",
     "shell.execute_reply.started": "2024-04-26T18:46:28.616192Z"
    }
   },
   "outputs": [],
   "source": [
    "# age : (days)\n",
    "# gender(2: 'male', 1:'female')\n",
    "# ap_hi[systolic blood pressure]\n",
    "# ap_lo[diastolic blood pressure]\n",
    "# cholesterol level[ 1: normal, 2: above normal, 3: well above normal]\n",
    "# glucose level [1: normal, 2: above normal, 3: well above normal]\n",
    "# smoker [0: 'No', 1:'Yes']\n",
    "# alcohol_intake [0: 'No', 1:'Yes']\n",
    "# physical_activity [0: 'No', 1:'Yes']\n",
    "# cardiovascular_health [0:'Bad', 1:'Yes']"
   ]
  },
  {
   "cell_type": "code",
   "execution_count": 4,
   "metadata": {
    "execution": {
     "iopub.execute_input": "2024-04-26T18:46:29.826432Z",
     "iopub.status.busy": "2024-04-26T18:46:29.825991Z",
     "iopub.status.idle": "2024-04-26T18:46:29.856815Z",
     "shell.execute_reply": "2024-04-26T18:46:29.855278Z",
     "shell.execute_reply.started": "2024-04-26T18:46:29.826399Z"
    }
   },
   "outputs": [
    {
     "name": "stdout",
     "output_type": "stream",
     "text": [
      "<class 'pandas.core.frame.DataFrame'>\n",
      "RangeIndex: 70000 entries, 0 to 69999\n",
      "Data columns (total 13 columns):\n",
      " #   Column       Non-Null Count  Dtype  \n",
      "---  ------       --------------  -----  \n",
      " 0   id           70000 non-null  int64  \n",
      " 1   age          70000 non-null  int64  \n",
      " 2   gender       70000 non-null  int64  \n",
      " 3   height       70000 non-null  int64  \n",
      " 4   weight       70000 non-null  float64\n",
      " 5   ap_hi        70000 non-null  int64  \n",
      " 6   ap_lo        70000 non-null  int64  \n",
      " 7   cholesterol  70000 non-null  int64  \n",
      " 8   gluc         70000 non-null  int64  \n",
      " 9   smoke        70000 non-null  int64  \n",
      " 10  alco         70000 non-null  int64  \n",
      " 11  active       70000 non-null  int64  \n",
      " 12  cardio       70000 non-null  int64  \n",
      "dtypes: float64(1), int64(12)\n",
      "memory usage: 6.9 MB\n"
     ]
    }
   ],
   "source": [
    "df.info()"
   ]
  },
  {
   "cell_type": "code",
   "execution_count": 5,
   "metadata": {
    "execution": {
     "iopub.execute_input": "2024-04-26T18:46:30.978775Z",
     "iopub.status.busy": "2024-04-26T18:46:30.978349Z",
     "iopub.status.idle": "2024-04-26T18:46:31.058402Z",
     "shell.execute_reply": "2024-04-26T18:46:31.057244Z",
     "shell.execute_reply.started": "2024-04-26T18:46:30.978744Z"
    }
   },
   "outputs": [
    {
     "data": {
      "text/html": [
       "<div>\n",
       "<style scoped>\n",
       "    .dataframe tbody tr th:only-of-type {\n",
       "        vertical-align: middle;\n",
       "    }\n",
       "\n",
       "    .dataframe tbody tr th {\n",
       "        vertical-align: top;\n",
       "    }\n",
       "\n",
       "    .dataframe thead th {\n",
       "        text-align: right;\n",
       "    }\n",
       "</style>\n",
       "<table border=\"1\" class=\"dataframe\">\n",
       "  <thead>\n",
       "    <tr style=\"text-align: right;\">\n",
       "      <th></th>\n",
       "      <th>count</th>\n",
       "      <th>mean</th>\n",
       "      <th>std</th>\n",
       "      <th>min</th>\n",
       "      <th>25%</th>\n",
       "      <th>50%</th>\n",
       "      <th>75%</th>\n",
       "      <th>max</th>\n",
       "    </tr>\n",
       "  </thead>\n",
       "  <tbody>\n",
       "    <tr>\n",
       "      <th>id</th>\n",
       "      <td>70000.0</td>\n",
       "      <td>49972.419900</td>\n",
       "      <td>28851.302323</td>\n",
       "      <td>0.0</td>\n",
       "      <td>25006.75</td>\n",
       "      <td>50001.5</td>\n",
       "      <td>74889.25</td>\n",
       "      <td>99999.0</td>\n",
       "    </tr>\n",
       "    <tr>\n",
       "      <th>age</th>\n",
       "      <td>70000.0</td>\n",
       "      <td>19468.865814</td>\n",
       "      <td>2467.251667</td>\n",
       "      <td>10798.0</td>\n",
       "      <td>17664.00</td>\n",
       "      <td>19703.0</td>\n",
       "      <td>21327.00</td>\n",
       "      <td>23713.0</td>\n",
       "    </tr>\n",
       "    <tr>\n",
       "      <th>gender</th>\n",
       "      <td>70000.0</td>\n",
       "      <td>1.349571</td>\n",
       "      <td>0.476838</td>\n",
       "      <td>1.0</td>\n",
       "      <td>1.00</td>\n",
       "      <td>1.0</td>\n",
       "      <td>2.00</td>\n",
       "      <td>2.0</td>\n",
       "    </tr>\n",
       "    <tr>\n",
       "      <th>height</th>\n",
       "      <td>70000.0</td>\n",
       "      <td>164.359229</td>\n",
       "      <td>8.210126</td>\n",
       "      <td>55.0</td>\n",
       "      <td>159.00</td>\n",
       "      <td>165.0</td>\n",
       "      <td>170.00</td>\n",
       "      <td>250.0</td>\n",
       "    </tr>\n",
       "    <tr>\n",
       "      <th>weight</th>\n",
       "      <td>70000.0</td>\n",
       "      <td>74.205690</td>\n",
       "      <td>14.395757</td>\n",
       "      <td>10.0</td>\n",
       "      <td>65.00</td>\n",
       "      <td>72.0</td>\n",
       "      <td>82.00</td>\n",
       "      <td>200.0</td>\n",
       "    </tr>\n",
       "    <tr>\n",
       "      <th>ap_hi</th>\n",
       "      <td>70000.0</td>\n",
       "      <td>128.817286</td>\n",
       "      <td>154.011419</td>\n",
       "      <td>-150.0</td>\n",
       "      <td>120.00</td>\n",
       "      <td>120.0</td>\n",
       "      <td>140.00</td>\n",
       "      <td>16020.0</td>\n",
       "    </tr>\n",
       "    <tr>\n",
       "      <th>ap_lo</th>\n",
       "      <td>70000.0</td>\n",
       "      <td>96.630414</td>\n",
       "      <td>188.472530</td>\n",
       "      <td>-70.0</td>\n",
       "      <td>80.00</td>\n",
       "      <td>80.0</td>\n",
       "      <td>90.00</td>\n",
       "      <td>11000.0</td>\n",
       "    </tr>\n",
       "    <tr>\n",
       "      <th>cholesterol</th>\n",
       "      <td>70000.0</td>\n",
       "      <td>1.366871</td>\n",
       "      <td>0.680250</td>\n",
       "      <td>1.0</td>\n",
       "      <td>1.00</td>\n",
       "      <td>1.0</td>\n",
       "      <td>2.00</td>\n",
       "      <td>3.0</td>\n",
       "    </tr>\n",
       "    <tr>\n",
       "      <th>gluc</th>\n",
       "      <td>70000.0</td>\n",
       "      <td>1.226457</td>\n",
       "      <td>0.572270</td>\n",
       "      <td>1.0</td>\n",
       "      <td>1.00</td>\n",
       "      <td>1.0</td>\n",
       "      <td>1.00</td>\n",
       "      <td>3.0</td>\n",
       "    </tr>\n",
       "    <tr>\n",
       "      <th>smoke</th>\n",
       "      <td>70000.0</td>\n",
       "      <td>0.088129</td>\n",
       "      <td>0.283484</td>\n",
       "      <td>0.0</td>\n",
       "      <td>0.00</td>\n",
       "      <td>0.0</td>\n",
       "      <td>0.00</td>\n",
       "      <td>1.0</td>\n",
       "    </tr>\n",
       "    <tr>\n",
       "      <th>alco</th>\n",
       "      <td>70000.0</td>\n",
       "      <td>0.053771</td>\n",
       "      <td>0.225568</td>\n",
       "      <td>0.0</td>\n",
       "      <td>0.00</td>\n",
       "      <td>0.0</td>\n",
       "      <td>0.00</td>\n",
       "      <td>1.0</td>\n",
       "    </tr>\n",
       "    <tr>\n",
       "      <th>active</th>\n",
       "      <td>70000.0</td>\n",
       "      <td>0.803729</td>\n",
       "      <td>0.397179</td>\n",
       "      <td>0.0</td>\n",
       "      <td>1.00</td>\n",
       "      <td>1.0</td>\n",
       "      <td>1.00</td>\n",
       "      <td>1.0</td>\n",
       "    </tr>\n",
       "    <tr>\n",
       "      <th>cardio</th>\n",
       "      <td>70000.0</td>\n",
       "      <td>0.499700</td>\n",
       "      <td>0.500003</td>\n",
       "      <td>0.0</td>\n",
       "      <td>0.00</td>\n",
       "      <td>0.0</td>\n",
       "      <td>1.00</td>\n",
       "      <td>1.0</td>\n",
       "    </tr>\n",
       "  </tbody>\n",
       "</table>\n",
       "</div>"
      ],
      "text/plain": [
       "               count          mean           std      min       25%      50%  \\\n",
       "id           70000.0  49972.419900  28851.302323      0.0  25006.75  50001.5   \n",
       "age          70000.0  19468.865814   2467.251667  10798.0  17664.00  19703.0   \n",
       "gender       70000.0      1.349571      0.476838      1.0      1.00      1.0   \n",
       "height       70000.0    164.359229      8.210126     55.0    159.00    165.0   \n",
       "weight       70000.0     74.205690     14.395757     10.0     65.00     72.0   \n",
       "ap_hi        70000.0    128.817286    154.011419   -150.0    120.00    120.0   \n",
       "ap_lo        70000.0     96.630414    188.472530    -70.0     80.00     80.0   \n",
       "cholesterol  70000.0      1.366871      0.680250      1.0      1.00      1.0   \n",
       "gluc         70000.0      1.226457      0.572270      1.0      1.00      1.0   \n",
       "smoke        70000.0      0.088129      0.283484      0.0      0.00      0.0   \n",
       "alco         70000.0      0.053771      0.225568      0.0      0.00      0.0   \n",
       "active       70000.0      0.803729      0.397179      0.0      1.00      1.0   \n",
       "cardio       70000.0      0.499700      0.500003      0.0      0.00      0.0   \n",
       "\n",
       "                  75%      max  \n",
       "id           74889.25  99999.0  \n",
       "age          21327.00  23713.0  \n",
       "gender           2.00      2.0  \n",
       "height         170.00    250.0  \n",
       "weight          82.00    200.0  \n",
       "ap_hi          140.00  16020.0  \n",
       "ap_lo           90.00  11000.0  \n",
       "cholesterol      2.00      3.0  \n",
       "gluc             1.00      3.0  \n",
       "smoke            0.00      1.0  \n",
       "alco             0.00      1.0  \n",
       "active           1.00      1.0  \n",
       "cardio           1.00      1.0  "
      ]
     },
     "execution_count": 5,
     "metadata": {},
     "output_type": "execute_result"
    }
   ],
   "source": [
    "df.describe().T"
   ]
  },
  {
   "cell_type": "code",
   "execution_count": 6,
   "metadata": {
    "execution": {
     "iopub.execute_input": "2024-04-26T18:46:32.033350Z",
     "iopub.status.busy": "2024-04-26T18:46:32.032927Z",
     "iopub.status.idle": "2024-04-26T18:46:32.043504Z",
     "shell.execute_reply": "2024-04-26T18:46:32.042484Z",
     "shell.execute_reply.started": "2024-04-26T18:46:32.033321Z"
    }
   },
   "outputs": [],
   "source": [
    "features = ['id', 'age', 'gender', 'height', 'weight', 'ap_hi', 'ap_lo', 'cholesterol', 'gluc', 'smoke', 'alco', 'active', 'cardio']\n",
    "\n",
    "dict1 = {0: 'no', 1: 'yes'}\n",
    "dict2 = {1: 'normal', 2: 'above normal', 3: 'well above normal'}\n",
    "dict3 = {1: 'female', 2: 'male'}\n",
    "\n",
    "yes_no_features = ['smoke', 'alco', 'active', 'cardio']\n",
    "features2 = ['ap_hi', 'ap_lo', 'cholesterol', 'gluc']\n",
    "features3 = ['gender']\n",
    "features4 = ['age']\n",
    "\n",
    "def clean_df(df):\n",
    "    \"\"\"Cleans the dataframe and ensures uniformity of the dataset\"\"\"\n",
    "\n",
    "    for feature in features:\n",
    "        if feature in yes_no_features:\n",
    "            df[feature] = df[feature].replace(dict1)\n",
    "        elif feature in features2:\n",
    "            df[feature] = df[feature].replace(dict2)\n",
    "        elif feature in features3:\n",
    "            df[feature] = df[feature].replace(dict3)\n",
    "        elif feature == 'age':\n",
    "            df[feature] = (df[feature] / 365).astype(int)\n",
    "        else:\n",
    "            print(f'Clean data for {feature}')\n",
    "\n",
    "    return df"
   ]
  },
  {
   "cell_type": "code",
   "execution_count": 7,
   "metadata": {
    "execution": {
     "iopub.execute_input": "2024-04-26T18:46:34.023681Z",
     "iopub.status.busy": "2024-04-26T18:46:34.023249Z",
     "iopub.status.idle": "2024-04-26T18:46:34.102804Z",
     "shell.execute_reply": "2024-04-26T18:46:34.101488Z",
     "shell.execute_reply.started": "2024-04-26T18:46:34.023649Z"
    }
   },
   "outputs": [
    {
     "name": "stdout",
     "output_type": "stream",
     "text": [
      "Clean data for id\n",
      "Clean data for height\n",
      "Clean data for weight\n"
     ]
    }
   ],
   "source": [
    "df1 = clean_df(df)"
   ]
  },
  {
   "cell_type": "code",
   "execution_count": 8,
   "metadata": {},
   "outputs": [
    {
     "data": {
      "text/plain": [
       "0"
      ]
     },
     "execution_count": 8,
     "metadata": {},
     "output_type": "execute_result"
    }
   ],
   "source": [
    "df1.duplicated(keep=False).sum()"
   ]
  },
  {
   "cell_type": "code",
   "execution_count": 9,
   "metadata": {
    "execution": {
     "iopub.execute_input": "2024-04-26T18:46:35.476210Z",
     "iopub.status.busy": "2024-04-26T18:46:35.475787Z",
     "iopub.status.idle": "2024-04-26T18:46:35.494834Z",
     "shell.execute_reply": "2024-04-26T18:46:35.493509Z",
     "shell.execute_reply.started": "2024-04-26T18:46:35.476170Z"
    }
   },
   "outputs": [
    {
     "data": {
      "text/html": [
       "<div>\n",
       "<style scoped>\n",
       "    .dataframe tbody tr th:only-of-type {\n",
       "        vertical-align: middle;\n",
       "    }\n",
       "\n",
       "    .dataframe tbody tr th {\n",
       "        vertical-align: top;\n",
       "    }\n",
       "\n",
       "    .dataframe thead th {\n",
       "        text-align: right;\n",
       "    }\n",
       "</style>\n",
       "<table border=\"1\" class=\"dataframe\">\n",
       "  <thead>\n",
       "    <tr style=\"text-align: right;\">\n",
       "      <th></th>\n",
       "      <th>id</th>\n",
       "      <th>age</th>\n",
       "      <th>gender</th>\n",
       "      <th>height</th>\n",
       "      <th>weight</th>\n",
       "      <th>ap_hi</th>\n",
       "      <th>ap_lo</th>\n",
       "      <th>cholesterol</th>\n",
       "      <th>gluc</th>\n",
       "      <th>smoke</th>\n",
       "      <th>alco</th>\n",
       "      <th>active</th>\n",
       "      <th>cardio</th>\n",
       "    </tr>\n",
       "  </thead>\n",
       "  <tbody>\n",
       "    <tr>\n",
       "      <th>0</th>\n",
       "      <td>0</td>\n",
       "      <td>50</td>\n",
       "      <td>male</td>\n",
       "      <td>168</td>\n",
       "      <td>62.0</td>\n",
       "      <td>110</td>\n",
       "      <td>80</td>\n",
       "      <td>normal</td>\n",
       "      <td>normal</td>\n",
       "      <td>no</td>\n",
       "      <td>no</td>\n",
       "      <td>yes</td>\n",
       "      <td>no</td>\n",
       "    </tr>\n",
       "    <tr>\n",
       "      <th>1</th>\n",
       "      <td>1</td>\n",
       "      <td>55</td>\n",
       "      <td>female</td>\n",
       "      <td>156</td>\n",
       "      <td>85.0</td>\n",
       "      <td>140</td>\n",
       "      <td>90</td>\n",
       "      <td>well above normal</td>\n",
       "      <td>normal</td>\n",
       "      <td>no</td>\n",
       "      <td>no</td>\n",
       "      <td>yes</td>\n",
       "      <td>yes</td>\n",
       "    </tr>\n",
       "    <tr>\n",
       "      <th>2</th>\n",
       "      <td>2</td>\n",
       "      <td>51</td>\n",
       "      <td>female</td>\n",
       "      <td>165</td>\n",
       "      <td>64.0</td>\n",
       "      <td>130</td>\n",
       "      <td>70</td>\n",
       "      <td>well above normal</td>\n",
       "      <td>normal</td>\n",
       "      <td>no</td>\n",
       "      <td>no</td>\n",
       "      <td>no</td>\n",
       "      <td>yes</td>\n",
       "    </tr>\n",
       "    <tr>\n",
       "      <th>3</th>\n",
       "      <td>3</td>\n",
       "      <td>48</td>\n",
       "      <td>male</td>\n",
       "      <td>169</td>\n",
       "      <td>82.0</td>\n",
       "      <td>150</td>\n",
       "      <td>100</td>\n",
       "      <td>normal</td>\n",
       "      <td>normal</td>\n",
       "      <td>no</td>\n",
       "      <td>no</td>\n",
       "      <td>yes</td>\n",
       "      <td>yes</td>\n",
       "    </tr>\n",
       "    <tr>\n",
       "      <th>4</th>\n",
       "      <td>4</td>\n",
       "      <td>47</td>\n",
       "      <td>female</td>\n",
       "      <td>156</td>\n",
       "      <td>56.0</td>\n",
       "      <td>100</td>\n",
       "      <td>60</td>\n",
       "      <td>normal</td>\n",
       "      <td>normal</td>\n",
       "      <td>no</td>\n",
       "      <td>no</td>\n",
       "      <td>no</td>\n",
       "      <td>no</td>\n",
       "    </tr>\n",
       "  </tbody>\n",
       "</table>\n",
       "</div>"
      ],
      "text/plain": [
       "   id  age  gender  height  weight ap_hi ap_lo        cholesterol    gluc  \\\n",
       "0   0   50    male     168    62.0   110    80             normal  normal   \n",
       "1   1   55  female     156    85.0   140    90  well above normal  normal   \n",
       "2   2   51  female     165    64.0   130    70  well above normal  normal   \n",
       "3   3   48    male     169    82.0   150   100             normal  normal   \n",
       "4   4   47  female     156    56.0   100    60             normal  normal   \n",
       "\n",
       "  smoke alco active cardio  \n",
       "0    no   no    yes     no  \n",
       "1    no   no    yes    yes  \n",
       "2    no   no     no    yes  \n",
       "3    no   no    yes    yes  \n",
       "4    no   no     no     no  "
      ]
     },
     "execution_count": 9,
     "metadata": {},
     "output_type": "execute_result"
    }
   ],
   "source": [
    "df1.head()"
   ]
  },
  {
   "cell_type": "code",
   "execution_count": 10,
   "metadata": {
    "execution": {
     "iopub.execute_input": "2024-04-26T18:46:37.069392Z",
     "iopub.status.busy": "2024-04-26T18:46:37.069004Z",
     "iopub.status.idle": "2024-04-26T18:46:37.115274Z",
     "shell.execute_reply": "2024-04-26T18:46:37.114131Z",
     "shell.execute_reply.started": "2024-04-26T18:46:37.069365Z"
    }
   },
   "outputs": [],
   "source": [
    "# feature reduction\n",
    "df1['height_meter'] = df1['height'] / 100\n",
    "df1['weight_kg'] = df1['weight'].astype(int)\n",
    "\n",
    "# renaming features\n",
    "df1 = df1.rename(columns={\n",
    "    'ap_hi': 'systolic blood pressure',\n",
    "    'ap_lo': 'diastolic blood pressure',\n",
    "    'cholesterol': 'cholesterol level',\n",
    "    'gluc': 'glucose level',\n",
    "    'alco': 'alcohol intake',\n",
    "    'cardio': 'cardiovascular illness'\n",
    "})"
   ]
  },
  {
   "cell_type": "code",
   "execution_count": 11,
   "metadata": {
    "execution": {
     "iopub.execute_input": "2024-04-26T18:46:38.214881Z",
     "iopub.status.busy": "2024-04-26T18:46:38.213937Z",
     "iopub.status.idle": "2024-04-26T18:46:38.233251Z",
     "shell.execute_reply": "2024-04-26T18:46:38.232207Z",
     "shell.execute_reply.started": "2024-04-26T18:46:38.214808Z"
    }
   },
   "outputs": [
    {
     "data": {
      "text/html": [
       "<div>\n",
       "<style scoped>\n",
       "    .dataframe tbody tr th:only-of-type {\n",
       "        vertical-align: middle;\n",
       "    }\n",
       "\n",
       "    .dataframe tbody tr th {\n",
       "        vertical-align: top;\n",
       "    }\n",
       "\n",
       "    .dataframe thead th {\n",
       "        text-align: right;\n",
       "    }\n",
       "</style>\n",
       "<table border=\"1\" class=\"dataframe\">\n",
       "  <thead>\n",
       "    <tr style=\"text-align: right;\">\n",
       "      <th></th>\n",
       "      <th>id</th>\n",
       "      <th>age</th>\n",
       "      <th>gender</th>\n",
       "      <th>height</th>\n",
       "      <th>weight</th>\n",
       "      <th>systolic blood pressure</th>\n",
       "      <th>diastolic blood pressure</th>\n",
       "      <th>cholesterol level</th>\n",
       "      <th>glucose level</th>\n",
       "      <th>smoke</th>\n",
       "      <th>alcohol intake</th>\n",
       "      <th>active</th>\n",
       "      <th>cardiovascular illness</th>\n",
       "      <th>height_meter</th>\n",
       "      <th>weight_kg</th>\n",
       "    </tr>\n",
       "  </thead>\n",
       "  <tbody>\n",
       "    <tr>\n",
       "      <th>0</th>\n",
       "      <td>0</td>\n",
       "      <td>50</td>\n",
       "      <td>male</td>\n",
       "      <td>168</td>\n",
       "      <td>62.0</td>\n",
       "      <td>110</td>\n",
       "      <td>80</td>\n",
       "      <td>normal</td>\n",
       "      <td>normal</td>\n",
       "      <td>no</td>\n",
       "      <td>no</td>\n",
       "      <td>yes</td>\n",
       "      <td>no</td>\n",
       "      <td>1.68</td>\n",
       "      <td>62</td>\n",
       "    </tr>\n",
       "    <tr>\n",
       "      <th>1</th>\n",
       "      <td>1</td>\n",
       "      <td>55</td>\n",
       "      <td>female</td>\n",
       "      <td>156</td>\n",
       "      <td>85.0</td>\n",
       "      <td>140</td>\n",
       "      <td>90</td>\n",
       "      <td>well above normal</td>\n",
       "      <td>normal</td>\n",
       "      <td>no</td>\n",
       "      <td>no</td>\n",
       "      <td>yes</td>\n",
       "      <td>yes</td>\n",
       "      <td>1.56</td>\n",
       "      <td>85</td>\n",
       "    </tr>\n",
       "    <tr>\n",
       "      <th>2</th>\n",
       "      <td>2</td>\n",
       "      <td>51</td>\n",
       "      <td>female</td>\n",
       "      <td>165</td>\n",
       "      <td>64.0</td>\n",
       "      <td>130</td>\n",
       "      <td>70</td>\n",
       "      <td>well above normal</td>\n",
       "      <td>normal</td>\n",
       "      <td>no</td>\n",
       "      <td>no</td>\n",
       "      <td>no</td>\n",
       "      <td>yes</td>\n",
       "      <td>1.65</td>\n",
       "      <td>64</td>\n",
       "    </tr>\n",
       "    <tr>\n",
       "      <th>3</th>\n",
       "      <td>3</td>\n",
       "      <td>48</td>\n",
       "      <td>male</td>\n",
       "      <td>169</td>\n",
       "      <td>82.0</td>\n",
       "      <td>150</td>\n",
       "      <td>100</td>\n",
       "      <td>normal</td>\n",
       "      <td>normal</td>\n",
       "      <td>no</td>\n",
       "      <td>no</td>\n",
       "      <td>yes</td>\n",
       "      <td>yes</td>\n",
       "      <td>1.69</td>\n",
       "      <td>82</td>\n",
       "    </tr>\n",
       "    <tr>\n",
       "      <th>4</th>\n",
       "      <td>4</td>\n",
       "      <td>47</td>\n",
       "      <td>female</td>\n",
       "      <td>156</td>\n",
       "      <td>56.0</td>\n",
       "      <td>100</td>\n",
       "      <td>60</td>\n",
       "      <td>normal</td>\n",
       "      <td>normal</td>\n",
       "      <td>no</td>\n",
       "      <td>no</td>\n",
       "      <td>no</td>\n",
       "      <td>no</td>\n",
       "      <td>1.56</td>\n",
       "      <td>56</td>\n",
       "    </tr>\n",
       "  </tbody>\n",
       "</table>\n",
       "</div>"
      ],
      "text/plain": [
       "   id  age  gender  height  weight systolic blood pressure  \\\n",
       "0   0   50    male     168    62.0                     110   \n",
       "1   1   55  female     156    85.0                     140   \n",
       "2   2   51  female     165    64.0                     130   \n",
       "3   3   48    male     169    82.0                     150   \n",
       "4   4   47  female     156    56.0                     100   \n",
       "\n",
       "  diastolic blood pressure  cholesterol level glucose level smoke  \\\n",
       "0                       80             normal        normal    no   \n",
       "1                       90  well above normal        normal    no   \n",
       "2                       70  well above normal        normal    no   \n",
       "3                      100             normal        normal    no   \n",
       "4                       60             normal        normal    no   \n",
       "\n",
       "  alcohol intake active cardiovascular illness  height_meter  weight_kg  \n",
       "0             no    yes                     no          1.68         62  \n",
       "1             no    yes                    yes          1.56         85  \n",
       "2             no     no                    yes          1.65         64  \n",
       "3             no    yes                    yes          1.69         82  \n",
       "4             no     no                     no          1.56         56  "
      ]
     },
     "execution_count": 11,
     "metadata": {},
     "output_type": "execute_result"
    }
   ],
   "source": [
    "df1.head()"
   ]
  },
  {
   "cell_type": "markdown",
   "metadata": {},
   "source": [
    "# Feature Engineering"
   ]
  },
  {
   "cell_type": "code",
   "execution_count": 13,
   "metadata": {
    "_kg_hide-input": true,
    "execution": {
     "iopub.execute_input": "2024-04-26T18:46:42.486848Z",
     "iopub.status.busy": "2024-04-26T18:46:42.486196Z",
     "iopub.status.idle": "2024-04-26T18:46:42.535267Z",
     "shell.execute_reply": "2024-04-26T18:46:42.533676Z",
     "shell.execute_reply.started": "2024-04-26T18:46:42.486818Z"
    }
   },
   "outputs": [
    {
     "data": {
      "text/html": [
       "<div>\n",
       "<style scoped>\n",
       "    .dataframe tbody tr th:only-of-type {\n",
       "        vertical-align: middle;\n",
       "    }\n",
       "\n",
       "    .dataframe tbody tr th {\n",
       "        vertical-align: top;\n",
       "    }\n",
       "\n",
       "    .dataframe thead th {\n",
       "        text-align: right;\n",
       "    }\n",
       "</style>\n",
       "<table border=\"1\" class=\"dataframe\">\n",
       "  <thead>\n",
       "    <tr style=\"text-align: right;\">\n",
       "      <th></th>\n",
       "      <th>age</th>\n",
       "      <th>gender</th>\n",
       "      <th>systolic blood pressure</th>\n",
       "      <th>diastolic blood pressure</th>\n",
       "      <th>cholesterol level</th>\n",
       "      <th>glucose level</th>\n",
       "      <th>smoke</th>\n",
       "      <th>alcohol intake</th>\n",
       "      <th>active</th>\n",
       "      <th>cardiovascular illness</th>\n",
       "      <th>body mass index</th>\n",
       "    </tr>\n",
       "  </thead>\n",
       "  <tbody>\n",
       "    <tr>\n",
       "      <th>35772</th>\n",
       "      <td>47</td>\n",
       "      <td>male</td>\n",
       "      <td>140</td>\n",
       "      <td>90</td>\n",
       "      <td>normal</td>\n",
       "      <td>normal</td>\n",
       "      <td>no</td>\n",
       "      <td>no</td>\n",
       "      <td>yes</td>\n",
       "      <td>yes</td>\n",
       "      <td>29</td>\n",
       "    </tr>\n",
       "    <tr>\n",
       "      <th>30537</th>\n",
       "      <td>56</td>\n",
       "      <td>female</td>\n",
       "      <td>140</td>\n",
       "      <td>90</td>\n",
       "      <td>well above normal</td>\n",
       "      <td>well above normal</td>\n",
       "      <td>no</td>\n",
       "      <td>no</td>\n",
       "      <td>yes</td>\n",
       "      <td>yes</td>\n",
       "      <td>28</td>\n",
       "    </tr>\n",
       "    <tr>\n",
       "      <th>26203</th>\n",
       "      <td>54</td>\n",
       "      <td>female</td>\n",
       "      <td>110</td>\n",
       "      <td>70</td>\n",
       "      <td>normal</td>\n",
       "      <td>normal</td>\n",
       "      <td>no</td>\n",
       "      <td>no</td>\n",
       "      <td>yes</td>\n",
       "      <td>no</td>\n",
       "      <td>19</td>\n",
       "    </tr>\n",
       "    <tr>\n",
       "      <th>13354</th>\n",
       "      <td>50</td>\n",
       "      <td>male</td>\n",
       "      <td>130</td>\n",
       "      <td>80</td>\n",
       "      <td>normal</td>\n",
       "      <td>normal</td>\n",
       "      <td>no</td>\n",
       "      <td>no</td>\n",
       "      <td>no</td>\n",
       "      <td>no</td>\n",
       "      <td>30</td>\n",
       "    </tr>\n",
       "    <tr>\n",
       "      <th>68140</th>\n",
       "      <td>52</td>\n",
       "      <td>female</td>\n",
       "      <td>120</td>\n",
       "      <td>80</td>\n",
       "      <td>normal</td>\n",
       "      <td>normal</td>\n",
       "      <td>no</td>\n",
       "      <td>no</td>\n",
       "      <td>yes</td>\n",
       "      <td>no</td>\n",
       "      <td>19</td>\n",
       "    </tr>\n",
       "  </tbody>\n",
       "</table>\n",
       "</div>"
      ],
      "text/plain": [
       "       age  gender systolic blood pressure diastolic blood pressure  \\\n",
       "35772   47    male                     140                       90   \n",
       "30537   56  female                     140                       90   \n",
       "26203   54  female                     110                       70   \n",
       "13354   50    male                     130                       80   \n",
       "68140   52  female                     120                       80   \n",
       "\n",
       "       cholesterol level      glucose level smoke alcohol intake active  \\\n",
       "35772             normal             normal    no             no    yes   \n",
       "30537  well above normal  well above normal    no             no    yes   \n",
       "26203             normal             normal    no             no    yes   \n",
       "13354             normal             normal    no             no     no   \n",
       "68140             normal             normal    no             no    yes   \n",
       "\n",
       "      cardiovascular illness  body mass index  \n",
       "35772                    yes               29  \n",
       "30537                    yes               28  \n",
       "26203                     no               19  \n",
       "13354                     no               30  \n",
       "68140                     no               19  "
      ]
     },
     "execution_count": 13,
     "metadata": {},
     "output_type": "execute_result"
    }
   ],
   "source": [
    "df2 = df1.copy()\n",
    "df2['body mass index'] = ((df2['weight_kg']) / ((df2['height_meter']) ** 2)).round().astype(int)\n",
    "#df2['body mass index'] = (df2['weight_kg']/ ((df2['height_meter'])**2)).astype(int)\n",
    "\n",
    "df2.drop(columns=['id','height','weight','height_meter','weight_kg'], inplace=True)\n",
    "df2.sample(n=5)"
   ]
  },
  {
   "cell_type": "code",
   "execution_count": 23,
   "metadata": {},
   "outputs": [
    {
     "data": {
      "text/plain": [
       "32497"
      ]
     },
     "execution_count": 23,
     "metadata": {},
     "output_type": "execute_result"
    }
   ],
   "source": [
    "df2.duplicated(keep=False).sum()"
   ]
  },
  {
   "cell_type": "code",
   "execution_count": 17,
   "metadata": {
    "execution": {
     "iopub.execute_input": "2024-04-26T18:46:43.408291Z",
     "iopub.status.busy": "2024-04-26T18:46:43.407906Z",
     "iopub.status.idle": "2024-04-26T18:46:43.486645Z",
     "shell.execute_reply": "2024-04-26T18:46:43.485554Z",
     "shell.execute_reply.started": "2024-04-26T18:46:43.408264Z"
    }
   },
   "outputs": [],
   "source": [
    "# Remove the string 'normal' from 'diastolic blood pressure' column\n",
    "df3 = df2.copy()\n",
    "df3 = df3[df3['diastolic blood pressure'] != 'normal']\n",
    "\n",
    "# Filter diastolic blood pressure values between 50 and 140 (inclusive)\n",
    "df3 = df3[(df3['diastolic blood pressure'] >= 50) & (df3['diastolic blood pressure'] <= 140)]\n",
    "\n",
    "# Remove the string 'normal' from 'systolic blood pressure' column\n",
    "df3 = df3[df3['systolic blood pressure'] != 'normal']\n",
    "\n",
    "# Filter systolic blood pressure values between 80 and 190 (inclusive)\n",
    "df3 = df3[(df3['systolic blood pressure'] >= 80) & (df3['systolic blood pressure'] <= 190)]"
   ]
  },
  {
   "cell_type": "code",
   "execution_count": 18,
   "metadata": {
    "execution": {
     "iopub.execute_input": "2024-04-26T18:46:45.725916Z",
     "iopub.status.busy": "2024-04-26T18:46:45.725073Z",
     "iopub.status.idle": "2024-04-26T18:46:45.735279Z",
     "shell.execute_reply": "2024-04-26T18:46:45.734254Z",
     "shell.execute_reply.started": "2024-04-26T18:46:45.725880Z"
    }
   },
   "outputs": [
    {
     "data": {
      "text/plain": [
       "array([110, 140, 130, 150, 100, 120, 145, 170, 135, 125, 90, 180, 160,\n",
       "       133, 190, 80, 122, 169, 126, 158, 123, 161, 147, 115, 137, 153,\n",
       "       148, 105, 119, 141, 165, 164, 124, 172, 162, 117, 134, 166, 176,\n",
       "       116, 121, 112, 113, 118, 155, 142, 131, 157, 136, 146, 138, 159,\n",
       "       109, 85, 106, 129, 93, 95, 179, 156, 168, 132, 104, 103, 175, 128,\n",
       "       151, 139, 127, 108, 144, 102, 143, 107, 184, 178, 149, 167, 114,\n",
       "       101, 171, 111, 188, 185, 163, 173, 154, 177, 174, 152, 96, 99, 97,\n",
       "       187], dtype=object)"
      ]
     },
     "execution_count": 18,
     "metadata": {},
     "output_type": "execute_result"
    }
   ],
   "source": [
    "df3['systolic blood pressure'].unique()"
   ]
  },
  {
   "cell_type": "code",
   "execution_count": 21,
   "metadata": {
    "execution": {
     "iopub.execute_input": "2024-04-26T18:46:47.168838Z",
     "iopub.status.busy": "2024-04-26T18:46:47.167996Z",
     "iopub.status.idle": "2024-04-26T18:46:47.209965Z",
     "shell.execute_reply": "2024-04-26T18:46:47.208481Z",
     "shell.execute_reply.started": "2024-04-26T18:46:47.168801Z"
    }
   },
   "outputs": [
    {
     "name": "stdout",
     "output_type": "stream",
     "text": [
      "<class 'pandas.core.frame.DataFrame'>\n",
      "Int64Index: 68562 entries, 0 to 69999\n",
      "Data columns (total 11 columns):\n",
      " #   Column                    Non-Null Count  Dtype \n",
      "---  ------                    --------------  ----- \n",
      " 0   age                       68562 non-null  int32 \n",
      " 1   gender                    68562 non-null  object\n",
      " 2   systolic blood pressure   68562 non-null  object\n",
      " 3   diastolic blood pressure  68562 non-null  object\n",
      " 4   cholesterol level         68562 non-null  object\n",
      " 5   glucose level             68562 non-null  object\n",
      " 6   smoke                     68562 non-null  object\n",
      " 7   alcohol intake            68562 non-null  object\n",
      " 8   active                    68562 non-null  object\n",
      " 9   cardiovascular illness    68562 non-null  object\n",
      " 10  body mass index           68562 non-null  int32 \n",
      "dtypes: int32(2), object(9)\n",
      "memory usage: 5.8+ MB\n"
     ]
    }
   ],
   "source": [
    "df3.info()"
   ]
  },
  {
   "cell_type": "code",
   "execution_count": 22,
   "metadata": {
    "execution": {
     "iopub.execute_input": "2024-04-26T18:14:17.630198Z",
     "iopub.status.busy": "2024-04-26T18:14:17.629824Z",
     "iopub.status.idle": "2024-04-26T18:14:17.635129Z",
     "shell.execute_reply": "2024-04-26T18:14:17.633878Z",
     "shell.execute_reply.started": "2024-04-26T18:14:17.630172Z"
    }
   },
   "outputs": [],
   "source": [
    "#systolic = 90-180mmHg\n",
    "#diastolic = 60-120mmHg"
   ]
  },
  {
   "cell_type": "code",
   "execution_count": 24,
   "metadata": {
    "execution": {
     "iopub.execute_input": "2024-04-26T18:46:52.481779Z",
     "iopub.status.busy": "2024-04-26T18:46:52.480660Z",
     "iopub.status.idle": "2024-04-26T18:46:52.557967Z",
     "shell.execute_reply": "2024-04-26T18:46:52.556773Z",
     "shell.execute_reply.started": "2024-04-26T18:46:52.481728Z"
    }
   },
   "outputs": [
    {
     "data": {
      "text/plain": [
       "32471"
      ]
     },
     "execution_count": 24,
     "metadata": {},
     "output_type": "execute_result"
    }
   ],
   "source": [
    "# sum of duplicated values in the DataFrame\n",
    "df3.duplicated(keep=False).sum()"
   ]
  },
  {
   "cell_type": "code",
   "execution_count": 25,
   "metadata": {
    "execution": {
     "iopub.execute_input": "2024-04-26T18:23:44.486562Z",
     "iopub.status.busy": "2024-04-26T18:23:44.486123Z",
     "iopub.status.idle": "2024-04-26T18:23:44.491864Z",
     "shell.execute_reply": "2024-04-26T18:23:44.490654Z",
     "shell.execute_reply.started": "2024-04-26T18:23:44.486528Z"
    }
   },
   "outputs": [],
   "source": [
    "df4 = df3.drop_duplicates(keep= 'first')"
   ]
  },
  {
   "cell_type": "code",
   "execution_count": 26,
   "metadata": {
    "execution": {
     "iopub.execute_input": "2024-04-26T18:46:56.930615Z",
     "iopub.status.busy": "2024-04-26T18:46:56.930166Z",
     "iopub.status.idle": "2024-04-26T18:46:56.983953Z",
     "shell.execute_reply": "2024-04-26T18:46:56.982602Z",
     "shell.execute_reply.started": "2024-04-26T18:46:56.930579Z"
    }
   },
   "outputs": [
    {
     "data": {
      "text/plain": [
       "0"
      ]
     },
     "execution_count": 26,
     "metadata": {},
     "output_type": "execute_result"
    }
   ],
   "source": [
    "df4.duplicated(keep=False).sum()"
   ]
  },
  {
   "cell_type": "code",
   "execution_count": 27,
   "metadata": {},
   "outputs": [
    {
     "name": "stdout",
     "output_type": "stream",
     "text": [
      "<class 'pandas.core.frame.DataFrame'>\n",
      "Int64Index: 44266 entries, 0 to 69999\n",
      "Data columns (total 11 columns):\n",
      " #   Column                    Non-Null Count  Dtype \n",
      "---  ------                    --------------  ----- \n",
      " 0   age                       44266 non-null  int32 \n",
      " 1   gender                    44266 non-null  object\n",
      " 2   systolic blood pressure   44266 non-null  object\n",
      " 3   diastolic blood pressure  44266 non-null  object\n",
      " 4   cholesterol level         44266 non-null  object\n",
      " 5   glucose level             44266 non-null  object\n",
      " 6   smoke                     44266 non-null  object\n",
      " 7   alcohol intake            44266 non-null  object\n",
      " 8   active                    44266 non-null  object\n",
      " 9   cardiovascular illness    44266 non-null  object\n",
      " 10  body mass index           44266 non-null  int32 \n",
      "dtypes: int32(2), object(9)\n",
      "memory usage: 3.7+ MB\n"
     ]
    }
   ],
   "source": [
    "df4.info()"
   ]
  },
  {
   "cell_type": "code",
   "execution_count": 42,
   "metadata": {
    "execution": {
     "iopub.execute_input": "2024-04-26T18:56:06.734314Z",
     "iopub.status.busy": "2024-04-26T18:56:06.733849Z",
     "iopub.status.idle": "2024-04-26T18:56:06.747103Z",
     "shell.execute_reply": "2024-04-26T18:56:06.745749Z",
     "shell.execute_reply.started": "2024-04-26T18:56:06.734283Z"
    }
   },
   "outputs": [
    {
     "name": "stderr",
     "output_type": "stream",
     "text": [
      "C:\\Users\\HP REVOLVE\\AppData\\Local\\Temp\\ipykernel_4092\\31611569.py:1: SettingWithCopyWarning: \n",
      "A value is trying to be set on a copy of a slice from a DataFrame.\n",
      "Try using .loc[row_indexer,col_indexer] = value instead\n",
      "\n",
      "See the caveats in the documentation: https://pandas.pydata.org/pandas-docs/stable/user_guide/indexing.html#returning-a-view-versus-a-copy\n",
      "  df4['diastolic blood pressure'] = df4['diastolic blood pressure'].astype(int)\n",
      "C:\\Users\\HP REVOLVE\\AppData\\Local\\Temp\\ipykernel_4092\\31611569.py:2: SettingWithCopyWarning: \n",
      "A value is trying to be set on a copy of a slice from a DataFrame.\n",
      "Try using .loc[row_indexer,col_indexer] = value instead\n",
      "\n",
      "See the caveats in the documentation: https://pandas.pydata.org/pandas-docs/stable/user_guide/indexing.html#returning-a-view-versus-a-copy\n",
      "  df4['systolic blood pressure'] = df4['systolic blood pressure'].astype(int)\n"
     ]
    }
   ],
   "source": [
    "df4['diastolic blood pressure'] = df4['diastolic blood pressure'].astype(int)\n",
    "df4['systolic blood pressure'] = df4['systolic blood pressure'].astype(int)"
   ]
  },
  {
   "cell_type": "code",
   "execution_count": 43,
   "metadata": {
    "execution": {
     "iopub.execute_input": "2024-04-26T18:47:07.069804Z",
     "iopub.status.busy": "2024-04-26T18:47:07.069118Z",
     "iopub.status.idle": "2024-04-26T18:47:07.723943Z",
     "shell.execute_reply": "2024-04-26T18:47:07.722924Z",
     "shell.execute_reply.started": "2024-04-26T18:47:07.069770Z"
    }
   },
   "outputs": [],
   "source": [
    "import matplotlib.pyplot as plt\n",
    "import seaborn as sns\n",
    "import altair as alt"
   ]
  },
  {
   "cell_type": "code",
   "execution_count": 44,
   "metadata": {
    "execution": {
     "iopub.execute_input": "2024-04-26T18:47:10.537338Z",
     "iopub.status.busy": "2024-04-26T18:47:10.536729Z",
     "iopub.status.idle": "2024-04-26T18:47:11.257139Z",
     "shell.execute_reply": "2024-04-26T18:47:11.255891Z",
     "shell.execute_reply.started": "2024-04-26T18:47:10.537303Z"
    }
   },
   "outputs": [
    {
     "data": {
      "image/png": "[encoded data removed]",
      "text/plain": [
       "<Figure size 1200x800 with 4 Axes>"
      ]
     },
     "metadata": {},
     "output_type": "display_data"
    }
   ],
   "source": [
    "df4.hist(bins =10, figsize=(12,8))\n",
    "plt.show()"
   ]
  },
  {
   "cell_type": "code",
   "execution_count": 45,
   "metadata": {
    "execution": {
     "iopub.execute_input": "2024-04-26T18:57:50.680130Z",
     "iopub.status.busy": "2024-04-26T18:57:50.679746Z",
     "iopub.status.idle": "2024-04-26T18:57:50.712943Z",
     "shell.execute_reply": "2024-04-26T18:57:50.711965Z",
     "shell.execute_reply.started": "2024-04-26T18:57:50.680096Z"
    }
   },
   "outputs": [],
   "source": [
    "from sklearn.model_selection import train_test_split\n",
    "train_set , test_set = train_test_split(df4, test_size=0.2, random_state=42)"
   ]
  },
  {
   "cell_type": "code",
   "execution_count": 46,
   "metadata": {
    "execution": {
     "iopub.execute_input": "2024-04-26T18:57:53.325382Z",
     "iopub.status.busy": "2024-04-26T18:57:53.324277Z",
     "iopub.status.idle": "2024-04-26T18:57:53.343298Z",
     "shell.execute_reply": "2024-04-26T18:57:53.342230Z",
     "shell.execute_reply.started": "2024-04-26T18:57:53.325339Z"
    }
   },
   "outputs": [
    {
     "data": {
      "text/html": [
       "<div>\n",
       "<style scoped>\n",
       "    .dataframe tbody tr th:only-of-type {\n",
       "        vertical-align: middle;\n",
       "    }\n",
       "\n",
       "    .dataframe tbody tr th {\n",
       "        vertical-align: top;\n",
       "    }\n",
       "\n",
       "    .dataframe thead th {\n",
       "        text-align: right;\n",
       "    }\n",
       "</style>\n",
       "<table border=\"1\" class=\"dataframe\">\n",
       "  <thead>\n",
       "    <tr style=\"text-align: right;\">\n",
       "      <th></th>\n",
       "      <th>age</th>\n",
       "      <th>gender</th>\n",
       "      <th>systolic blood pressure</th>\n",
       "      <th>diastolic blood pressure</th>\n",
       "      <th>cholesterol level</th>\n",
       "      <th>glucose level</th>\n",
       "      <th>smoke</th>\n",
       "      <th>alcohol intake</th>\n",
       "      <th>active</th>\n",
       "      <th>cardiovascular illness</th>\n",
       "      <th>body mass index</th>\n",
       "    </tr>\n",
       "  </thead>\n",
       "  <tbody>\n",
       "    <tr>\n",
       "      <th>15465</th>\n",
       "      <td>43</td>\n",
       "      <td>female</td>\n",
       "      <td>110</td>\n",
       "      <td>70</td>\n",
       "      <td>normal</td>\n",
       "      <td>normal</td>\n",
       "      <td>no</td>\n",
       "      <td>no</td>\n",
       "      <td>no</td>\n",
       "      <td>no</td>\n",
       "      <td>30</td>\n",
       "    </tr>\n",
       "    <tr>\n",
       "      <th>58816</th>\n",
       "      <td>54</td>\n",
       "      <td>female</td>\n",
       "      <td>130</td>\n",
       "      <td>100</td>\n",
       "      <td>normal</td>\n",
       "      <td>normal</td>\n",
       "      <td>no</td>\n",
       "      <td>no</td>\n",
       "      <td>yes</td>\n",
       "      <td>yes</td>\n",
       "      <td>28</td>\n",
       "    </tr>\n",
       "    <tr>\n",
       "      <th>68912</th>\n",
       "      <td>50</td>\n",
       "      <td>female</td>\n",
       "      <td>150</td>\n",
       "      <td>100</td>\n",
       "      <td>above normal</td>\n",
       "      <td>above normal</td>\n",
       "      <td>no</td>\n",
       "      <td>no</td>\n",
       "      <td>yes</td>\n",
       "      <td>yes</td>\n",
       "      <td>31</td>\n",
       "    </tr>\n",
       "    <tr>\n",
       "      <th>68498</th>\n",
       "      <td>54</td>\n",
       "      <td>male</td>\n",
       "      <td>120</td>\n",
       "      <td>80</td>\n",
       "      <td>normal</td>\n",
       "      <td>normal</td>\n",
       "      <td>no</td>\n",
       "      <td>no</td>\n",
       "      <td>no</td>\n",
       "      <td>yes</td>\n",
       "      <td>33</td>\n",
       "    </tr>\n",
       "    <tr>\n",
       "      <th>32348</th>\n",
       "      <td>56</td>\n",
       "      <td>female</td>\n",
       "      <td>130</td>\n",
       "      <td>90</td>\n",
       "      <td>normal</td>\n",
       "      <td>normal</td>\n",
       "      <td>no</td>\n",
       "      <td>no</td>\n",
       "      <td>no</td>\n",
       "      <td>yes</td>\n",
       "      <td>23</td>\n",
       "    </tr>\n",
       "  </tbody>\n",
       "</table>\n",
       "</div>"
      ],
      "text/plain": [
       "       age  gender  systolic blood pressure  diastolic blood pressure  \\\n",
       "15465   43  female                      110                        70   \n",
       "58816   54  female                      130                       100   \n",
       "68912   50  female                      150                       100   \n",
       "68498   54    male                      120                        80   \n",
       "32348   56  female                      130                        90   \n",
       "\n",
       "      cholesterol level glucose level smoke alcohol intake active  \\\n",
       "15465            normal        normal    no             no     no   \n",
       "58816            normal        normal    no             no    yes   \n",
       "68912      above normal  above normal    no             no    yes   \n",
       "68498            normal        normal    no             no     no   \n",
       "32348            normal        normal    no             no     no   \n",
       "\n",
       "      cardiovascular illness  body mass index  \n",
       "15465                     no               30  \n",
       "58816                    yes               28  \n",
       "68912                    yes               31  \n",
       "68498                    yes               33  \n",
       "32348                    yes               23  "
      ]
     },
     "execution_count": 46,
     "metadata": {},
     "output_type": "execute_result"
    }
   ],
   "source": [
    "train_set.head()"
   ]
  },
  {
   "cell_type": "code",
   "execution_count": 47,
   "metadata": {
    "execution": {
     "iopub.execute_input": "2024-04-26T18:58:04.112146Z",
     "iopub.status.busy": "2024-04-26T18:58:04.111758Z",
     "iopub.status.idle": "2024-04-26T18:58:04.127350Z",
     "shell.execute_reply": "2024-04-26T18:58:04.126511Z",
     "shell.execute_reply.started": "2024-04-26T18:58:04.112117Z"
    }
   },
   "outputs": [],
   "source": [
    "#train_set.head()\n",
    "X = train_set.drop(columns=['cardiovascular illness'])\n",
    "y = train_set['cardiovascular illness'].copy()"
   ]
  },
  {
   "cell_type": "code",
   "execution_count": 48,
   "metadata": {
    "execution": {
     "iopub.execute_input": "2024-04-26T18:58:08.348384Z",
     "iopub.status.busy": "2024-04-26T18:58:08.347993Z",
     "iopub.status.idle": "2024-04-26T18:58:08.355899Z",
     "shell.execute_reply": "2024-04-26T18:58:08.354662Z",
     "shell.execute_reply.started": "2024-04-26T18:58:08.348353Z"
    }
   },
   "outputs": [],
   "source": [
    "from sklearn.preprocessing import StandardScaler, OneHotEncoder\n",
    "from sklearn.impute import SimpleImputer\n",
    "from sklearn.pipeline import Pipeline, make_pipeline\n",
    "from sklearn.compose import ColumnTransformer\n",
    "\n",
    "num_pipeline = make_pipeline(SimpleImputer(strategy=\"median\"), StandardScaler())\n",
    "\n",
    "numerical_features = ['age', 'body mass index','systolic blood pressure', 'diastolic blood pressure']\n",
    "categorical_features = ['gender', 'cholesterol level','glucose level', 'smoke', 'alcohol intake', 'active']\n",
    "\n",
    "cat_pipeline = make_pipeline(\n",
    "    SimpleImputer(strategy=\"most_frequent\"),\n",
    "    OneHotEncoder(handle_unknown=\"ignore\"))\n",
    "\n",
    "preprocessing = ColumnTransformer([\n",
    "    (\"num\", num_pipeline, numerical_features),\n",
    "    (\"cat\", cat_pipeline, categorical_features),\n",
    "])"
   ]
  },
  {
   "cell_type": "code",
   "execution_count": 49,
   "metadata": {
    "execution": {
     "iopub.execute_input": "2024-04-26T13:42:23.455383Z",
     "iopub.status.busy": "2024-04-26T13:42:23.454449Z",
     "iopub.status.idle": "2024-04-26T13:42:23.461967Z",
     "shell.execute_reply": "2024-04-26T13:42:23.460910Z",
     "shell.execute_reply.started": "2024-04-26T13:42:23.455347Z"
    }
   },
   "outputs": [
    {
     "name": "stdout",
     "output_type": "stream",
     "text": [
      "<class 'pandas.core.frame.DataFrame'>\n",
      "Int64Index: 35412 entries, 15465 to 20699\n",
      "Data columns (total 10 columns):\n",
      " #   Column                    Non-Null Count  Dtype \n",
      "---  ------                    --------------  ----- \n",
      " 0   age                       35412 non-null  int32 \n",
      " 1   gender                    35412 non-null  object\n",
      " 2   systolic blood pressure   35412 non-null  int32 \n",
      " 3   diastolic blood pressure  35412 non-null  int32 \n",
      " 4   cholesterol level         35412 non-null  object\n",
      " 5   glucose level             35412 non-null  object\n",
      " 6   smoke                     35412 non-null  object\n",
      " 7   alcohol intake            35412 non-null  object\n",
      " 8   active                    35412 non-null  object\n",
      " 9   body mass index           35412 non-null  int32 \n",
      "dtypes: int32(4), object(6)\n",
      "memory usage: 2.4+ MB\n"
     ]
    }
   ],
   "source": [
    "# correlation\n",
    "X.info()"
   ]
  },
  {
   "cell_type": "code",
   "execution_count": 50,
   "metadata": {
    "execution": {
     "iopub.execute_input": "2024-04-26T18:58:45.659499Z",
     "iopub.status.busy": "2024-04-26T18:58:45.659054Z",
     "iopub.status.idle": "2024-04-26T18:58:45.664145Z",
     "shell.execute_reply": "2024-04-26T18:58:45.662868Z",
     "shell.execute_reply.started": "2024-04-26T18:58:45.659464Z"
    }
   },
   "outputs": [],
   "source": [
    "# df4['systolic blood pressure'].value_counts()\n",
    "# X.info()"
   ]
  },
  {
   "cell_type": "code",
   "execution_count": 51,
   "metadata": {
    "execution": {
     "iopub.execute_input": "2024-04-26T18:58:48.402289Z",
     "iopub.status.busy": "2024-04-26T18:58:48.401872Z",
     "iopub.status.idle": "2024-04-26T18:58:48.407284Z",
     "shell.execute_reply": "2024-04-26T18:58:48.406284Z",
     "shell.execute_reply.started": "2024-04-26T18:58:48.402260Z"
    }
   },
   "outputs": [],
   "source": [
    "from sklearn.compose import make_column_selector, make_column_transformer\n",
    "\n",
    "preprocessing = make_column_transformer(\n",
    "    (num_pipeline, make_column_selector(dtype_include=np.number)),\n",
    "    (cat_pipeline, make_column_selector(dtype_include=object)),\n",
    ")"
   ]
  },
  {
   "cell_type": "code",
   "execution_count": 52,
   "metadata": {
    "execution": {
     "iopub.execute_input": "2024-04-26T19:01:05.229924Z",
     "iopub.status.busy": "2024-04-26T19:01:05.229406Z",
     "iopub.status.idle": "2024-04-26T19:01:05.453433Z",
     "shell.execute_reply": "2024-04-26T19:01:05.452227Z",
     "shell.execute_reply.started": "2024-04-26T19:01:05.229886Z"
    }
   },
   "outputs": [],
   "source": [
    "X_prepared = preprocessing.fit_transform(X)"
   ]
  },
  {
   "cell_type": "code",
   "execution_count": 53,
   "metadata": {
    "execution": {
     "iopub.execute_input": "2024-04-26T19:01:08.432175Z",
     "iopub.status.busy": "2024-04-26T19:01:08.431675Z",
     "iopub.status.idle": "2024-04-26T19:01:08.439483Z",
     "shell.execute_reply": "2024-04-26T19:01:08.438615Z",
     "shell.execute_reply.started": "2024-04-26T19:01:08.432137Z"
    }
   },
   "outputs": [
    {
     "data": {
      "text/plain": [
       "array([[-1.47003384, -1.03458237, -1.13663481, ...,  0.        ,\n",
       "         1.        ,  0.        ],\n",
       "       [ 0.13550995,  0.05460549,  1.67323289, ...,  0.        ,\n",
       "         0.        ,  1.        ],\n",
       "       [-0.44832415,  1.14379335,  1.67323289, ...,  0.        ,\n",
       "         0.        ,  1.        ],\n",
       "       ...,\n",
       "       [ 1.15721964,  1.68838728,  1.67323289, ...,  0.        ,\n",
       "         0.        ,  1.        ],\n",
       "       [ 0.71934406, -1.5791763 , -1.13663481, ...,  0.        ,\n",
       "         1.        ,  0.        ],\n",
       "       [-0.44832415,  0.59919942,  0.73661032, ...,  0.        ,\n",
       "         0.        ,  1.        ]])"
      ]
     },
     "execution_count": 53,
     "metadata": {},
     "output_type": "execute_result"
    }
   ],
   "source": [
    "X_prepared"
   ]
  },
  {
   "cell_type": "code",
   "execution_count": 54,
   "metadata": {
    "execution": {
     "iopub.execute_input": "2024-04-26T19:01:21.622160Z",
     "iopub.status.busy": "2024-04-26T19:01:21.621673Z",
     "iopub.status.idle": "2024-04-26T19:01:21.627614Z",
     "shell.execute_reply": "2024-04-26T19:01:21.626207Z",
     "shell.execute_reply.started": "2024-04-26T19:01:21.622126Z"
    }
   },
   "outputs": [],
   "source": [
    "# X"
   ]
  },
  {
   "cell_type": "code",
   "execution_count": 55,
   "metadata": {
    "execution": {
     "iopub.execute_input": "2024-04-26T19:01:33.243866Z",
     "iopub.status.busy": "2024-04-26T19:01:33.243422Z",
     "iopub.status.idle": "2024-04-26T19:01:33.248351Z",
     "shell.execute_reply": "2024-04-26T19:01:33.247166Z",
     "shell.execute_reply.started": "2024-04-26T19:01:33.243832Z"
    }
   },
   "outputs": [],
   "source": [
    "# X['active'].unique()"
   ]
  },
  {
   "cell_type": "code",
   "execution_count": 60,
   "metadata": {
    "execution": {
     "iopub.execute_input": "2024-04-26T19:01:46.331800Z",
     "iopub.status.busy": "2024-04-26T19:01:46.330580Z",
     "iopub.status.idle": "2024-04-26T19:01:46.356971Z",
     "shell.execute_reply": "2024-04-26T19:01:46.355516Z",
     "shell.execute_reply.started": "2024-04-26T19:01:46.331738Z"
    }
   },
   "outputs": [],
   "source": [
    "#X_prepared_fr = pd.DataFrame(\n",
    "    #X_prepared,\n",
    "    #columns=preprocessing.get_feature_names_out(),\n",
    "    #index=X.index)\n",
    "#X_prepared_fr.head(2)"
   ]
  },
  {
   "cell_type": "code",
   "execution_count": 61,
   "metadata": {
    "execution": {
     "iopub.execute_input": "2024-04-26T19:01:52.728373Z",
     "iopub.status.busy": "2024-04-26T19:01:52.727976Z",
     "iopub.status.idle": "2024-04-26T19:01:53.288371Z",
     "shell.execute_reply": "2024-04-26T19:01:53.287543Z",
     "shell.execute_reply.started": "2024-04-26T19:01:52.728346Z"
    }
   },
   "outputs": [
    {
     "data": {
      "text/plain": [
       "Pipeline(steps=[('columntransformer',\n",
       "                 ColumnTransformer(transformers=[('pipeline-1',\n",
       "                                                  Pipeline(steps=[('simpleimputer',\n",
       "                                                                   SimpleImputer(strategy='median')),\n",
       "                                                                  ('standardscaler',\n",
       "                                                                   StandardScaler())]),\n",
       "                                                  <sklearn.compose._column_transformer.make_column_selector object at 0x0000018D578011F0>),\n",
       "                                                 ('pipeline-2',\n",
       "                                                  Pipeline(steps=[('simpleimputer',\n",
       "                                                                   SimpleImputer(strategy='most_frequent')),\n",
       "                                                                  ('onehotencoder',\n",
       "                                                                   OneHotEncoder(handle_unknown='ignore'))]),\n",
       "                                                  <sklearn.compose._column_transformer.make_column_selector object at 0x0000018D57801D30>)])),\n",
       "                ('logisticregression', LogisticRegression())])"
      ]
     },
     "execution_count": 61,
     "metadata": {},
     "output_type": "execute_result"
    }
   ],
   "source": [
    "from sklearn.linear_model import LogisticRegression\n",
    "log_clf = make_pipeline(preprocessing, LogisticRegression())\n",
    "log_clf.fit(X, y)"
   ]
  },
  {
   "cell_type": "code",
   "execution_count": 62,
   "metadata": {
    "execution": {
     "iopub.execute_input": "2024-04-26T19:02:02.796759Z",
     "iopub.status.busy": "2024-04-26T19:02:02.795415Z",
     "iopub.status.idle": "2024-04-26T19:02:02.940534Z",
     "shell.execute_reply": "2024-04-26T19:02:02.938653Z",
     "shell.execute_reply.started": "2024-04-26T19:02:02.796656Z"
    }
   },
   "outputs": [
    {
     "data": {
      "text/plain": [
       "array(['no', 'yes', 'yes', ..., 'yes', 'no', 'yes'], dtype=object)"
      ]
     },
     "execution_count": 62,
     "metadata": {},
     "output_type": "execute_result"
    }
   ],
   "source": [
    "train_predictions = log_clf.predict(X)\n",
    "train_predictions"
   ]
  },
  {
   "cell_type": "code",
   "execution_count": 63,
   "metadata": {
    "execution": {
     "iopub.execute_input": "2024-04-26T19:02:07.807916Z",
     "iopub.status.busy": "2024-04-26T19:02:07.807458Z",
     "iopub.status.idle": "2024-04-26T19:02:10.110667Z",
     "shell.execute_reply": "2024-04-26T19:02:10.109886Z",
     "shell.execute_reply.started": "2024-04-26T19:02:07.807883Z"
    }
   },
   "outputs": [
    {
     "name": "stdout",
     "output_type": "stream",
     "text": [
      "              precision    recall  f1-score   support\n",
      "\n",
      "          no       0.68      0.64      0.66     15478\n",
      "         yes       0.73      0.76      0.75     19934\n",
      "\n",
      "    accuracy                           0.71     35412\n",
      "   macro avg       0.70      0.70      0.70     35412\n",
      "weighted avg       0.71      0.71      0.71     35412\n",
      "\n"
     ]
    }
   ],
   "source": [
    "from sklearn.metrics import confusion_matrix,classification_report\n",
    "\n",
    "print(classification_report(y, train_predictions))"
   ]
  },
  {
   "cell_type": "code",
   "execution_count": 64,
   "metadata": {
    "execution": {
     "iopub.execute_input": "2024-04-26T19:03:29.365959Z",
     "iopub.status.busy": "2024-04-26T19:03:29.365540Z",
     "iopub.status.idle": "2024-04-26T19:03:29.371325Z",
     "shell.execute_reply": "2024-04-26T19:03:29.370030Z",
     "shell.execute_reply.started": "2024-04-26T19:03:29.365930Z"
    }
   },
   "outputs": [],
   "source": [
    "# test_set.info()"
   ]
  },
  {
   "cell_type": "code",
   "execution_count": 65,
   "metadata": {
    "execution": {
     "iopub.execute_input": "2024-04-26T19:03:34.543388Z",
     "iopub.status.busy": "2024-04-26T19:03:34.542953Z",
     "iopub.status.idle": "2024-04-26T19:03:34.551758Z",
     "shell.execute_reply": "2024-04-26T19:03:34.550534Z",
     "shell.execute_reply.started": "2024-04-26T19:03:34.543358Z"
    }
   },
   "outputs": [],
   "source": [
    "X_test = test_set.drop('cardiovascular illness', axis=1)\n",
    "y_test = test_set['cardiovascular illness'].copy()"
   ]
  },
  {
   "cell_type": "code",
   "execution_count": 66,
   "metadata": {
    "execution": {
     "iopub.execute_input": "2024-04-26T19:04:05.240516Z",
     "iopub.status.busy": "2024-04-26T19:04:05.239739Z",
     "iopub.status.idle": "2024-04-26T19:04:05.286082Z",
     "shell.execute_reply": "2024-04-26T19:04:05.284800Z",
     "shell.execute_reply.started": "2024-04-26T19:04:05.240465Z"
    }
   },
   "outputs": [],
   "source": [
    "test_predictions1 = log_clf.predict(X_test)"
   ]
  },
  {
   "cell_type": "code",
   "execution_count": 67,
   "metadata": {
    "execution": {
     "iopub.execute_input": "2024-04-26T19:04:38.285276Z",
     "iopub.status.busy": "2024-04-26T19:04:38.284688Z",
     "iopub.status.idle": "2024-04-26T19:04:38.847074Z",
     "shell.execute_reply": "2024-04-26T19:04:38.845799Z",
     "shell.execute_reply.started": "2024-04-26T19:04:38.285222Z"
    }
   },
   "outputs": [
    {
     "name": "stdout",
     "output_type": "stream",
     "text": [
      "              precision    recall  f1-score   support\n",
      "\n",
      "          no       0.68      0.63      0.66      3920\n",
      "         yes       0.72      0.76      0.74      4934\n",
      "\n",
      "    accuracy                           0.70      8854\n",
      "   macro avg       0.70      0.70      0.70      8854\n",
      "weighted avg       0.70      0.70      0.70      8854\n",
      "\n"
     ]
    }
   ],
   "source": [
    "print(classification_report(y_test, test_predictions1))"
   ]
  },
  {
   "cell_type": "code",
   "execution_count": 68,
   "metadata": {
    "execution": {
     "iopub.execute_input": "2024-04-26T19:05:46.534316Z",
     "iopub.status.busy": "2024-04-26T19:05:46.533151Z",
     "iopub.status.idle": "2024-04-26T19:06:59.034306Z",
     "shell.execute_reply": "2024-04-26T19:06:59.033194Z",
     "shell.execute_reply.started": "2024-04-26T19:05:46.534277Z"
    }
   },
   "outputs": [
    {
     "data": {
      "text/plain": [
       "Pipeline(steps=[('columntransformer',\n",
       "                 ColumnTransformer(transformers=[('pipeline-1',\n",
       "                                                  Pipeline(steps=[('simpleimputer',\n",
       "                                                                   SimpleImputer(strategy='median')),\n",
       "                                                                  ('standardscaler',\n",
       "                                                                   StandardScaler())]),\n",
       "                                                  <sklearn.compose._column_transformer.make_column_selector object at 0x0000018D578011F0>),\n",
       "                                                 ('pipeline-2',\n",
       "                                                  Pipeline(steps=[('simpleimputer',\n",
       "                                                                   SimpleImputer(strategy='most_frequent')),\n",
       "                                                                  ('onehotencoder',\n",
       "                                                                   OneHotEncoder(handle_unknown='ignore'))]),\n",
       "                                                  <sklearn.compose._column_transformer.make_column_selector object at 0x0000018D57801D30>)])),\n",
       "                ('randomforestclassifier',\n",
       "                 RandomForestClassifier(n_estimators=1000))])"
      ]
     },
     "execution_count": 68,
     "metadata": {},
     "output_type": "execute_result"
    }
   ],
   "source": [
    "from sklearn.ensemble import RandomForestClassifier\n",
    "\n",
    "rf_clf = make_pipeline(preprocessing, RandomForestClassifier(n_estimators=1_000))\n",
    "rf_clf.fit(X,y)"
   ]
  },
  {
   "cell_type": "code",
   "execution_count": 69,
   "metadata": {
    "execution": {
     "iopub.execute_input": "2024-04-26T19:07:06.156882Z",
     "iopub.status.busy": "2024-04-26T19:07:06.156159Z",
     "iopub.status.idle": "2024-04-26T19:07:11.077763Z",
     "shell.execute_reply": "2024-04-26T19:07:11.076662Z",
     "shell.execute_reply.started": "2024-04-26T19:07:06.156847Z"
    }
   },
   "outputs": [
    {
     "name": "stdout",
     "output_type": "stream",
     "text": [
      "              precision    recall  f1-score   support\n",
      "\n",
      "          no       0.56      0.52      0.54      3920\n",
      "         yes       0.64      0.67      0.66      4934\n",
      "\n",
      "    accuracy                           0.61      8854\n",
      "   macro avg       0.60      0.60      0.60      8854\n",
      "weighted avg       0.60      0.61      0.60      8854\n",
      "\n"
     ]
    }
   ],
   "source": [
    "test_predictions = rf_clf.predict(X_test)\n",
    "\n",
    "print(classification_report(y_test, test_predictions))"
   ]
  },
  {
   "cell_type": "code",
   "execution_count": 70,
   "metadata": {
    "execution": {
     "iopub.execute_input": "2024-04-26T19:15:26.512415Z",
     "iopub.status.busy": "2024-04-26T19:15:26.511324Z",
     "iopub.status.idle": "2024-04-26T19:15:26.527382Z",
     "shell.execute_reply": "2024-04-26T19:15:26.525898Z",
     "shell.execute_reply.started": "2024-04-26T19:15:26.512369Z"
    }
   },
   "outputs": [],
   "source": [
    "dict2 = {'no':0, 'yes':1}\n",
    "test_set['cardiovascular illness'] = test_set['cardiovascular illness'].replace(dict2)"
   ]
  },
  {
   "cell_type": "code",
   "execution_count": 71,
   "metadata": {
    "execution": {
     "iopub.execute_input": "2024-04-26T19:29:50.631676Z",
     "iopub.status.busy": "2024-04-26T19:29:50.631222Z",
     "iopub.status.idle": "2024-04-26T19:29:50.640960Z",
     "shell.execute_reply": "2024-04-26T19:29:50.639847Z",
     "shell.execute_reply.started": "2024-04-26T19:29:50.631645Z"
    }
   },
   "outputs": [],
   "source": [
    "X_test = test_set.drop(columns = ['cardiovascular illness'])\n",
    "y_test = test_set['cardiovascular illness'].copy()"
   ]
  },
  {
   "cell_type": "code",
   "execution_count": 72,
   "metadata": {
    "execution": {
     "iopub.execute_input": "2024-04-26T19:30:20.429786Z",
     "iopub.status.busy": "2024-04-26T19:30:20.428851Z",
     "iopub.status.idle": "2024-04-26T19:30:20.434346Z",
     "shell.execute_reply": "2024-04-26T19:30:20.433428Z",
     "shell.execute_reply.started": "2024-04-26T19:30:20.429744Z"
    }
   },
   "outputs": [],
   "source": [
    "#y_test"
   ]
  },
  {
   "cell_type": "code",
   "execution_count": 73,
   "metadata": {
    "execution": {
     "iopub.execute_input": "2024-04-26T19:17:31.881885Z",
     "iopub.status.busy": "2024-04-26T19:17:31.881414Z",
     "iopub.status.idle": "2024-04-26T19:17:31.922657Z",
     "shell.execute_reply": "2024-04-26T19:17:31.921408Z",
     "shell.execute_reply.started": "2024-04-26T19:17:31.881851Z"
    }
   },
   "outputs": [],
   "source": [
    "dict2 = {'no':0, 'yes':1}\n",
    "train_set['cardiovascular illness'] = train_set['cardiovascular illness'].replace(dict2)\n",
    "# train_set.head()"
   ]
  },
  {
   "cell_type": "code",
   "execution_count": 74,
   "metadata": {
    "execution": {
     "iopub.execute_input": "2024-04-26T19:25:37.577301Z",
     "iopub.status.busy": "2024-04-26T19:25:37.576948Z",
     "iopub.status.idle": "2024-04-26T19:25:37.587721Z",
     "shell.execute_reply": "2024-04-26T19:25:37.586926Z",
     "shell.execute_reply.started": "2024-04-26T19:25:37.577275Z"
    }
   },
   "outputs": [],
   "source": [
    "X_train = train_set.drop(columns=['cardiovascular illness'])\n",
    "y_train = train_set['cardiovascular illness'].copy()"
   ]
  },
  {
   "cell_type": "code",
   "execution_count": 75,
   "metadata": {
    "execution": {
     "iopub.execute_input": "2024-04-26T19:26:04.195396Z",
     "iopub.status.busy": "2024-04-26T19:26:04.194741Z",
     "iopub.status.idle": "2024-04-26T19:26:04.968155Z",
     "shell.execute_reply": "2024-04-26T19:26:04.966768Z",
     "shell.execute_reply.started": "2024-04-26T19:26:04.195345Z"
    }
   },
   "outputs": [
    {
     "data": {
      "text/plain": [
       "Pipeline(steps=[('columntransformer',\n",
       "                 ColumnTransformer(transformers=[('pipeline-1',\n",
       "                                                  Pipeline(steps=[('simpleimputer',\n",
       "                                                                   SimpleImputer(strategy='median')),\n",
       "                                                                  ('standardscaler',\n",
       "                                                                   StandardScaler())]),\n",
       "                                                  <sklearn.compose._column_transformer.make_column_selector object at 0x0000018D578011F0>),\n",
       "                                                 ('pipeline-2',\n",
       "                                                  Pipeline(steps=[('simpleimputer',\n",
       "                                                                   SimpleImputer(strategy='most_...\n",
       "                               feature_types=None, gamma=None, grow_policy=None,\n",
       "                               importance_type=None,\n",
       "                               interaction_constraints=None, learning_rate=None,\n",
       "                               max_bin=None, max_cat_threshold=None,\n",
       "                               max_cat_to_onehot=None, max_delta_step=None,\n",
       "                               max_depth=None, max_leaves=None,\n",
       "                               min_child_weight=None, missing=nan,\n",
       "                               monotone_constraints=None, multi_strategy=None,\n",
       "                               n_estimators=None, n_jobs=None,\n",
       "                               num_parallel_tree=None, random_state=None, ...))])"
      ]
     },
     "execution_count": 75,
     "metadata": {},
     "output_type": "execute_result"
    }
   ],
   "source": [
    "from xgboost import XGBClassifier\n",
    "\n",
    "xgb_clf = make_pipeline(preprocessing, XGBClassifier())\n",
    "xgb_clf.fit(X_train, y_train)"
   ]
  },
  {
   "cell_type": "code",
   "execution_count": 76,
   "metadata": {
    "execution": {
     "iopub.execute_input": "2024-04-26T19:31:49.251781Z",
     "iopub.status.busy": "2024-04-26T19:31:49.250535Z",
     "iopub.status.idle": "2024-04-26T19:31:49.342204Z",
     "shell.execute_reply": "2024-04-26T19:31:49.340907Z",
     "shell.execute_reply.started": "2024-04-26T19:31:49.251722Z"
    }
   },
   "outputs": [
    {
     "name": "stdout",
     "output_type": "stream",
     "text": [
      "              precision    recall  f1-score   support\n",
      "\n",
      "           0       0.67      0.65      0.66      3920\n",
      "           1       0.73      0.74      0.74      4934\n",
      "\n",
      "    accuracy                           0.70      8854\n",
      "   macro avg       0.70      0.70      0.70      8854\n",
      "weighted avg       0.70      0.70      0.70      8854\n",
      "\n"
     ]
    }
   ],
   "source": [
    "test_predictions3 = xgb_clf.predict(X_test)\n",
    "\n",
    "print(classification_report(y_test, test_predictions3))"
   ]
  },
  {
   "cell_type": "code",
   "execution_count": null,
   "metadata": {},
   "outputs": [],
   "source": []
  }
 ],
 "metadata": {
  "kaggle": {
   "accelerator": "none",
   "dataSources": [
    {
     "datasetId": 107706,
     "sourceId": 256873,
     "sourceType": "datasetVersion"
    }
   ],
   "dockerImageVersionId": 30698,
   "isGpuEnabled": false,
   "isInternetEnabled": true,
   "language": "python",
   "sourceType": "notebook"
  },
  "kernelspec": {
   "display_name": "Python 3 (ipykernel)",
   "language": "python",
   "name": "python3"
  },
  "language_info": {
   "codemirror_mode": {
    "name": "ipython",
    "version": 3
   },
   "file_extension": ".py",
   "mimetype": "text/x-python",
   "name": "python",
   "nbconvert_exporter": "python",
   "pygments_lexer": "ipython3",
   "version": "3.9.13"
  }
 },
 "nbformat": 4,
 "nbformat_minor": 4
}
