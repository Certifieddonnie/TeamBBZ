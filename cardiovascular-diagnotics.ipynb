{
 "cells": [
  {
   "cell_type": "code",
   "execution_count": 1,
   "id": "1bc956ea",
   "metadata": {
    "_cell_guid": "b1076dfc-b9ad-4769-8c92-a6c4dae69d19",
    "_uuid": "8f2839f25d086af736a60e9eeb907d3b93b6e0e5",
    "execution": {
     "iopub.execute_input": "2024-05-12T14:07:32.779564Z",
     "iopub.status.busy": "2024-05-12T14:07:32.778817Z",
     "iopub.status.idle": "2024-05-12T14:07:33.819158Z",
     "shell.execute_reply": "2024-05-12T14:07:33.817442Z"
    },
    "papermill": {
     "duration": 1.063141,
     "end_time": "2024-05-12T14:07:33.822516",
     "exception": false,
     "start_time": "2024-05-12T14:07:32.759375",
     "status": "completed"
    },
    "tags": []
   },
   "outputs": [
    {
     "name": "stdout",
     "output_type": "stream",
     "text": [
      "/kaggle/input/cardiovascular-disease-dataset/cardio_train.csv\n"
     ]
    }
   ],
   "source": [
    "# This Python 3 environment comes with many helpful analytics libraries installed\n",
    "# It is defined by the kaggle/python Docker image: https://github.com/kaggle/docker-python\n",
    "# For example, here's several helpful packages to load\n",
    "\n",
    "import numpy as np # linear algebra\n",
    "import pandas as pd # data processing, CSV file I/O (e.g. pd.read_csv)\n",
    "\n",
    "# Input data files are available in the read-only \"../input/\" directory\n",
    "# For example, running this (by clicking run or pressing Shift+Enter) will list all files under the input directory\n",
    "\n",
    "import os\n",
    "for dirname, _, filenames in os.walk('/kaggle/input'):\n",
    "    for filename in filenames:\n",
    "        print(os.path.join(dirname, filename))\n",
    "\n",
    "# You can write up to 20GB to the current directory (/kaggle/working/) that gets preserved as output when you create a version using \"Save & Run All\" \n",
    "# You can also write temporary files to /kaggle/temp/, but they won't be saved outside of the current session"
   ]
  },
  {
   "cell_type": "code",
   "execution_count": 2,
   "id": "37b4fd36",
   "metadata": {
    "execution": {
     "iopub.execute_input": "2024-05-12T14:07:33.859677Z",
     "iopub.status.busy": "2024-05-12T14:07:33.859076Z",
     "iopub.status.idle": "2024-05-12T14:07:34.060587Z",
     "shell.execute_reply": "2024-05-12T14:07:34.059146Z"
    },
    "papermill": {
     "duration": 0.22359,
     "end_time": "2024-05-12T14:07:34.063818",
     "exception": false,
     "start_time": "2024-05-12T14:07:33.840228",
     "status": "completed"
    },
    "tags": []
   },
   "outputs": [
    {
     "data": {
      "text/html": [
       "<div>\n",
       "<style scoped>\n",
       "    .dataframe tbody tr th:only-of-type {\n",
       "        vertical-align: middle;\n",
       "    }\n",
       "\n",
       "    .dataframe tbody tr th {\n",
       "        vertical-align: top;\n",
       "    }\n",
       "\n",
       "    .dataframe thead th {\n",
       "        text-align: right;\n",
       "    }\n",
       "</style>\n",
       "<table border=\"1\" class=\"dataframe\">\n",
       "  <thead>\n",
       "    <tr style=\"text-align: right;\">\n",
       "      <th></th>\n",
       "      <th>id</th>\n",
       "      <th>age</th>\n",
       "      <th>gender</th>\n",
       "      <th>height</th>\n",
       "      <th>weight</th>\n",
       "      <th>ap_hi</th>\n",
       "      <th>ap_lo</th>\n",
       "      <th>cholesterol</th>\n",
       "      <th>gluc</th>\n",
       "      <th>smoke</th>\n",
       "      <th>alco</th>\n",
       "      <th>active</th>\n",
       "      <th>cardio</th>\n",
       "    </tr>\n",
       "  </thead>\n",
       "  <tbody>\n",
       "    <tr>\n",
       "      <th>0</th>\n",
       "      <td>0</td>\n",
       "      <td>18393</td>\n",
       "      <td>2</td>\n",
       "      <td>168</td>\n",
       "      <td>62.0</td>\n",
       "      <td>110</td>\n",
       "      <td>80</td>\n",
       "      <td>1</td>\n",
       "      <td>1</td>\n",
       "      <td>0</td>\n",
       "      <td>0</td>\n",
       "      <td>1</td>\n",
       "      <td>0</td>\n",
       "    </tr>\n",
       "    <tr>\n",
       "      <th>1</th>\n",
       "      <td>1</td>\n",
       "      <td>20228</td>\n",
       "      <td>1</td>\n",
       "      <td>156</td>\n",
       "      <td>85.0</td>\n",
       "      <td>140</td>\n",
       "      <td>90</td>\n",
       "      <td>3</td>\n",
       "      <td>1</td>\n",
       "      <td>0</td>\n",
       "      <td>0</td>\n",
       "      <td>1</td>\n",
       "      <td>1</td>\n",
       "    </tr>\n",
       "    <tr>\n",
       "      <th>2</th>\n",
       "      <td>2</td>\n",
       "      <td>18857</td>\n",
       "      <td>1</td>\n",
       "      <td>165</td>\n",
       "      <td>64.0</td>\n",
       "      <td>130</td>\n",
       "      <td>70</td>\n",
       "      <td>3</td>\n",
       "      <td>1</td>\n",
       "      <td>0</td>\n",
       "      <td>0</td>\n",
       "      <td>0</td>\n",
       "      <td>1</td>\n",
       "    </tr>\n",
       "    <tr>\n",
       "      <th>3</th>\n",
       "      <td>3</td>\n",
       "      <td>17623</td>\n",
       "      <td>2</td>\n",
       "      <td>169</td>\n",
       "      <td>82.0</td>\n",
       "      <td>150</td>\n",
       "      <td>100</td>\n",
       "      <td>1</td>\n",
       "      <td>1</td>\n",
       "      <td>0</td>\n",
       "      <td>0</td>\n",
       "      <td>1</td>\n",
       "      <td>1</td>\n",
       "    </tr>\n",
       "    <tr>\n",
       "      <th>4</th>\n",
       "      <td>4</td>\n",
       "      <td>17474</td>\n",
       "      <td>1</td>\n",
       "      <td>156</td>\n",
       "      <td>56.0</td>\n",
       "      <td>100</td>\n",
       "      <td>60</td>\n",
       "      <td>1</td>\n",
       "      <td>1</td>\n",
       "      <td>0</td>\n",
       "      <td>0</td>\n",
       "      <td>0</td>\n",
       "      <td>0</td>\n",
       "    </tr>\n",
       "  </tbody>\n",
       "</table>\n",
       "</div>"
      ],
      "text/plain": [
       "   id    age  gender  height  weight  ap_hi  ap_lo  cholesterol  gluc  smoke  \\\n",
       "0   0  18393       2     168    62.0    110     80            1     1      0   \n",
       "1   1  20228       1     156    85.0    140     90            3     1      0   \n",
       "2   2  18857       1     165    64.0    130     70            3     1      0   \n",
       "3   3  17623       2     169    82.0    150    100            1     1      0   \n",
       "4   4  17474       1     156    56.0    100     60            1     1      0   \n",
       "\n",
       "   alco  active  cardio  \n",
       "0     0       1       0  \n",
       "1     0       1       1  \n",
       "2     0       0       1  \n",
       "3     0       1       1  \n",
       "4     0       0       0  "
      ]
     },
     "execution_count": 2,
     "metadata": {},
     "output_type": "execute_result"
    }
   ],
   "source": [
    "df = pd.read_csv('/kaggle/input/cardiovascular-disease-dataset/cardio_train.csv', sep=';')\n",
    "df.head()"
   ]
  },
  {
   "cell_type": "code",
   "execution_count": 3,
   "id": "b62f78b1",
   "metadata": {
    "execution": {
     "iopub.execute_input": "2024-05-12T14:07:34.100848Z",
     "iopub.status.busy": "2024-05-12T14:07:34.100270Z",
     "iopub.status.idle": "2024-05-12T14:07:34.106217Z",
     "shell.execute_reply": "2024-05-12T14:07:34.104901Z"
    },
    "papermill": {
     "duration": 0.028013,
     "end_time": "2024-05-12T14:07:34.108988",
     "exception": false,
     "start_time": "2024-05-12T14:07:34.080975",
     "status": "completed"
    },
    "tags": []
   },
   "outputs": [],
   "source": [
    "# age : (days)\n",
    "# gender(2: 'male', 1:'female')\n",
    "# ap_hi[systolic blood pressure]\n",
    "# ap_lo[diastolic blood pressure]\n",
    "# cholesterol level[ 1: normal, 2: above normal, 3: well above normal]\n",
    "# glucose level [1: normal, 2: above normal, 3: well above normal]\n",
    "# smoker [0: 'No', 1:'Yes']\n",
    "# alcohol_intake [0: 'No', 1:'Yes']\n",
    "# physical_activity [0: 'No', 1:'Yes']\n",
    "# cardiovascular_health [0:'Bad', 1:'Yes']"
   ]
  },
  {
   "cell_type": "code",
   "execution_count": 4,
   "id": "649e6d6f",
   "metadata": {
    "execution": {
     "iopub.execute_input": "2024-05-12T14:07:34.146982Z",
     "iopub.status.busy": "2024-05-12T14:07:34.146033Z",
     "iopub.status.idle": "2024-05-12T14:07:34.176640Z",
     "shell.execute_reply": "2024-05-12T14:07:34.174773Z"
    },
    "papermill": {
     "duration": 0.052315,
     "end_time": "2024-05-12T14:07:34.179362",
     "exception": false,
     "start_time": "2024-05-12T14:07:34.127047",
     "status": "completed"
    },
    "tags": []
   },
   "outputs": [
    {
     "name": "stdout",
     "output_type": "stream",
     "text": [
      "<class 'pandas.core.frame.DataFrame'>\n",
      "RangeIndex: 70000 entries, 0 to 69999\n",
      "Data columns (total 13 columns):\n",
      " #   Column       Non-Null Count  Dtype  \n",
      "---  ------       --------------  -----  \n",
      " 0   id           70000 non-null  int64  \n",
      " 1   age          70000 non-null  int64  \n",
      " 2   gender       70000 non-null  int64  \n",
      " 3   height       70000 non-null  int64  \n",
      " 4   weight       70000 non-null  float64\n",
      " 5   ap_hi        70000 non-null  int64  \n",
      " 6   ap_lo        70000 non-null  int64  \n",
      " 7   cholesterol  70000 non-null  int64  \n",
      " 8   gluc         70000 non-null  int64  \n",
      " 9   smoke        70000 non-null  int64  \n",
      " 10  alco         70000 non-null  int64  \n",
      " 11  active       70000 non-null  int64  \n",
      " 12  cardio       70000 non-null  int64  \n",
      "dtypes: float64(1), int64(12)\n",
      "memory usage: 6.9 MB\n"
     ]
    }
   ],
   "source": [
    "df.info()"
   ]
  },
  {
   "cell_type": "code",
   "execution_count": 5,
   "id": "cfd98dd0",
   "metadata": {
    "execution": {
     "iopub.execute_input": "2024-05-12T14:07:34.215944Z",
     "iopub.status.busy": "2024-05-12T14:07:34.215098Z",
     "iopub.status.idle": "2024-05-12T14:07:34.301599Z",
     "shell.execute_reply": "2024-05-12T14:07:34.300458Z"
    },
    "papermill": {
     "duration": 0.108092,
     "end_time": "2024-05-12T14:07:34.304400",
     "exception": false,
     "start_time": "2024-05-12T14:07:34.196308",
     "status": "completed"
    },
    "tags": []
   },
   "outputs": [
    {
     "data": {
      "text/html": [
       "<div>\n",
       "<style scoped>\n",
       "    .dataframe tbody tr th:only-of-type {\n",
       "        vertical-align: middle;\n",
       "    }\n",
       "\n",
       "    .dataframe tbody tr th {\n",
       "        vertical-align: top;\n",
       "    }\n",
       "\n",
       "    .dataframe thead th {\n",
       "        text-align: right;\n",
       "    }\n",
       "</style>\n",
       "<table border=\"1\" class=\"dataframe\">\n",
       "  <thead>\n",
       "    <tr style=\"text-align: right;\">\n",
       "      <th></th>\n",
       "      <th>count</th>\n",
       "      <th>mean</th>\n",
       "      <th>std</th>\n",
       "      <th>min</th>\n",
       "      <th>25%</th>\n",
       "      <th>50%</th>\n",
       "      <th>75%</th>\n",
       "      <th>max</th>\n",
       "    </tr>\n",
       "  </thead>\n",
       "  <tbody>\n",
       "    <tr>\n",
       "      <th>id</th>\n",
       "      <td>70000.0</td>\n",
       "      <td>49972.419900</td>\n",
       "      <td>28851.302323</td>\n",
       "      <td>0.0</td>\n",
       "      <td>25006.75</td>\n",
       "      <td>50001.5</td>\n",
       "      <td>74889.25</td>\n",
       "      <td>99999.0</td>\n",
       "    </tr>\n",
       "    <tr>\n",
       "      <th>age</th>\n",
       "      <td>70000.0</td>\n",
       "      <td>19468.865814</td>\n",
       "      <td>2467.251667</td>\n",
       "      <td>10798.0</td>\n",
       "      <td>17664.00</td>\n",
       "      <td>19703.0</td>\n",
       "      <td>21327.00</td>\n",
       "      <td>23713.0</td>\n",
       "    </tr>\n",
       "    <tr>\n",
       "      <th>gender</th>\n",
       "      <td>70000.0</td>\n",
       "      <td>1.349571</td>\n",
       "      <td>0.476838</td>\n",
       "      <td>1.0</td>\n",
       "      <td>1.00</td>\n",
       "      <td>1.0</td>\n",
       "      <td>2.00</td>\n",
       "      <td>2.0</td>\n",
       "    </tr>\n",
       "    <tr>\n",
       "      <th>height</th>\n",
       "      <td>70000.0</td>\n",
       "      <td>164.359229</td>\n",
       "      <td>8.210126</td>\n",
       "      <td>55.0</td>\n",
       "      <td>159.00</td>\n",
       "      <td>165.0</td>\n",
       "      <td>170.00</td>\n",
       "      <td>250.0</td>\n",
       "    </tr>\n",
       "    <tr>\n",
       "      <th>weight</th>\n",
       "      <td>70000.0</td>\n",
       "      <td>74.205690</td>\n",
       "      <td>14.395757</td>\n",
       "      <td>10.0</td>\n",
       "      <td>65.00</td>\n",
       "      <td>72.0</td>\n",
       "      <td>82.00</td>\n",
       "      <td>200.0</td>\n",
       "    </tr>\n",
       "    <tr>\n",
       "      <th>ap_hi</th>\n",
       "      <td>70000.0</td>\n",
       "      <td>128.817286</td>\n",
       "      <td>154.011419</td>\n",
       "      <td>-150.0</td>\n",
       "      <td>120.00</td>\n",
       "      <td>120.0</td>\n",
       "      <td>140.00</td>\n",
       "      <td>16020.0</td>\n",
       "    </tr>\n",
       "    <tr>\n",
       "      <th>ap_lo</th>\n",
       "      <td>70000.0</td>\n",
       "      <td>96.630414</td>\n",
       "      <td>188.472530</td>\n",
       "      <td>-70.0</td>\n",
       "      <td>80.00</td>\n",
       "      <td>80.0</td>\n",
       "      <td>90.00</td>\n",
       "      <td>11000.0</td>\n",
       "    </tr>\n",
       "    <tr>\n",
       "      <th>cholesterol</th>\n",
       "      <td>70000.0</td>\n",
       "      <td>1.366871</td>\n",
       "      <td>0.680250</td>\n",
       "      <td>1.0</td>\n",
       "      <td>1.00</td>\n",
       "      <td>1.0</td>\n",
       "      <td>2.00</td>\n",
       "      <td>3.0</td>\n",
       "    </tr>\n",
       "    <tr>\n",
       "      <th>gluc</th>\n",
       "      <td>70000.0</td>\n",
       "      <td>1.226457</td>\n",
       "      <td>0.572270</td>\n",
       "      <td>1.0</td>\n",
       "      <td>1.00</td>\n",
       "      <td>1.0</td>\n",
       "      <td>1.00</td>\n",
       "      <td>3.0</td>\n",
       "    </tr>\n",
       "    <tr>\n",
       "      <th>smoke</th>\n",
       "      <td>70000.0</td>\n",
       "      <td>0.088129</td>\n",
       "      <td>0.283484</td>\n",
       "      <td>0.0</td>\n",
       "      <td>0.00</td>\n",
       "      <td>0.0</td>\n",
       "      <td>0.00</td>\n",
       "      <td>1.0</td>\n",
       "    </tr>\n",
       "    <tr>\n",
       "      <th>alco</th>\n",
       "      <td>70000.0</td>\n",
       "      <td>0.053771</td>\n",
       "      <td>0.225568</td>\n",
       "      <td>0.0</td>\n",
       "      <td>0.00</td>\n",
       "      <td>0.0</td>\n",
       "      <td>0.00</td>\n",
       "      <td>1.0</td>\n",
       "    </tr>\n",
       "    <tr>\n",
       "      <th>active</th>\n",
       "      <td>70000.0</td>\n",
       "      <td>0.803729</td>\n",
       "      <td>0.397179</td>\n",
       "      <td>0.0</td>\n",
       "      <td>1.00</td>\n",
       "      <td>1.0</td>\n",
       "      <td>1.00</td>\n",
       "      <td>1.0</td>\n",
       "    </tr>\n",
       "    <tr>\n",
       "      <th>cardio</th>\n",
       "      <td>70000.0</td>\n",
       "      <td>0.499700</td>\n",
       "      <td>0.500003</td>\n",
       "      <td>0.0</td>\n",
       "      <td>0.00</td>\n",
       "      <td>0.0</td>\n",
       "      <td>1.00</td>\n",
       "      <td>1.0</td>\n",
       "    </tr>\n",
       "  </tbody>\n",
       "</table>\n",
       "</div>"
      ],
      "text/plain": [
       "               count          mean           std      min       25%      50%  \\\n",
       "id           70000.0  49972.419900  28851.302323      0.0  25006.75  50001.5   \n",
       "age          70000.0  19468.865814   2467.251667  10798.0  17664.00  19703.0   \n",
       "gender       70000.0      1.349571      0.476838      1.0      1.00      1.0   \n",
       "height       70000.0    164.359229      8.210126     55.0    159.00    165.0   \n",
       "weight       70000.0     74.205690     14.395757     10.0     65.00     72.0   \n",
       "ap_hi        70000.0    128.817286    154.011419   -150.0    120.00    120.0   \n",
       "ap_lo        70000.0     96.630414    188.472530    -70.0     80.00     80.0   \n",
       "cholesterol  70000.0      1.366871      0.680250      1.0      1.00      1.0   \n",
       "gluc         70000.0      1.226457      0.572270      1.0      1.00      1.0   \n",
       "smoke        70000.0      0.088129      0.283484      0.0      0.00      0.0   \n",
       "alco         70000.0      0.053771      0.225568      0.0      0.00      0.0   \n",
       "active       70000.0      0.803729      0.397179      0.0      1.00      1.0   \n",
       "cardio       70000.0      0.499700      0.500003      0.0      0.00      0.0   \n",
       "\n",
       "                  75%      max  \n",
       "id           74889.25  99999.0  \n",
       "age          21327.00  23713.0  \n",
       "gender           2.00      2.0  \n",
       "height         170.00    250.0  \n",
       "weight          82.00    200.0  \n",
       "ap_hi          140.00  16020.0  \n",
       "ap_lo           90.00  11000.0  \n",
       "cholesterol      2.00      3.0  \n",
       "gluc             1.00      3.0  \n",
       "smoke            0.00      1.0  \n",
       "alco             0.00      1.0  \n",
       "active           1.00      1.0  \n",
       "cardio           1.00      1.0  "
      ]
     },
     "execution_count": 5,
     "metadata": {},
     "output_type": "execute_result"
    }
   ],
   "source": [
    "df.describe().T"
   ]
  },
  {
   "cell_type": "code",
   "execution_count": 6,
   "id": "fc5b5e7a",
   "metadata": {
    "execution": {
     "iopub.execute_input": "2024-05-12T14:07:34.341604Z",
     "iopub.status.busy": "2024-05-12T14:07:34.340824Z",
     "iopub.status.idle": "2024-05-12T14:07:34.353050Z",
     "shell.execute_reply": "2024-05-12T14:07:34.351886Z"
    },
    "papermill": {
     "duration": 0.033586,
     "end_time": "2024-05-12T14:07:34.355497",
     "exception": false,
     "start_time": "2024-05-12T14:07:34.321911",
     "status": "completed"
    },
    "tags": []
   },
   "outputs": [],
   "source": [
    "features = ['id', 'age', 'gender', 'height', 'weight', 'ap_hi', 'ap_lo', 'cholesterol', 'gluc', 'smoke', 'alco', 'active', 'cardio']\n",
    "\n",
    "dict1 = {0: 'no', 1: 'yes'}\n",
    "dict2 = {1: 'normal', 2: 'above normal', 3: 'well above normal'}\n",
    "dict3 = {1: 'female', 2: 'male'}\n",
    "\n",
    "yes_no_features = ['smoke', 'alco', 'active', 'cardio']\n",
    "features2 = ['ap_hi', 'ap_lo', 'cholesterol', 'gluc']\n",
    "features3 = ['gender']\n",
    "features4 = ['age']\n",
    "\n",
    "def clean_df(df):\n",
    "    \"\"\"Cleans the dataframe and ensures uniformity of the dataset\"\"\"\n",
    "\n",
    "    for feature in features:\n",
    "        if feature in yes_no_features:\n",
    "            df[feature] = df[feature].replace(dict1)\n",
    "        elif feature in features2:\n",
    "            df[feature] = df[feature].replace(dict2)\n",
    "        elif feature in features3:\n",
    "            df[feature] = df[feature].replace(dict3)\n",
    "        elif feature == 'age':\n",
    "            df[feature] = round(df[feature] / 365.25)# .astype(int)\n",
    "        #else:\n",
    "            #print(f'Clean data for {feature}')\n",
    "\n",
    "    return df"
   ]
  },
  {
   "cell_type": "code",
   "execution_count": 7,
   "id": "52646232",
   "metadata": {
    "execution": {
     "iopub.execute_input": "2024-05-12T14:07:34.393802Z",
     "iopub.status.busy": "2024-05-12T14:07:34.392832Z",
     "iopub.status.idle": "2024-05-12T14:07:34.503515Z",
     "shell.execute_reply": "2024-05-12T14:07:34.502438Z"
    },
    "papermill": {
     "duration": 0.133522,
     "end_time": "2024-05-12T14:07:34.506523",
     "exception": false,
     "start_time": "2024-05-12T14:07:34.373001",
     "status": "completed"
    },
    "tags": []
   },
   "outputs": [],
   "source": [
    "df1 = clean_df(df)"
   ]
  },
  {
   "cell_type": "code",
   "execution_count": 8,
   "id": "747d98c9",
   "metadata": {
    "execution": {
     "iopub.execute_input": "2024-05-12T14:07:34.545272Z",
     "iopub.status.busy": "2024-05-12T14:07:34.544838Z",
     "iopub.status.idle": "2024-05-12T14:07:34.549977Z",
     "shell.execute_reply": "2024-05-12T14:07:34.548769Z"
    },
    "papermill": {
     "duration": 0.027535,
     "end_time": "2024-05-12T14:07:34.552878",
     "exception": false,
     "start_time": "2024-05-12T14:07:34.525343",
     "status": "completed"
    },
    "tags": []
   },
   "outputs": [],
   "source": [
    "#df1['age'] = df1['age']"
   ]
  },
  {
   "cell_type": "code",
   "execution_count": 9,
   "id": "fd39190a",
   "metadata": {
    "execution": {
     "iopub.execute_input": "2024-05-12T14:07:34.593132Z",
     "iopub.status.busy": "2024-05-12T14:07:34.592245Z",
     "iopub.status.idle": "2024-05-12T14:07:34.611949Z",
     "shell.execute_reply": "2024-05-12T14:07:34.610558Z"
    },
    "papermill": {
     "duration": 0.042873,
     "end_time": "2024-05-12T14:07:34.614820",
     "exception": false,
     "start_time": "2024-05-12T14:07:34.571947",
     "status": "completed"
    },
    "tags": []
   },
   "outputs": [
    {
     "data": {
      "text/html": [
       "<div>\n",
       "<style scoped>\n",
       "    .dataframe tbody tr th:only-of-type {\n",
       "        vertical-align: middle;\n",
       "    }\n",
       "\n",
       "    .dataframe tbody tr th {\n",
       "        vertical-align: top;\n",
       "    }\n",
       "\n",
       "    .dataframe thead th {\n",
       "        text-align: right;\n",
       "    }\n",
       "</style>\n",
       "<table border=\"1\" class=\"dataframe\">\n",
       "  <thead>\n",
       "    <tr style=\"text-align: right;\">\n",
       "      <th></th>\n",
       "      <th>id</th>\n",
       "      <th>age</th>\n",
       "      <th>gender</th>\n",
       "      <th>height</th>\n",
       "      <th>weight</th>\n",
       "      <th>ap_hi</th>\n",
       "      <th>ap_lo</th>\n",
       "      <th>cholesterol</th>\n",
       "      <th>gluc</th>\n",
       "      <th>smoke</th>\n",
       "      <th>alco</th>\n",
       "      <th>active</th>\n",
       "      <th>cardio</th>\n",
       "    </tr>\n",
       "  </thead>\n",
       "  <tbody>\n",
       "    <tr>\n",
       "      <th>0</th>\n",
       "      <td>0</td>\n",
       "      <td>50.0</td>\n",
       "      <td>male</td>\n",
       "      <td>168</td>\n",
       "      <td>62.0</td>\n",
       "      <td>110</td>\n",
       "      <td>80</td>\n",
       "      <td>normal</td>\n",
       "      <td>normal</td>\n",
       "      <td>no</td>\n",
       "      <td>no</td>\n",
       "      <td>yes</td>\n",
       "      <td>no</td>\n",
       "    </tr>\n",
       "    <tr>\n",
       "      <th>1</th>\n",
       "      <td>1</td>\n",
       "      <td>55.0</td>\n",
       "      <td>female</td>\n",
       "      <td>156</td>\n",
       "      <td>85.0</td>\n",
       "      <td>140</td>\n",
       "      <td>90</td>\n",
       "      <td>well above normal</td>\n",
       "      <td>normal</td>\n",
       "      <td>no</td>\n",
       "      <td>no</td>\n",
       "      <td>yes</td>\n",
       "      <td>yes</td>\n",
       "    </tr>\n",
       "    <tr>\n",
       "      <th>2</th>\n",
       "      <td>2</td>\n",
       "      <td>52.0</td>\n",
       "      <td>female</td>\n",
       "      <td>165</td>\n",
       "      <td>64.0</td>\n",
       "      <td>130</td>\n",
       "      <td>70</td>\n",
       "      <td>well above normal</td>\n",
       "      <td>normal</td>\n",
       "      <td>no</td>\n",
       "      <td>no</td>\n",
       "      <td>no</td>\n",
       "      <td>yes</td>\n",
       "    </tr>\n",
       "    <tr>\n",
       "      <th>3</th>\n",
       "      <td>3</td>\n",
       "      <td>48.0</td>\n",
       "      <td>male</td>\n",
       "      <td>169</td>\n",
       "      <td>82.0</td>\n",
       "      <td>150</td>\n",
       "      <td>100</td>\n",
       "      <td>normal</td>\n",
       "      <td>normal</td>\n",
       "      <td>no</td>\n",
       "      <td>no</td>\n",
       "      <td>yes</td>\n",
       "      <td>yes</td>\n",
       "    </tr>\n",
       "    <tr>\n",
       "      <th>4</th>\n",
       "      <td>4</td>\n",
       "      <td>48.0</td>\n",
       "      <td>female</td>\n",
       "      <td>156</td>\n",
       "      <td>56.0</td>\n",
       "      <td>100</td>\n",
       "      <td>60</td>\n",
       "      <td>normal</td>\n",
       "      <td>normal</td>\n",
       "      <td>no</td>\n",
       "      <td>no</td>\n",
       "      <td>no</td>\n",
       "      <td>no</td>\n",
       "    </tr>\n",
       "  </tbody>\n",
       "</table>\n",
       "</div>"
      ],
      "text/plain": [
       "   id   age  gender  height  weight ap_hi ap_lo        cholesterol    gluc  \\\n",
       "0   0  50.0    male     168    62.0   110    80             normal  normal   \n",
       "1   1  55.0  female     156    85.0   140    90  well above normal  normal   \n",
       "2   2  52.0  female     165    64.0   130    70  well above normal  normal   \n",
       "3   3  48.0    male     169    82.0   150   100             normal  normal   \n",
       "4   4  48.0  female     156    56.0   100    60             normal  normal   \n",
       "\n",
       "  smoke alco active cardio  \n",
       "0    no   no    yes     no  \n",
       "1    no   no    yes    yes  \n",
       "2    no   no     no    yes  \n",
       "3    no   no    yes    yes  \n",
       "4    no   no     no     no  "
      ]
     },
     "execution_count": 9,
     "metadata": {},
     "output_type": "execute_result"
    }
   ],
   "source": [
    "df1.head()"
   ]
  },
  {
   "cell_type": "code",
   "execution_count": 10,
   "id": "94f7ed10",
   "metadata": {
    "execution": {
     "iopub.execute_input": "2024-05-12T14:07:34.655725Z",
     "iopub.status.busy": "2024-05-12T14:07:34.655039Z",
     "iopub.status.idle": "2024-05-12T14:07:34.703805Z",
     "shell.execute_reply": "2024-05-12T14:07:34.702079Z"
    },
    "papermill": {
     "duration": 0.073874,
     "end_time": "2024-05-12T14:07:34.707374",
     "exception": false,
     "start_time": "2024-05-12T14:07:34.633500",
     "status": "completed"
    },
    "tags": []
   },
   "outputs": [],
   "source": [
    "# feature reduction\n",
    "df1['height_meter'] = df1['height'] / 100\n",
    "df1['weight_kg'] = df1['weight'].astype(int)\n",
    "\n",
    "# renaming features\n",
    "df1 = df1.rename(columns={\n",
    "    'ap_hi': 'systolic blood pressure',\n",
    "    'ap_lo': 'diastolic blood pressure',\n",
    "    'cholesterol': 'cholesterol level',\n",
    "    'gluc': 'glucose level',\n",
    "    'alco': 'alcohol intake',\n",
    "    'cardio': 'cardiovascular illness'\n",
    "})"
   ]
  },
  {
   "cell_type": "code",
   "execution_count": 11,
   "id": "732547c2",
   "metadata": {
    "execution": {
     "iopub.execute_input": "2024-05-12T14:07:34.750838Z",
     "iopub.status.busy": "2024-05-12T14:07:34.750065Z",
     "iopub.status.idle": "2024-05-12T14:07:34.771652Z",
     "shell.execute_reply": "2024-05-12T14:07:34.770447Z"
    },
    "papermill": {
     "duration": 0.049068,
     "end_time": "2024-05-12T14:07:34.774095",
     "exception": false,
     "start_time": "2024-05-12T14:07:34.725027",
     "status": "completed"
    },
    "tags": []
   },
   "outputs": [
    {
     "data": {
      "text/html": [
       "<div>\n",
       "<style scoped>\n",
       "    .dataframe tbody tr th:only-of-type {\n",
       "        vertical-align: middle;\n",
       "    }\n",
       "\n",
       "    .dataframe tbody tr th {\n",
       "        vertical-align: top;\n",
       "    }\n",
       "\n",
       "    .dataframe thead th {\n",
       "        text-align: right;\n",
       "    }\n",
       "</style>\n",
       "<table border=\"1\" class=\"dataframe\">\n",
       "  <thead>\n",
       "    <tr style=\"text-align: right;\">\n",
       "      <th></th>\n",
       "      <th>id</th>\n",
       "      <th>age</th>\n",
       "      <th>gender</th>\n",
       "      <th>height</th>\n",
       "      <th>weight</th>\n",
       "      <th>systolic blood pressure</th>\n",
       "      <th>diastolic blood pressure</th>\n",
       "      <th>cholesterol level</th>\n",
       "      <th>glucose level</th>\n",
       "      <th>smoke</th>\n",
       "      <th>alcohol intake</th>\n",
       "      <th>active</th>\n",
       "      <th>cardiovascular illness</th>\n",
       "      <th>height_meter</th>\n",
       "      <th>weight_kg</th>\n",
       "    </tr>\n",
       "  </thead>\n",
       "  <tbody>\n",
       "    <tr>\n",
       "      <th>0</th>\n",
       "      <td>0</td>\n",
       "      <td>50.0</td>\n",
       "      <td>male</td>\n",
       "      <td>168</td>\n",
       "      <td>62.0</td>\n",
       "      <td>110</td>\n",
       "      <td>80</td>\n",
       "      <td>normal</td>\n",
       "      <td>normal</td>\n",
       "      <td>no</td>\n",
       "      <td>no</td>\n",
       "      <td>yes</td>\n",
       "      <td>no</td>\n",
       "      <td>1.68</td>\n",
       "      <td>62</td>\n",
       "    </tr>\n",
       "    <tr>\n",
       "      <th>1</th>\n",
       "      <td>1</td>\n",
       "      <td>55.0</td>\n",
       "      <td>female</td>\n",
       "      <td>156</td>\n",
       "      <td>85.0</td>\n",
       "      <td>140</td>\n",
       "      <td>90</td>\n",
       "      <td>well above normal</td>\n",
       "      <td>normal</td>\n",
       "      <td>no</td>\n",
       "      <td>no</td>\n",
       "      <td>yes</td>\n",
       "      <td>yes</td>\n",
       "      <td>1.56</td>\n",
       "      <td>85</td>\n",
       "    </tr>\n",
       "    <tr>\n",
       "      <th>2</th>\n",
       "      <td>2</td>\n",
       "      <td>52.0</td>\n",
       "      <td>female</td>\n",
       "      <td>165</td>\n",
       "      <td>64.0</td>\n",
       "      <td>130</td>\n",
       "      <td>70</td>\n",
       "      <td>well above normal</td>\n",
       "      <td>normal</td>\n",
       "      <td>no</td>\n",
       "      <td>no</td>\n",
       "      <td>no</td>\n",
       "      <td>yes</td>\n",
       "      <td>1.65</td>\n",
       "      <td>64</td>\n",
       "    </tr>\n",
       "    <tr>\n",
       "      <th>3</th>\n",
       "      <td>3</td>\n",
       "      <td>48.0</td>\n",
       "      <td>male</td>\n",
       "      <td>169</td>\n",
       "      <td>82.0</td>\n",
       "      <td>150</td>\n",
       "      <td>100</td>\n",
       "      <td>normal</td>\n",
       "      <td>normal</td>\n",
       "      <td>no</td>\n",
       "      <td>no</td>\n",
       "      <td>yes</td>\n",
       "      <td>yes</td>\n",
       "      <td>1.69</td>\n",
       "      <td>82</td>\n",
       "    </tr>\n",
       "    <tr>\n",
       "      <th>4</th>\n",
       "      <td>4</td>\n",
       "      <td>48.0</td>\n",
       "      <td>female</td>\n",
       "      <td>156</td>\n",
       "      <td>56.0</td>\n",
       "      <td>100</td>\n",
       "      <td>60</td>\n",
       "      <td>normal</td>\n",
       "      <td>normal</td>\n",
       "      <td>no</td>\n",
       "      <td>no</td>\n",
       "      <td>no</td>\n",
       "      <td>no</td>\n",
       "      <td>1.56</td>\n",
       "      <td>56</td>\n",
       "    </tr>\n",
       "  </tbody>\n",
       "</table>\n",
       "</div>"
      ],
      "text/plain": [
       "   id   age  gender  height  weight systolic blood pressure  \\\n",
       "0   0  50.0    male     168    62.0                     110   \n",
       "1   1  55.0  female     156    85.0                     140   \n",
       "2   2  52.0  female     165    64.0                     130   \n",
       "3   3  48.0    male     169    82.0                     150   \n",
       "4   4  48.0  female     156    56.0                     100   \n",
       "\n",
       "  diastolic blood pressure  cholesterol level glucose level smoke  \\\n",
       "0                       80             normal        normal    no   \n",
       "1                       90  well above normal        normal    no   \n",
       "2                       70  well above normal        normal    no   \n",
       "3                      100             normal        normal    no   \n",
       "4                       60             normal        normal    no   \n",
       "\n",
       "  alcohol intake active cardiovascular illness  height_meter  weight_kg  \n",
       "0             no    yes                     no          1.68         62  \n",
       "1             no    yes                    yes          1.56         85  \n",
       "2             no     no                    yes          1.65         64  \n",
       "3             no    yes                    yes          1.69         82  \n",
       "4             no     no                     no          1.56         56  "
      ]
     },
     "execution_count": 11,
     "metadata": {},
     "output_type": "execute_result"
    }
   ],
   "source": [
    "df1.head()"
   ]
  },
  {
   "cell_type": "markdown",
   "id": "1bf9a215",
   "metadata": {
    "papermill": {
     "duration": 0.01912,
     "end_time": "2024-05-12T14:07:34.811059",
     "exception": false,
     "start_time": "2024-05-12T14:07:34.791939",
     "status": "completed"
    },
    "tags": []
   },
   "source": [
    "# Feature Engineering"
   ]
  },
  {
   "cell_type": "code",
   "execution_count": 12,
   "id": "300e9cc1",
   "metadata": {
    "_kg_hide-input": true,
    "execution": {
     "iopub.execute_input": "2024-05-12T14:07:34.850351Z",
     "iopub.status.busy": "2024-05-12T14:07:34.849691Z",
     "iopub.status.idle": "2024-05-12T14:07:34.894976Z",
     "shell.execute_reply": "2024-05-12T14:07:34.893785Z"
    },
    "papermill": {
     "duration": 0.067368,
     "end_time": "2024-05-12T14:07:34.897524",
     "exception": false,
     "start_time": "2024-05-12T14:07:34.830156",
     "status": "completed"
    },
    "tags": []
   },
   "outputs": [
    {
     "data": {
      "text/html": [
       "<div>\n",
       "<style scoped>\n",
       "    .dataframe tbody tr th:only-of-type {\n",
       "        vertical-align: middle;\n",
       "    }\n",
       "\n",
       "    .dataframe tbody tr th {\n",
       "        vertical-align: top;\n",
       "    }\n",
       "\n",
       "    .dataframe thead th {\n",
       "        text-align: right;\n",
       "    }\n",
       "</style>\n",
       "<table border=\"1\" class=\"dataframe\">\n",
       "  <thead>\n",
       "    <tr style=\"text-align: right;\">\n",
       "      <th></th>\n",
       "      <th>age</th>\n",
       "      <th>gender</th>\n",
       "      <th>systolic blood pressure</th>\n",
       "      <th>diastolic blood pressure</th>\n",
       "      <th>cholesterol level</th>\n",
       "      <th>glucose level</th>\n",
       "      <th>smoke</th>\n",
       "      <th>alcohol intake</th>\n",
       "      <th>active</th>\n",
       "      <th>cardiovascular illness</th>\n",
       "      <th>height_meter</th>\n",
       "      <th>weight_kg</th>\n",
       "      <th>body mass index</th>\n",
       "    </tr>\n",
       "  </thead>\n",
       "  <tbody>\n",
       "    <tr>\n",
       "      <th>67315</th>\n",
       "      <td>60.0</td>\n",
       "      <td>female</td>\n",
       "      <td>190</td>\n",
       "      <td>80</td>\n",
       "      <td>above normal</td>\n",
       "      <td>normal</td>\n",
       "      <td>no</td>\n",
       "      <td>no</td>\n",
       "      <td>yes</td>\n",
       "      <td>yes</td>\n",
       "      <td>1.70</td>\n",
       "      <td>84</td>\n",
       "      <td>29</td>\n",
       "    </tr>\n",
       "    <tr>\n",
       "      <th>16629</th>\n",
       "      <td>40.0</td>\n",
       "      <td>female</td>\n",
       "      <td>70</td>\n",
       "      <td>50</td>\n",
       "      <td>normal</td>\n",
       "      <td>normal</td>\n",
       "      <td>no</td>\n",
       "      <td>no</td>\n",
       "      <td>yes</td>\n",
       "      <td>no</td>\n",
       "      <td>1.62</td>\n",
       "      <td>57</td>\n",
       "      <td>22</td>\n",
       "    </tr>\n",
       "    <tr>\n",
       "      <th>51923</th>\n",
       "      <td>64.0</td>\n",
       "      <td>male</td>\n",
       "      <td>120</td>\n",
       "      <td>80</td>\n",
       "      <td>normal</td>\n",
       "      <td>normal</td>\n",
       "      <td>no</td>\n",
       "      <td>no</td>\n",
       "      <td>no</td>\n",
       "      <td>yes</td>\n",
       "      <td>1.73</td>\n",
       "      <td>68</td>\n",
       "      <td>23</td>\n",
       "    </tr>\n",
       "    <tr>\n",
       "      <th>61241</th>\n",
       "      <td>60.0</td>\n",
       "      <td>female</td>\n",
       "      <td>130</td>\n",
       "      <td>80</td>\n",
       "      <td>normal</td>\n",
       "      <td>normal</td>\n",
       "      <td>no</td>\n",
       "      <td>no</td>\n",
       "      <td>yes</td>\n",
       "      <td>no</td>\n",
       "      <td>1.63</td>\n",
       "      <td>58</td>\n",
       "      <td>22</td>\n",
       "    </tr>\n",
       "    <tr>\n",
       "      <th>14710</th>\n",
       "      <td>51.0</td>\n",
       "      <td>female</td>\n",
       "      <td>120</td>\n",
       "      <td>80</td>\n",
       "      <td>above normal</td>\n",
       "      <td>normal</td>\n",
       "      <td>no</td>\n",
       "      <td>no</td>\n",
       "      <td>no</td>\n",
       "      <td>yes</td>\n",
       "      <td>1.60</td>\n",
       "      <td>64</td>\n",
       "      <td>25</td>\n",
       "    </tr>\n",
       "  </tbody>\n",
       "</table>\n",
       "</div>"
      ],
      "text/plain": [
       "        age  gender systolic blood pressure diastolic blood pressure  \\\n",
       "67315  60.0  female                     190                       80   \n",
       "16629  40.0  female                      70                       50   \n",
       "51923  64.0    male                     120                       80   \n",
       "61241  60.0  female                     130                       80   \n",
       "14710  51.0  female                     120                       80   \n",
       "\n",
       "      cholesterol level glucose level smoke alcohol intake active  \\\n",
       "67315      above normal        normal    no             no    yes   \n",
       "16629            normal        normal    no             no    yes   \n",
       "51923            normal        normal    no             no     no   \n",
       "61241            normal        normal    no             no    yes   \n",
       "14710      above normal        normal    no             no     no   \n",
       "\n",
       "      cardiovascular illness  height_meter  weight_kg  body mass index  \n",
       "67315                    yes          1.70         84               29  \n",
       "16629                     no          1.62         57               22  \n",
       "51923                    yes          1.73         68               23  \n",
       "61241                     no          1.63         58               22  \n",
       "14710                    yes          1.60         64               25  "
      ]
     },
     "execution_count": 12,
     "metadata": {},
     "output_type": "execute_result"
    }
   ],
   "source": [
    "df2 = df1.copy()\n",
    "df2['body mass index'] = ((df2['weight_kg']) / ((df2['height_meter']) ** 2)).round().astype(int)\n",
    "\n",
    "df2.drop(columns=['id','height','weight',], inplace=True)#'height_meter','weight_kg'], inplace=True)\n",
    "df2.sample(n=5)"
   ]
  },
  {
   "cell_type": "code",
   "execution_count": 13,
   "id": "a3db37eb",
   "metadata": {
    "execution": {
     "iopub.execute_input": "2024-05-12T14:07:34.937552Z",
     "iopub.status.busy": "2024-05-12T14:07:34.936842Z",
     "iopub.status.idle": "2024-05-12T14:07:35.060948Z",
     "shell.execute_reply": "2024-05-12T14:07:35.059628Z"
    },
    "papermill": {
     "duration": 0.148812,
     "end_time": "2024-05-12T14:07:35.064620",
     "exception": false,
     "start_time": "2024-05-12T14:07:34.915808",
     "status": "completed"
    },
    "tags": []
   },
   "outputs": [],
   "source": [
    "# Remove the string 'normal' from 'diastolic blood pressure' column\n",
    "df3 = df2.copy()\n",
    "df3 = df3[df3['diastolic blood pressure'] != 'normal']\n",
    "\n",
    "# Filter diastolic blood pressure values between 50 and 140 (inclusive)\n",
    "df3 = df3[(df3['diastolic blood pressure'] >= 50) & (df3['diastolic blood pressure'] <= 140)]\n",
    "\n",
    "# Remove the string 'normal' from 'systolic blood pressure' column\n",
    "df3 = df3[df3['systolic blood pressure'] != 'normal']\n",
    "\n",
    "# Filter systolic blood pressure values between 80 and 190 (inclusive)\n",
    "df3 = df3[(df3['systolic blood pressure'] >= 80) & (df3['systolic blood pressure'] <= 190)]"
   ]
  },
  {
   "cell_type": "code",
   "execution_count": 14,
   "id": "e234fc97",
   "metadata": {
    "execution": {
     "iopub.execute_input": "2024-05-12T14:07:35.104591Z",
     "iopub.status.busy": "2024-05-12T14:07:35.103114Z",
     "iopub.status.idle": "2024-05-12T14:07:35.115393Z",
     "shell.execute_reply": "2024-05-12T14:07:35.114207Z"
    },
    "papermill": {
     "duration": 0.034734,
     "end_time": "2024-05-12T14:07:35.117922",
     "exception": false,
     "start_time": "2024-05-12T14:07:35.083188",
     "status": "completed"
    },
    "tags": []
   },
   "outputs": [
    {
     "data": {
      "text/plain": [
       "array([110, 140, 130, 150, 100, 120, 145, 170, 135, 125, 90, 180, 160,\n",
       "       133, 190, 80, 122, 169, 126, 158, 123, 161, 147, 115, 137, 153,\n",
       "       148, 105, 119, 141, 165, 164, 124, 172, 162, 117, 134, 166, 176,\n",
       "       116, 121, 112, 113, 118, 155, 142, 131, 157, 136, 146, 138, 159,\n",
       "       109, 85, 106, 129, 93, 95, 179, 156, 168, 132, 104, 103, 175, 128,\n",
       "       151, 139, 127, 108, 144, 102, 143, 107, 184, 178, 149, 167, 114,\n",
       "       101, 171, 111, 188, 185, 163, 173, 154, 177, 174, 152, 96, 99, 97,\n",
       "       187], dtype=object)"
      ]
     },
     "execution_count": 14,
     "metadata": {},
     "output_type": "execute_result"
    }
   ],
   "source": [
    "df3['systolic blood pressure'].unique()"
   ]
  },
  {
   "cell_type": "code",
   "execution_count": 15,
   "id": "da05bbc0",
   "metadata": {
    "execution": {
     "iopub.execute_input": "2024-05-12T14:07:35.158582Z",
     "iopub.status.busy": "2024-05-12T14:07:35.157909Z",
     "iopub.status.idle": "2024-05-12T14:07:35.236618Z",
     "shell.execute_reply": "2024-05-12T14:07:35.235347Z"
    },
    "papermill": {
     "duration": 0.10251,
     "end_time": "2024-05-12T14:07:35.239330",
     "exception": false,
     "start_time": "2024-05-12T14:07:35.136820",
     "status": "completed"
    },
    "tags": []
   },
   "outputs": [
    {
     "name": "stdout",
     "output_type": "stream",
     "text": [
      "<class 'pandas.core.frame.DataFrame'>\n",
      "Index: 68562 entries, 0 to 69999\n",
      "Data columns (total 13 columns):\n",
      " #   Column                    Non-Null Count  Dtype  \n",
      "---  ------                    --------------  -----  \n",
      " 0   age                       68562 non-null  float64\n",
      " 1   gender                    68562 non-null  object \n",
      " 2   systolic blood pressure   68562 non-null  object \n",
      " 3   diastolic blood pressure  68562 non-null  object \n",
      " 4   cholesterol level         68562 non-null  object \n",
      " 5   glucose level             68562 non-null  object \n",
      " 6   smoke                     68562 non-null  object \n",
      " 7   alcohol intake            68562 non-null  object \n",
      " 8   active                    68562 non-null  object \n",
      " 9   cardiovascular illness    68562 non-null  object \n",
      " 10  height_meter              68562 non-null  float64\n",
      " 11  weight_kg                 68562 non-null  int64  \n",
      " 12  body mass index           68562 non-null  int64  \n",
      "dtypes: float64(2), int64(2), object(9)\n",
      "memory usage: 7.3+ MB\n"
     ]
    }
   ],
   "source": [
    "df3.info()"
   ]
  },
  {
   "cell_type": "code",
   "execution_count": 16,
   "id": "7993fdac",
   "metadata": {
    "execution": {
     "iopub.execute_input": "2024-05-12T14:07:35.281310Z",
     "iopub.status.busy": "2024-05-12T14:07:35.280587Z",
     "iopub.status.idle": "2024-05-12T14:07:35.284548Z",
     "shell.execute_reply": "2024-05-12T14:07:35.283593Z"
    },
    "papermill": {
     "duration": 0.029034,
     "end_time": "2024-05-12T14:07:35.288162",
     "exception": false,
     "start_time": "2024-05-12T14:07:35.259128",
     "status": "completed"
    },
    "tags": []
   },
   "outputs": [],
   "source": [
    "#systolic = 90-180mmHg\n",
    "#diastolic = 60-120mmHg"
   ]
  },
  {
   "cell_type": "code",
   "execution_count": 17,
   "id": "e4085264",
   "metadata": {
    "execution": {
     "iopub.execute_input": "2024-05-12T14:07:35.328355Z",
     "iopub.status.busy": "2024-05-12T14:07:35.327698Z",
     "iopub.status.idle": "2024-05-12T14:07:35.409549Z",
     "shell.execute_reply": "2024-05-12T14:07:35.408231Z"
    },
    "papermill": {
     "duration": 0.104554,
     "end_time": "2024-05-12T14:07:35.412137",
     "exception": false,
     "start_time": "2024-05-12T14:07:35.307583",
     "status": "completed"
    },
    "tags": []
   },
   "outputs": [
    {
     "data": {
      "text/plain": [
       "6423"
      ]
     },
     "execution_count": 17,
     "metadata": {},
     "output_type": "execute_result"
    }
   ],
   "source": [
    "# sum of duplicated values in the DataFrame\n",
    "df3.duplicated(keep=False).sum()"
   ]
  },
  {
   "cell_type": "code",
   "execution_count": 18,
   "id": "52b444cb",
   "metadata": {
    "execution": {
     "iopub.execute_input": "2024-05-12T14:07:35.451743Z",
     "iopub.status.busy": "2024-05-12T14:07:35.451314Z",
     "iopub.status.idle": "2024-05-12T14:07:35.541264Z",
     "shell.execute_reply": "2024-05-12T14:07:35.540177Z"
    },
    "papermill": {
     "duration": 0.113069,
     "end_time": "2024-05-12T14:07:35.544029",
     "exception": false,
     "start_time": "2024-05-12T14:07:35.430960",
     "status": "completed"
    },
    "tags": []
   },
   "outputs": [],
   "source": [
    "df3 = df3.drop_duplicates(keep= 'first')"
   ]
  },
  {
   "cell_type": "code",
   "execution_count": 19,
   "id": "5d773651",
   "metadata": {
    "execution": {
     "iopub.execute_input": "2024-05-12T14:07:35.584214Z",
     "iopub.status.busy": "2024-05-12T14:07:35.583560Z",
     "iopub.status.idle": "2024-05-12T14:07:35.679338Z",
     "shell.execute_reply": "2024-05-12T14:07:35.678008Z"
    },
    "papermill": {
     "duration": 0.118784,
     "end_time": "2024-05-12T14:07:35.682037",
     "exception": false,
     "start_time": "2024-05-12T14:07:35.563253",
     "status": "completed"
    },
    "tags": []
   },
   "outputs": [],
   "source": [
    "# Remove the string 'normal' from 'diastolic blood pressure' column\n",
    "df3 = df3[df3['diastolic blood pressure'] != 'normal']\n",
    "\n",
    "# Filter diastolic blood pressure values between 50 and 140 (inclusive)\n",
    "df3 = df3[(df3['diastolic blood pressure'] >= 50) & (df3['diastolic blood pressure'] <= 140)]\n",
    "\n",
    "# Remove the string 'normal' from 'systolic blood pressure' column\n",
    "df3 = df3[df3['systolic blood pressure'] != 'normal']\n",
    "\n",
    "# Filter systolic blood pressure values between 80 and 190 (inclusive)\n",
    "df3 = df3[(df3['systolic blood pressure'] >= 80) & (df3['systolic blood pressure'] <= 190)]"
   ]
  },
  {
   "cell_type": "code",
   "execution_count": 20,
   "id": "763650f6",
   "metadata": {
    "execution": {
     "iopub.execute_input": "2024-05-12T14:07:35.724112Z",
     "iopub.status.busy": "2024-05-12T14:07:35.723397Z",
     "iopub.status.idle": "2024-05-12T14:07:35.739354Z",
     "shell.execute_reply": "2024-05-12T14:07:35.738039Z"
    },
    "papermill": {
     "duration": 0.040638,
     "end_time": "2024-05-12T14:07:35.742270",
     "exception": false,
     "start_time": "2024-05-12T14:07:35.701632",
     "status": "completed"
    },
    "tags": []
   },
   "outputs": [],
   "source": [
    "df3['diastolic blood pressure'] = df3['diastolic blood pressure'].astype(int)\n",
    "df3['systolic blood pressure'] = df3['systolic blood pressure'].astype(int)"
   ]
  },
  {
   "cell_type": "code",
   "execution_count": 21,
   "id": "fd75f6ad",
   "metadata": {
    "execution": {
     "iopub.execute_input": "2024-05-12T14:07:35.846031Z",
     "iopub.status.busy": "2024-05-12T14:07:35.845642Z",
     "iopub.status.idle": "2024-05-12T14:07:35.908172Z",
     "shell.execute_reply": "2024-05-12T14:07:35.906801Z"
    },
    "papermill": {
     "duration": 0.149325,
     "end_time": "2024-05-12T14:07:35.911066",
     "exception": false,
     "start_time": "2024-05-12T14:07:35.761741",
     "status": "completed"
    },
    "tags": []
   },
   "outputs": [
    {
     "name": "stdout",
     "output_type": "stream",
     "text": [
      "<class 'pandas.core.frame.DataFrame'>\n",
      "Index: 64737 entries, 0 to 69999\n",
      "Data columns (total 13 columns):\n",
      " #   Column                    Non-Null Count  Dtype  \n",
      "---  ------                    --------------  -----  \n",
      " 0   age                       64737 non-null  float64\n",
      " 1   gender                    64737 non-null  object \n",
      " 2   systolic blood pressure   64737 non-null  int64  \n",
      " 3   diastolic blood pressure  64737 non-null  int64  \n",
      " 4   cholesterol level         64737 non-null  object \n",
      " 5   glucose level             64737 non-null  object \n",
      " 6   smoke                     64737 non-null  object \n",
      " 7   alcohol intake            64737 non-null  object \n",
      " 8   active                    64737 non-null  object \n",
      " 9   cardiovascular illness    64737 non-null  object \n",
      " 10  height_meter              64737 non-null  float64\n",
      " 11  weight_kg                 64737 non-null  int64  \n",
      " 12  body mass index           64737 non-null  int64  \n",
      "dtypes: float64(2), int64(4), object(7)\n",
      "memory usage: 6.9+ MB\n"
     ]
    }
   ],
   "source": [
    "#df3.duplicated(keep=False).sum()\n",
    "df3.info()"
   ]
  },
  {
   "cell_type": "code",
   "execution_count": 22,
   "id": "10093249",
   "metadata": {
    "execution": {
     "iopub.execute_input": "2024-05-12T14:07:35.952202Z",
     "iopub.status.busy": "2024-05-12T14:07:35.951786Z",
     "iopub.status.idle": "2024-05-12T14:07:38.026803Z",
     "shell.execute_reply": "2024-05-12T14:07:38.025487Z"
    },
    "papermill": {
     "duration": 2.09907,
     "end_time": "2024-05-12T14:07:38.029726",
     "exception": false,
     "start_time": "2024-05-12T14:07:35.930656",
     "status": "completed"
    },
    "tags": []
   },
   "outputs": [],
   "source": [
    "import matplotlib.pyplot as plt\n",
    "import seaborn as sns\n",
    "import altair as alt"
   ]
  },
  {
   "cell_type": "code",
   "execution_count": 23,
   "id": "77db824b",
   "metadata": {
    "execution": {
     "iopub.execute_input": "2024-05-12T14:07:38.074551Z",
     "iopub.status.busy": "2024-05-12T14:07:38.073303Z",
     "iopub.status.idle": "2024-05-12T14:07:39.564717Z",
     "shell.execute_reply": "2024-05-12T14:07:39.563566Z"
    },
    "papermill": {
     "duration": 1.517167,
     "end_time": "2024-05-12T14:07:39.568009",
     "exception": false,
     "start_time": "2024-05-12T14:07:38.050842",
     "status": "completed"
    },
    "tags": []
   },
   "outputs": [
    {
     "data": {
      "image/png": "[encoded data removed]",
      "text/plain": [
       "<Figure size 1200x800 with 6 Axes>"
      ]
     },
     "metadata": {},
     "output_type": "display_data"
    }
   ],
   "source": [
    "df3.hist(bins =10, figsize=(12,8))\n",
    "plt.show()"
   ]
  },
  {
   "cell_type": "code",
   "execution_count": 24,
   "id": "ff5c2910",
   "metadata": {
    "execution": {
     "iopub.execute_input": "2024-05-12T14:07:39.611448Z",
     "iopub.status.busy": "2024-05-12T14:07:39.610084Z",
     "iopub.status.idle": "2024-05-12T14:07:39.616698Z",
     "shell.execute_reply": "2024-05-12T14:07:39.615087Z"
    },
    "papermill": {
     "duration": 0.031382,
     "end_time": "2024-05-12T14:07:39.619755",
     "exception": false,
     "start_time": "2024-05-12T14:07:39.588373",
     "status": "completed"
    },
    "tags": []
   },
   "outputs": [],
   "source": [
    "#df3.head()"
   ]
  },
  {
   "cell_type": "code",
   "execution_count": 25,
   "id": "dfc99521",
   "metadata": {
    "execution": {
     "iopub.execute_input": "2024-05-12T14:07:39.663836Z",
     "iopub.status.busy": "2024-05-12T14:07:39.663308Z",
     "iopub.status.idle": "2024-05-12T14:07:40.082427Z",
     "shell.execute_reply": "2024-05-12T14:07:40.081100Z"
    },
    "papermill": {
     "duration": 0.444578,
     "end_time": "2024-05-12T14:07:40.085388",
     "exception": false,
     "start_time": "2024-05-12T14:07:39.640810",
     "status": "completed"
    },
    "tags": []
   },
   "outputs": [],
   "source": [
    "from sklearn.model_selection import train_test_split\n",
    "train_set , test_set = train_test_split(df3, test_size=0.2, random_state=42)"
   ]
  },
  {
   "cell_type": "code",
   "execution_count": 26,
   "id": "b7a169e0",
   "metadata": {
    "execution": {
     "iopub.execute_input": "2024-05-12T14:07:40.128416Z",
     "iopub.status.busy": "2024-05-12T14:07:40.128001Z",
     "iopub.status.idle": "2024-05-12T14:07:40.152635Z",
     "shell.execute_reply": "2024-05-12T14:07:40.151279Z"
    },
    "papermill": {
     "duration": 0.049573,
     "end_time": "2024-05-12T14:07:40.155215",
     "exception": false,
     "start_time": "2024-05-12T14:07:40.105642",
     "status": "completed"
    },
    "tags": []
   },
   "outputs": [
    {
     "data": {
      "text/html": [
       "<div>\n",
       "<style scoped>\n",
       "    .dataframe tbody tr th:only-of-type {\n",
       "        vertical-align: middle;\n",
       "    }\n",
       "\n",
       "    .dataframe tbody tr th {\n",
       "        vertical-align: top;\n",
       "    }\n",
       "\n",
       "    .dataframe thead th {\n",
       "        text-align: right;\n",
       "    }\n",
       "</style>\n",
       "<table border=\"1\" class=\"dataframe\">\n",
       "  <thead>\n",
       "    <tr style=\"text-align: right;\">\n",
       "      <th></th>\n",
       "      <th>age</th>\n",
       "      <th>gender</th>\n",
       "      <th>systolic blood pressure</th>\n",
       "      <th>diastolic blood pressure</th>\n",
       "      <th>cholesterol level</th>\n",
       "      <th>glucose level</th>\n",
       "      <th>smoke</th>\n",
       "      <th>alcohol intake</th>\n",
       "      <th>active</th>\n",
       "      <th>cardiovascular illness</th>\n",
       "      <th>height_meter</th>\n",
       "      <th>weight_kg</th>\n",
       "      <th>body mass index</th>\n",
       "    </tr>\n",
       "  </thead>\n",
       "  <tbody>\n",
       "    <tr>\n",
       "      <th>57633</th>\n",
       "      <td>57.0</td>\n",
       "      <td>male</td>\n",
       "      <td>120</td>\n",
       "      <td>80</td>\n",
       "      <td>normal</td>\n",
       "      <td>normal</td>\n",
       "      <td>no</td>\n",
       "      <td>no</td>\n",
       "      <td>yes</td>\n",
       "      <td>no</td>\n",
       "      <td>1.54</td>\n",
       "      <td>52</td>\n",
       "      <td>22</td>\n",
       "    </tr>\n",
       "    <tr>\n",
       "      <th>69673</th>\n",
       "      <td>50.0</td>\n",
       "      <td>female</td>\n",
       "      <td>90</td>\n",
       "      <td>60</td>\n",
       "      <td>above normal</td>\n",
       "      <td>above normal</td>\n",
       "      <td>no</td>\n",
       "      <td>no</td>\n",
       "      <td>no</td>\n",
       "      <td>yes</td>\n",
       "      <td>1.55</td>\n",
       "      <td>65</td>\n",
       "      <td>27</td>\n",
       "    </tr>\n",
       "    <tr>\n",
       "      <th>20268</th>\n",
       "      <td>54.0</td>\n",
       "      <td>male</td>\n",
       "      <td>150</td>\n",
       "      <td>90</td>\n",
       "      <td>normal</td>\n",
       "      <td>normal</td>\n",
       "      <td>no</td>\n",
       "      <td>no</td>\n",
       "      <td>yes</td>\n",
       "      <td>yes</td>\n",
       "      <td>1.70</td>\n",
       "      <td>75</td>\n",
       "      <td>26</td>\n",
       "    </tr>\n",
       "    <tr>\n",
       "      <th>61230</th>\n",
       "      <td>60.0</td>\n",
       "      <td>female</td>\n",
       "      <td>110</td>\n",
       "      <td>70</td>\n",
       "      <td>above normal</td>\n",
       "      <td>above normal</td>\n",
       "      <td>no</td>\n",
       "      <td>no</td>\n",
       "      <td>no</td>\n",
       "      <td>no</td>\n",
       "      <td>1.57</td>\n",
       "      <td>65</td>\n",
       "      <td>26</td>\n",
       "    </tr>\n",
       "    <tr>\n",
       "      <th>5272</th>\n",
       "      <td>58.0</td>\n",
       "      <td>female</td>\n",
       "      <td>120</td>\n",
       "      <td>80</td>\n",
       "      <td>normal</td>\n",
       "      <td>normal</td>\n",
       "      <td>no</td>\n",
       "      <td>no</td>\n",
       "      <td>no</td>\n",
       "      <td>no</td>\n",
       "      <td>1.65</td>\n",
       "      <td>60</td>\n",
       "      <td>22</td>\n",
       "    </tr>\n",
       "    <tr>\n",
       "      <th>...</th>\n",
       "      <td>...</td>\n",
       "      <td>...</td>\n",
       "      <td>...</td>\n",
       "      <td>...</td>\n",
       "      <td>...</td>\n",
       "      <td>...</td>\n",
       "      <td>...</td>\n",
       "      <td>...</td>\n",
       "      <td>...</td>\n",
       "      <td>...</td>\n",
       "      <td>...</td>\n",
       "      <td>...</td>\n",
       "      <td>...</td>\n",
       "    </tr>\n",
       "    <tr>\n",
       "      <th>67561</th>\n",
       "      <td>64.0</td>\n",
       "      <td>female</td>\n",
       "      <td>130</td>\n",
       "      <td>80</td>\n",
       "      <td>normal</td>\n",
       "      <td>normal</td>\n",
       "      <td>no</td>\n",
       "      <td>no</td>\n",
       "      <td>yes</td>\n",
       "      <td>no</td>\n",
       "      <td>1.68</td>\n",
       "      <td>72</td>\n",
       "      <td>26</td>\n",
       "    </tr>\n",
       "    <tr>\n",
       "      <th>40493</th>\n",
       "      <td>46.0</td>\n",
       "      <td>female</td>\n",
       "      <td>130</td>\n",
       "      <td>80</td>\n",
       "      <td>above normal</td>\n",
       "      <td>above normal</td>\n",
       "      <td>no</td>\n",
       "      <td>no</td>\n",
       "      <td>no</td>\n",
       "      <td>yes</td>\n",
       "      <td>1.74</td>\n",
       "      <td>114</td>\n",
       "      <td>38</td>\n",
       "    </tr>\n",
       "    <tr>\n",
       "      <th>877</th>\n",
       "      <td>46.0</td>\n",
       "      <td>female</td>\n",
       "      <td>160</td>\n",
       "      <td>80</td>\n",
       "      <td>normal</td>\n",
       "      <td>normal</td>\n",
       "      <td>yes</td>\n",
       "      <td>no</td>\n",
       "      <td>yes</td>\n",
       "      <td>yes</td>\n",
       "      <td>1.62</td>\n",
       "      <td>80</td>\n",
       "      <td>30</td>\n",
       "    </tr>\n",
       "    <tr>\n",
       "      <th>16408</th>\n",
       "      <td>64.0</td>\n",
       "      <td>female</td>\n",
       "      <td>120</td>\n",
       "      <td>80</td>\n",
       "      <td>normal</td>\n",
       "      <td>normal</td>\n",
       "      <td>no</td>\n",
       "      <td>yes</td>\n",
       "      <td>yes</td>\n",
       "      <td>no</td>\n",
       "      <td>1.53</td>\n",
       "      <td>57</td>\n",
       "      <td>24</td>\n",
       "    </tr>\n",
       "    <tr>\n",
       "      <th>60677</th>\n",
       "      <td>64.0</td>\n",
       "      <td>male</td>\n",
       "      <td>130</td>\n",
       "      <td>80</td>\n",
       "      <td>above normal</td>\n",
       "      <td>normal</td>\n",
       "      <td>no</td>\n",
       "      <td>no</td>\n",
       "      <td>no</td>\n",
       "      <td>yes</td>\n",
       "      <td>1.70</td>\n",
       "      <td>64</td>\n",
       "      <td>22</td>\n",
       "    </tr>\n",
       "  </tbody>\n",
       "</table>\n",
       "<p>51789 rows × 13 columns</p>\n",
       "</div>"
      ],
      "text/plain": [
       "        age  gender  systolic blood pressure  diastolic blood pressure  \\\n",
       "57633  57.0    male                      120                        80   \n",
       "69673  50.0  female                       90                        60   \n",
       "20268  54.0    male                      150                        90   \n",
       "61230  60.0  female                      110                        70   \n",
       "5272   58.0  female                      120                        80   \n",
       "...     ...     ...                      ...                       ...   \n",
       "67561  64.0  female                      130                        80   \n",
       "40493  46.0  female                      130                        80   \n",
       "877    46.0  female                      160                        80   \n",
       "16408  64.0  female                      120                        80   \n",
       "60677  64.0    male                      130                        80   \n",
       "\n",
       "      cholesterol level glucose level smoke alcohol intake active  \\\n",
       "57633            normal        normal    no             no    yes   \n",
       "69673      above normal  above normal    no             no     no   \n",
       "20268            normal        normal    no             no    yes   \n",
       "61230      above normal  above normal    no             no     no   \n",
       "5272             normal        normal    no             no     no   \n",
       "...                 ...           ...   ...            ...    ...   \n",
       "67561            normal        normal    no             no    yes   \n",
       "40493      above normal  above normal    no             no     no   \n",
       "877              normal        normal   yes             no    yes   \n",
       "16408            normal        normal    no            yes    yes   \n",
       "60677      above normal        normal    no             no     no   \n",
       "\n",
       "      cardiovascular illness  height_meter  weight_kg  body mass index  \n",
       "57633                     no          1.54         52               22  \n",
       "69673                    yes          1.55         65               27  \n",
       "20268                    yes          1.70         75               26  \n",
       "61230                     no          1.57         65               26  \n",
       "5272                      no          1.65         60               22  \n",
       "...                      ...           ...        ...              ...  \n",
       "67561                     no          1.68         72               26  \n",
       "40493                    yes          1.74        114               38  \n",
       "877                      yes          1.62         80               30  \n",
       "16408                     no          1.53         57               24  \n",
       "60677                    yes          1.70         64               22  \n",
       "\n",
       "[51789 rows x 13 columns]"
      ]
     },
     "execution_count": 26,
     "metadata": {},
     "output_type": "execute_result"
    }
   ],
   "source": [
    "train_set"
   ]
  },
  {
   "cell_type": "code",
   "execution_count": 27,
   "id": "6aa23472",
   "metadata": {
    "execution": {
     "iopub.execute_input": "2024-05-12T14:07:40.199958Z",
     "iopub.status.busy": "2024-05-12T14:07:40.199470Z",
     "iopub.status.idle": "2024-05-12T14:07:40.212539Z",
     "shell.execute_reply": "2024-05-12T14:07:40.211313Z"
    },
    "papermill": {
     "duration": 0.038136,
     "end_time": "2024-05-12T14:07:40.215355",
     "exception": false,
     "start_time": "2024-05-12T14:07:40.177219",
     "status": "completed"
    },
    "tags": []
   },
   "outputs": [],
   "source": [
    "#train_set.head()\n",
    "X = train_set.drop(columns=['cardiovascular illness'])\n",
    "y = train_set['cardiovascular illness'].copy()"
   ]
  },
  {
   "cell_type": "code",
   "execution_count": 28,
   "id": "74f792b5",
   "metadata": {
    "execution": {
     "iopub.execute_input": "2024-05-12T14:07:40.259240Z",
     "iopub.status.busy": "2024-05-12T14:07:40.258815Z",
     "iopub.status.idle": "2024-05-12T14:07:40.452862Z",
     "shell.execute_reply": "2024-05-12T14:07:40.451683Z"
    },
    "papermill": {
     "duration": 0.219343,
     "end_time": "2024-05-12T14:07:40.455939",
     "exception": false,
     "start_time": "2024-05-12T14:07:40.236596",
     "status": "completed"
    },
    "tags": []
   },
   "outputs": [],
   "source": [
    "from sklearn.preprocessing import StandardScaler, OneHotEncoder\n",
    "from sklearn.impute import SimpleImputer\n",
    "from sklearn.pipeline import Pipeline, make_pipeline\n",
    "from sklearn.compose import ColumnTransformer\n",
    "\n",
    "num_pipeline = make_pipeline(SimpleImputer(strategy=\"median\"), StandardScaler())\n",
    "\n",
    "numerical_features = ['age', 'body mass index','systolic blood pressure', 'diastolic blood pressure']\n",
    "categorical_features = ['gender', 'cholesterol level','glucose level', 'smoke', 'alcohol intake', 'active']\n",
    "\n",
    "cat_pipeline = make_pipeline(\n",
    "    SimpleImputer(strategy=\"most_frequent\"),\n",
    "    OneHotEncoder(handle_unknown=\"ignore\"))\n",
    "\n",
    "preprocessing = ColumnTransformer([\n",
    "    (\"num\", num_pipeline, numerical_features),\n",
    "    (\"cat\", cat_pipeline, categorical_features),\n",
    "])"
   ]
  },
  {
   "cell_type": "code",
   "execution_count": 29,
   "id": "b7e847cc",
   "metadata": {
    "execution": {
     "iopub.execute_input": "2024-05-12T14:07:40.500251Z",
     "iopub.status.busy": "2024-05-12T14:07:40.499839Z",
     "iopub.status.idle": "2024-05-12T14:07:40.505588Z",
     "shell.execute_reply": "2024-05-12T14:07:40.503967Z"
    },
    "papermill": {
     "duration": 0.031158,
     "end_time": "2024-05-12T14:07:40.508406",
     "exception": false,
     "start_time": "2024-05-12T14:07:40.477248",
     "status": "completed"
    },
    "tags": []
   },
   "outputs": [],
   "source": [
    "# correlation"
   ]
  },
  {
   "cell_type": "code",
   "execution_count": 30,
   "id": "9a97e851",
   "metadata": {
    "execution": {
     "iopub.execute_input": "2024-05-12T14:07:40.552940Z",
     "iopub.status.busy": "2024-05-12T14:07:40.552124Z",
     "iopub.status.idle": "2024-05-12T14:07:40.556805Z",
     "shell.execute_reply": "2024-05-12T14:07:40.555881Z"
    },
    "papermill": {
     "duration": 0.029676,
     "end_time": "2024-05-12T14:07:40.559205",
     "exception": false,
     "start_time": "2024-05-12T14:07:40.529529",
     "status": "completed"
    },
    "tags": []
   },
   "outputs": [],
   "source": [
    "#df3['systolic blood pressure'].value_counts()\n",
    "#X.info()"
   ]
  },
  {
   "cell_type": "code",
   "execution_count": 31,
   "id": "d0c3968c",
   "metadata": {
    "execution": {
     "iopub.execute_input": "2024-05-12T14:07:40.602930Z",
     "iopub.status.busy": "2024-05-12T14:07:40.602191Z",
     "iopub.status.idle": "2024-05-12T14:07:40.608514Z",
     "shell.execute_reply": "2024-05-12T14:07:40.607216Z"
    },
    "papermill": {
     "duration": 0.030788,
     "end_time": "2024-05-12T14:07:40.610911",
     "exception": false,
     "start_time": "2024-05-12T14:07:40.580123",
     "status": "completed"
    },
    "tags": []
   },
   "outputs": [],
   "source": [
    "from sklearn.compose import make_column_selector, make_column_transformer\n",
    "\n",
    "preprocessing = make_column_transformer(\n",
    "    (num_pipeline, make_column_selector(dtype_include=np.number)),\n",
    "    (cat_pipeline, make_column_selector(dtype_include=object)),\n",
    ")"
   ]
  },
  {
   "cell_type": "code",
   "execution_count": 32,
   "id": "3143d518",
   "metadata": {
    "execution": {
     "iopub.execute_input": "2024-05-12T14:07:40.655586Z",
     "iopub.status.busy": "2024-05-12T14:07:40.655087Z",
     "iopub.status.idle": "2024-05-12T14:07:40.927033Z",
     "shell.execute_reply": "2024-05-12T14:07:40.925556Z"
    },
    "papermill": {
     "duration": 0.297289,
     "end_time": "2024-05-12T14:07:40.929977",
     "exception": false,
     "start_time": "2024-05-12T14:07:40.632688",
     "status": "completed"
    },
    "tags": []
   },
   "outputs": [],
   "source": [
    "X_prepared = preprocessing.fit_transform(X)"
   ]
  },
  {
   "cell_type": "code",
   "execution_count": 33,
   "id": "d957d98c",
   "metadata": {
    "execution": {
     "iopub.execute_input": "2024-05-12T14:07:40.974467Z",
     "iopub.status.busy": "2024-05-12T14:07:40.973730Z",
     "iopub.status.idle": "2024-05-12T14:07:40.981354Z",
     "shell.execute_reply": "2024-05-12T14:07:40.980228Z"
    },
    "papermill": {
     "duration": 0.032674,
     "end_time": "2024-05-12T14:07:40.984016",
     "exception": false,
     "start_time": "2024-05-12T14:07:40.951342",
     "status": "completed"
    },
    "tags": []
   },
   "outputs": [
    {
     "data": {
      "text/plain": [
       "array([[ 0.54323785, -0.40667907, -0.14216139, ...,  0.        ,\n",
       "         0.        ,  1.        ],\n",
       "       [-0.48423221, -2.20871219, -2.22555385, ...,  0.        ,\n",
       "         1.        ,  0.        ],\n",
       "       [ 0.10289354,  1.39535405,  0.89953483, ...,  0.        ,\n",
       "         0.        ,  1.        ],\n",
       "       ...,\n",
       "       [-1.07135796,  1.99603176, -0.14216139, ...,  0.        ,\n",
       "         0.        ,  1.        ],\n",
       "       [ 1.57070791, -0.40667907, -0.14216139, ...,  1.        ,\n",
       "         0.        ,  1.        ],\n",
       "       [ 1.57070791,  0.19399864, -0.14216139, ...,  0.        ,\n",
       "         1.        ,  0.        ]])"
      ]
     },
     "execution_count": 33,
     "metadata": {},
     "output_type": "execute_result"
    }
   ],
   "source": [
    "X_prepared"
   ]
  },
  {
   "cell_type": "code",
   "execution_count": 34,
   "id": "b633be7e",
   "metadata": {
    "execution": {
     "iopub.execute_input": "2024-05-12T14:07:41.029271Z",
     "iopub.status.busy": "2024-05-12T14:07:41.028188Z",
     "iopub.status.idle": "2024-05-12T14:07:41.033446Z",
     "shell.execute_reply": "2024-05-12T14:07:41.032055Z"
    },
    "papermill": {
     "duration": 0.030476,
     "end_time": "2024-05-12T14:07:41.036362",
     "exception": false,
     "start_time": "2024-05-12T14:07:41.005886",
     "status": "completed"
    },
    "tags": []
   },
   "outputs": [],
   "source": [
    "# X"
   ]
  },
  {
   "cell_type": "code",
   "execution_count": 35,
   "id": "af9e338a",
   "metadata": {
    "execution": {
     "iopub.execute_input": "2024-05-12T14:07:41.082153Z",
     "iopub.status.busy": "2024-05-12T14:07:41.081704Z",
     "iopub.status.idle": "2024-05-12T14:07:41.087122Z",
     "shell.execute_reply": "2024-05-12T14:07:41.085814Z"
    },
    "papermill": {
     "duration": 0.030942,
     "end_time": "2024-05-12T14:07:41.089582",
     "exception": false,
     "start_time": "2024-05-12T14:07:41.058640",
     "status": "completed"
    },
    "tags": []
   },
   "outputs": [],
   "source": [
    "# X['active'].unique()"
   ]
  },
  {
   "cell_type": "code",
   "execution_count": 36,
   "id": "74620bbb",
   "metadata": {
    "execution": {
     "iopub.execute_input": "2024-05-12T14:07:41.133854Z",
     "iopub.status.busy": "2024-05-12T14:07:41.133061Z",
     "iopub.status.idle": "2024-05-12T14:07:41.160930Z",
     "shell.execute_reply": "2024-05-12T14:07:41.159752Z"
    },
    "papermill": {
     "duration": 0.052885,
     "end_time": "2024-05-12T14:07:41.163592",
     "exception": false,
     "start_time": "2024-05-12T14:07:41.110707",
     "status": "completed"
    },
    "tags": []
   },
   "outputs": [
    {
     "data": {
      "text/html": [
       "<div>\n",
       "<style scoped>\n",
       "    .dataframe tbody tr th:only-of-type {\n",
       "        vertical-align: middle;\n",
       "    }\n",
       "\n",
       "    .dataframe tbody tr th {\n",
       "        vertical-align: top;\n",
       "    }\n",
       "\n",
       "    .dataframe thead th {\n",
       "        text-align: right;\n",
       "    }\n",
       "</style>\n",
       "<table border=\"1\" class=\"dataframe\">\n",
       "  <thead>\n",
       "    <tr style=\"text-align: right;\">\n",
       "      <th></th>\n",
       "      <th>pipeline-1__age</th>\n",
       "      <th>pipeline-1__systolic blood pressure</th>\n",
       "      <th>pipeline-1__diastolic blood pressure</th>\n",
       "      <th>pipeline-1__height_meter</th>\n",
       "      <th>pipeline-1__weight_kg</th>\n",
       "      <th>pipeline-1__body mass index</th>\n",
       "      <th>pipeline-2__gender_female</th>\n",
       "      <th>pipeline-2__gender_male</th>\n",
       "      <th>pipeline-2__cholesterol level_above normal</th>\n",
       "      <th>pipeline-2__cholesterol level_normal</th>\n",
       "      <th>pipeline-2__cholesterol level_well above normal</th>\n",
       "      <th>pipeline-2__glucose level_above normal</th>\n",
       "      <th>pipeline-2__glucose level_normal</th>\n",
       "      <th>pipeline-2__glucose level_well above normal</th>\n",
       "      <th>pipeline-2__smoke_no</th>\n",
       "      <th>pipeline-2__smoke_yes</th>\n",
       "      <th>pipeline-2__alcohol intake_no</th>\n",
       "      <th>pipeline-2__alcohol intake_yes</th>\n",
       "      <th>pipeline-2__active_no</th>\n",
       "      <th>pipeline-2__active_yes</th>\n",
       "    </tr>\n",
       "  </thead>\n",
       "  <tbody>\n",
       "    <tr>\n",
       "      <th>57633</th>\n",
       "      <td>0.543238</td>\n",
       "      <td>-0.406679</td>\n",
       "      <td>-0.142161</td>\n",
       "      <td>-1.251574</td>\n",
       "      <td>-1.551395</td>\n",
       "      <td>-0.955458</td>\n",
       "      <td>0.0</td>\n",
       "      <td>1.0</td>\n",
       "      <td>0.0</td>\n",
       "      <td>1.0</td>\n",
       "      <td>0.0</td>\n",
       "      <td>0.0</td>\n",
       "      <td>1.0</td>\n",
       "      <td>0.0</td>\n",
       "      <td>1.0</td>\n",
       "      <td>0.0</td>\n",
       "      <td>1.0</td>\n",
       "      <td>0.0</td>\n",
       "      <td>0.0</td>\n",
       "      <td>1.0</td>\n",
       "    </tr>\n",
       "    <tr>\n",
       "      <th>69673</th>\n",
       "      <td>-0.484232</td>\n",
       "      <td>-2.208712</td>\n",
       "      <td>-2.225554</td>\n",
       "      <td>-1.131043</td>\n",
       "      <td>-0.653619</td>\n",
       "      <td>-0.106436</td>\n",
       "      <td>1.0</td>\n",
       "      <td>0.0</td>\n",
       "      <td>1.0</td>\n",
       "      <td>0.0</td>\n",
       "      <td>0.0</td>\n",
       "      <td>1.0</td>\n",
       "      <td>0.0</td>\n",
       "      <td>0.0</td>\n",
       "      <td>1.0</td>\n",
       "      <td>0.0</td>\n",
       "      <td>1.0</td>\n",
       "      <td>0.0</td>\n",
       "      <td>1.0</td>\n",
       "      <td>0.0</td>\n",
       "    </tr>\n",
       "  </tbody>\n",
       "</table>\n",
       "</div>"
      ],
      "text/plain": [
       "       pipeline-1__age  pipeline-1__systolic blood pressure  \\\n",
       "57633         0.543238                            -0.406679   \n",
       "69673        -0.484232                            -2.208712   \n",
       "\n",
       "       pipeline-1__diastolic blood pressure  pipeline-1__height_meter  \\\n",
       "57633                             -0.142161                 -1.251574   \n",
       "69673                             -2.225554                 -1.131043   \n",
       "\n",
       "       pipeline-1__weight_kg  pipeline-1__body mass index  \\\n",
       "57633              -1.551395                    -0.955458   \n",
       "69673              -0.653619                    -0.106436   \n",
       "\n",
       "       pipeline-2__gender_female  pipeline-2__gender_male  \\\n",
       "57633                        0.0                      1.0   \n",
       "69673                        1.0                      0.0   \n",
       "\n",
       "       pipeline-2__cholesterol level_above normal  \\\n",
       "57633                                         0.0   \n",
       "69673                                         1.0   \n",
       "\n",
       "       pipeline-2__cholesterol level_normal  \\\n",
       "57633                                   1.0   \n",
       "69673                                   0.0   \n",
       "\n",
       "       pipeline-2__cholesterol level_well above normal  \\\n",
       "57633                                              0.0   \n",
       "69673                                              0.0   \n",
       "\n",
       "       pipeline-2__glucose level_above normal  \\\n",
       "57633                                     0.0   \n",
       "69673                                     1.0   \n",
       "\n",
       "       pipeline-2__glucose level_normal  \\\n",
       "57633                               1.0   \n",
       "69673                               0.0   \n",
       "\n",
       "       pipeline-2__glucose level_well above normal  pipeline-2__smoke_no  \\\n",
       "57633                                          0.0                   1.0   \n",
       "69673                                          0.0                   1.0   \n",
       "\n",
       "       pipeline-2__smoke_yes  pipeline-2__alcohol intake_no  \\\n",
       "57633                    0.0                            1.0   \n",
       "69673                    0.0                            1.0   \n",
       "\n",
       "       pipeline-2__alcohol intake_yes  pipeline-2__active_no  \\\n",
       "57633                             0.0                    0.0   \n",
       "69673                             0.0                    1.0   \n",
       "\n",
       "       pipeline-2__active_yes  \n",
       "57633                     1.0  \n",
       "69673                     0.0  "
      ]
     },
     "execution_count": 36,
     "metadata": {},
     "output_type": "execute_result"
    }
   ],
   "source": [
    "X_prepared_fr = pd.DataFrame(\n",
    "    X_prepared,\n",
    "    columns=preprocessing.get_feature_names_out(),\n",
    "    index=X.index)\n",
    "X_prepared_fr.head(2)"
   ]
  },
  {
   "cell_type": "code",
   "execution_count": 37,
   "id": "99f67c8a",
   "metadata": {
    "execution": {
     "iopub.execute_input": "2024-05-12T14:07:41.209596Z",
     "iopub.status.busy": "2024-05-12T14:07:41.209146Z",
     "iopub.status.idle": "2024-05-12T14:07:41.991058Z",
     "shell.execute_reply": "2024-05-12T14:07:41.989812Z"
    },
    "papermill": {
     "duration": 0.808766,
     "end_time": "2024-05-12T14:07:41.993936",
     "exception": false,
     "start_time": "2024-05-12T14:07:41.185170",
     "status": "completed"
    },
    "tags": []
   },
   "outputs": [
    {
     "data": {
      "text/html": [
       "<style>#sk-container-id-1 {color: black;background-color: white;}#sk-container-id-1 pre{padding: 0;}#sk-container-id-1 div.sk-toggleable {background-color: white;}#sk-container-id-1 label.sk-toggleable__label {cursor: pointer;display: block;width: 100%;margin-bottom: 0;padding: 0.3em;box-sizing: border-box;text-align: center;}#sk-container-id-1 label.sk-toggleable__label-arrow:before {content: \"▸\";float: left;margin-right: 0.25em;color: #696969;}#sk-container-id-1 label.sk-toggleable__label-arrow:hover:before {color: black;}#sk-container-id-1 div.sk-estimator:hover label.sk-toggleable__label-arrow:before {color: black;}#sk-container-id-1 div.sk-toggleable__content {max-height: 0;max-width: 0;overflow: hidden;text-align: left;background-color: #f0f8ff;}#sk-container-id-1 div.sk-toggleable__content pre {margin: 0.2em;color: black;border-radius: 0.25em;background-color: #f0f8ff;}#sk-container-id-1 input.sk-toggleable__control:checked~div.sk-toggleable__content {max-height: 200px;max-width: 100%;overflow: auto;}#sk-container-id-1 input.sk-toggleable__control:checked~label.sk-toggleable__label-arrow:before {content: \"▾\";}#sk-container-id-1 div.sk-estimator input.sk-toggleable__control:checked~label.sk-toggleable__label {background-color: #d4ebff;}#sk-container-id-1 div.sk-label input.sk-toggleable__control:checked~label.sk-toggleable__label {background-color: #d4ebff;}#sk-container-id-1 input.sk-hidden--visually {border: 0;clip: rect(1px 1px 1px 1px);clip: rect(1px, 1px, 1px, 1px);height: 1px;margin: -1px;overflow: hidden;padding: 0;position: absolute;width: 1px;}#sk-container-id-1 div.sk-estimator {font-family: monospace;background-color: #f0f8ff;border: 1px dotted black;border-radius: 0.25em;box-sizing: border-box;margin-bottom: 0.5em;}#sk-container-id-1 div.sk-estimator:hover {background-color: #d4ebff;}#sk-container-id-1 div.sk-parallel-item::after {content: \"\";width: 100%;border-bottom: 1px solid gray;flex-grow: 1;}#sk-container-id-1 div.sk-label:hover label.sk-toggleable__label {background-color: #d4ebff;}#sk-container-id-1 div.sk-serial::before {content: \"\";position: absolute;border-left: 1px solid gray;box-sizing: border-box;top: 0;bottom: 0;left: 50%;z-index: 0;}#sk-container-id-1 div.sk-serial {display: flex;flex-direction: column;align-items: center;background-color: white;padding-right: 0.2em;padding-left: 0.2em;position: relative;}#sk-container-id-1 div.sk-item {position: relative;z-index: 1;}#sk-container-id-1 div.sk-parallel {display: flex;align-items: stretch;justify-content: center;background-color: white;position: relative;}#sk-container-id-1 div.sk-item::before, #sk-container-id-1 div.sk-parallel-item::before {content: \"\";position: absolute;border-left: 1px solid gray;box-sizing: border-box;top: 0;bottom: 0;left: 50%;z-index: -1;}#sk-container-id-1 div.sk-parallel-item {display: flex;flex-direction: column;z-index: 1;position: relative;background-color: white;}#sk-container-id-1 div.sk-parallel-item:first-child::after {align-self: flex-end;width: 50%;}#sk-container-id-1 div.sk-parallel-item:last-child::after {align-self: flex-start;width: 50%;}#sk-container-id-1 div.sk-parallel-item:only-child::after {width: 0;}#sk-container-id-1 div.sk-dashed-wrapped {border: 1px dashed gray;margin: 0 0.4em 0.5em 0.4em;box-sizing: border-box;padding-bottom: 0.4em;background-color: white;}#sk-container-id-1 div.sk-label label {font-family: monospace;font-weight: bold;display: inline-block;line-height: 1.2em;}#sk-container-id-1 div.sk-label-container {text-align: center;}#sk-container-id-1 div.sk-container {/* jupyter's `normalize.less` sets `[hidden] { display: none; }` but bootstrap.min.css set `[hidden] { display: none !important; }` so we also need the `!important` here to be able to override the default hidden behavior on the sphinx rendered scikit-learn.org. See: https://github.com/scikit-learn/scikit-learn/issues/21755 */display: inline-block !important;position: relative;}#sk-container-id-1 div.sk-text-repr-fallback {display: none;}</style><div id=\"sk-container-id-1\" class=\"sk-top-container\"><div class=\"sk-text-repr-fallback\"><pre>Pipeline(steps=[(&#x27;columntransformer&#x27;,\n",
       "                 ColumnTransformer(transformers=[(&#x27;pipeline-1&#x27;,\n",
       "                                                  Pipeline(steps=[(&#x27;simpleimputer&#x27;,\n",
       "                                                                   SimpleImputer(strategy=&#x27;median&#x27;)),\n",
       "                                                                  (&#x27;standardscaler&#x27;,\n",
       "                                                                   StandardScaler())]),\n",
       "                                                  &lt;sklearn.compose._column_transformer.make_column_selector object at 0x7d806eb6d630&gt;),\n",
       "                                                 (&#x27;pipeline-2&#x27;,\n",
       "                                                  Pipeline(steps=[(&#x27;simpleimputer&#x27;,\n",
       "                                                                   SimpleImputer(strategy=&#x27;most_frequent&#x27;)),\n",
       "                                                                  (&#x27;onehotencoder&#x27;,\n",
       "                                                                   OneHotEncoder(handle_unknown=&#x27;ignore&#x27;))]),\n",
       "                                                  &lt;sklearn.compose._column_transformer.make_column_selector object at 0x7d806eb6e530&gt;)])),\n",
       "                (&#x27;logisticregression&#x27;, LogisticRegression())])</pre><b>In a Jupyter environment, please rerun this cell to show the HTML representation or trust the notebook. <br />On GitHub, the HTML representation is unable to render, please try loading this page with nbviewer.org.</b></div><div class=\"sk-container\" hidden><div class=\"sk-item sk-dashed-wrapped\"><div class=\"sk-label-container\"><div class=\"sk-label sk-toggleable\"><input class=\"sk-toggleable__control sk-hidden--visually\" id=\"sk-estimator-id-1\" type=\"checkbox\" ><label for=\"sk-estimator-id-1\" class=\"sk-toggleable__label sk-toggleable__label-arrow\">Pipeline</label><div class=\"sk-toggleable__content\"><pre>Pipeline(steps=[(&#x27;columntransformer&#x27;,\n",
       "                 ColumnTransformer(transformers=[(&#x27;pipeline-1&#x27;,\n",
       "                                                  Pipeline(steps=[(&#x27;simpleimputer&#x27;,\n",
       "                                                                   SimpleImputer(strategy=&#x27;median&#x27;)),\n",
       "                                                                  (&#x27;standardscaler&#x27;,\n",
       "                                                                   StandardScaler())]),\n",
       "                                                  &lt;sklearn.compose._column_transformer.make_column_selector object at 0x7d806eb6d630&gt;),\n",
       "                                                 (&#x27;pipeline-2&#x27;,\n",
       "                                                  Pipeline(steps=[(&#x27;simpleimputer&#x27;,\n",
       "                                                                   SimpleImputer(strategy=&#x27;most_frequent&#x27;)),\n",
       "                                                                  (&#x27;onehotencoder&#x27;,\n",
       "                                                                   OneHotEncoder(handle_unknown=&#x27;ignore&#x27;))]),\n",
       "                                                  &lt;sklearn.compose._column_transformer.make_column_selector object at 0x7d806eb6e530&gt;)])),\n",
       "                (&#x27;logisticregression&#x27;, LogisticRegression())])</pre></div></div></div><div class=\"sk-serial\"><div class=\"sk-item sk-dashed-wrapped\"><div class=\"sk-label-container\"><div class=\"sk-label sk-toggleable\"><input class=\"sk-toggleable__control sk-hidden--visually\" id=\"sk-estimator-id-2\" type=\"checkbox\" ><label for=\"sk-estimator-id-2\" class=\"sk-toggleable__label sk-toggleable__label-arrow\">columntransformer: ColumnTransformer</label><div class=\"sk-toggleable__content\"><pre>ColumnTransformer(transformers=[(&#x27;pipeline-1&#x27;,\n",
       "                                 Pipeline(steps=[(&#x27;simpleimputer&#x27;,\n",
       "                                                  SimpleImputer(strategy=&#x27;median&#x27;)),\n",
       "                                                 (&#x27;standardscaler&#x27;,\n",
       "                                                  StandardScaler())]),\n",
       "                                 &lt;sklearn.compose._column_transformer.make_column_selector object at 0x7d806eb6d630&gt;),\n",
       "                                (&#x27;pipeline-2&#x27;,\n",
       "                                 Pipeline(steps=[(&#x27;simpleimputer&#x27;,\n",
       "                                                  SimpleImputer(strategy=&#x27;most_frequent&#x27;)),\n",
       "                                                 (&#x27;onehotencoder&#x27;,\n",
       "                                                  OneHotEncoder(handle_unknown=&#x27;ignore&#x27;))]),\n",
       "                                 &lt;sklearn.compose._column_transformer.make_column_selector object at 0x7d806eb6e530&gt;)])</pre></div></div></div><div class=\"sk-parallel\"><div class=\"sk-parallel-item\"><div class=\"sk-item\"><div class=\"sk-label-container\"><div class=\"sk-label sk-toggleable\"><input class=\"sk-toggleable__control sk-hidden--visually\" id=\"sk-estimator-id-3\" type=\"checkbox\" ><label for=\"sk-estimator-id-3\" class=\"sk-toggleable__label sk-toggleable__label-arrow\">pipeline-1</label><div class=\"sk-toggleable__content\"><pre>&lt;sklearn.compose._column_transformer.make_column_selector object at 0x7d806eb6d630&gt;</pre></div></div></div><div class=\"sk-serial\"><div class=\"sk-item\"><div class=\"sk-serial\"><div class=\"sk-item\"><div class=\"sk-estimator sk-toggleable\"><input class=\"sk-toggleable__control sk-hidden--visually\" id=\"sk-estimator-id-4\" type=\"checkbox\" ><label for=\"sk-estimator-id-4\" class=\"sk-toggleable__label sk-toggleable__label-arrow\">SimpleImputer</label><div class=\"sk-toggleable__content\"><pre>SimpleImputer(strategy=&#x27;median&#x27;)</pre></div></div></div><div class=\"sk-item\"><div class=\"sk-estimator sk-toggleable\"><input class=\"sk-toggleable__control sk-hidden--visually\" id=\"sk-estimator-id-5\" type=\"checkbox\" ><label for=\"sk-estimator-id-5\" class=\"sk-toggleable__label sk-toggleable__label-arrow\">StandardScaler</label><div class=\"sk-toggleable__content\"><pre>StandardScaler()</pre></div></div></div></div></div></div></div></div><div class=\"sk-parallel-item\"><div class=\"sk-item\"><div class=\"sk-label-container\"><div class=\"sk-label sk-toggleable\"><input class=\"sk-toggleable__control sk-hidden--visually\" id=\"sk-estimator-id-6\" type=\"checkbox\" ><label for=\"sk-estimator-id-6\" class=\"sk-toggleable__label sk-toggleable__label-arrow\">pipeline-2</label><div class=\"sk-toggleable__content\"><pre>&lt;sklearn.compose._column_transformer.make_column_selector object at 0x7d806eb6e530&gt;</pre></div></div></div><div class=\"sk-serial\"><div class=\"sk-item\"><div class=\"sk-serial\"><div class=\"sk-item\"><div class=\"sk-estimator sk-toggleable\"><input class=\"sk-toggleable__control sk-hidden--visually\" id=\"sk-estimator-id-7\" type=\"checkbox\" ><label for=\"sk-estimator-id-7\" class=\"sk-toggleable__label sk-toggleable__label-arrow\">SimpleImputer</label><div class=\"sk-toggleable__content\"><pre>SimpleImputer(strategy=&#x27;most_frequent&#x27;)</pre></div></div></div><div class=\"sk-item\"><div class=\"sk-estimator sk-toggleable\"><input class=\"sk-toggleable__control sk-hidden--visually\" id=\"sk-estimator-id-8\" type=\"checkbox\" ><label for=\"sk-estimator-id-8\" class=\"sk-toggleable__label sk-toggleable__label-arrow\">OneHotEncoder</label><div class=\"sk-toggleable__content\"><pre>OneHotEncoder(handle_unknown=&#x27;ignore&#x27;)</pre></div></div></div></div></div></div></div></div></div></div><div class=\"sk-item\"><div class=\"sk-estimator sk-toggleable\"><input class=\"sk-toggleable__control sk-hidden--visually\" id=\"sk-estimator-id-9\" type=\"checkbox\" ><label for=\"sk-estimator-id-9\" class=\"sk-toggleable__label sk-toggleable__label-arrow\">LogisticRegression</label><div class=\"sk-toggleable__content\"><pre>LogisticRegression()</pre></div></div></div></div></div></div></div>"
      ],
      "text/plain": [
       "Pipeline(steps=[('columntransformer',\n",
       "                 ColumnTransformer(transformers=[('pipeline-1',\n",
       "                                                  Pipeline(steps=[('simpleimputer',\n",
       "                                                                   SimpleImputer(strategy='median')),\n",
       "                                                                  ('standardscaler',\n",
       "                                                                   StandardScaler())]),\n",
       "                                                  <sklearn.compose._column_transformer.make_column_selector object at 0x7d806eb6d630>),\n",
       "                                                 ('pipeline-2',\n",
       "                                                  Pipeline(steps=[('simpleimputer',\n",
       "                                                                   SimpleImputer(strategy='most_frequent')),\n",
       "                                                                  ('onehotencoder',\n",
       "                                                                   OneHotEncoder(handle_unknown='ignore'))]),\n",
       "                                                  <sklearn.compose._column_transformer.make_column_selector object at 0x7d806eb6e530>)])),\n",
       "                ('logisticregression', LogisticRegression())])"
      ]
     },
     "execution_count": 37,
     "metadata": {},
     "output_type": "execute_result"
    }
   ],
   "source": [
    "from sklearn.linear_model import LogisticRegression\n",
    "log_clf = make_pipeline(preprocessing, LogisticRegression())\n",
    "log_clf.fit(X, y)"
   ]
  },
  {
   "cell_type": "code",
   "execution_count": 38,
   "id": "91bdc30e",
   "metadata": {
    "execution": {
     "iopub.execute_input": "2024-05-12T14:07:42.040048Z",
     "iopub.status.busy": "2024-05-12T14:07:42.039284Z",
     "iopub.status.idle": "2024-05-12T14:07:42.207795Z",
     "shell.execute_reply": "2024-05-12T14:07:42.206196Z"
    },
    "papermill": {
     "duration": 0.1961,
     "end_time": "2024-05-12T14:07:42.211982",
     "exception": false,
     "start_time": "2024-05-12T14:07:42.015882",
     "status": "completed"
    },
    "tags": []
   },
   "outputs": [
    {
     "data": {
      "text/plain": [
       "array(['no', 'no', 'yes', ..., 'yes', 'no', 'yes'], dtype=object)"
      ]
     },
     "execution_count": 38,
     "metadata": {},
     "output_type": "execute_result"
    }
   ],
   "source": [
    "train_predictions = log_clf.predict(X)\n",
    "train_predictions"
   ]
  },
  {
   "cell_type": "code",
   "execution_count": 39,
   "id": "c224e9d3",
   "metadata": {
    "execution": {
     "iopub.execute_input": "2024-05-12T14:07:42.317300Z",
     "iopub.status.busy": "2024-05-12T14:07:42.316867Z",
     "iopub.status.idle": "2024-05-12T14:07:46.338965Z",
     "shell.execute_reply": "2024-05-12T14:07:46.337579Z"
    },
    "papermill": {
     "duration": 4.071304,
     "end_time": "2024-05-12T14:07:46.341501",
     "exception": false,
     "start_time": "2024-05-12T14:07:42.270197",
     "status": "completed"
    },
    "tags": []
   },
   "outputs": [
    {
     "name": "stdout",
     "output_type": "stream",
     "text": [
      "              precision    recall  f1-score   support\n",
      "\n",
      "          no       0.70      0.77      0.73     25544\n",
      "         yes       0.75      0.68      0.72     26245\n",
      "\n",
      "    accuracy                           0.72     51789\n",
      "   macro avg       0.73      0.72      0.72     51789\n",
      "weighted avg       0.73      0.72      0.72     51789\n",
      "\n"
     ]
    }
   ],
   "source": [
    "from sklearn.metrics import confusion_matrix,classification_report\n",
    "\n",
    "print(classification_report(y, train_predictions))"
   ]
  },
  {
   "cell_type": "code",
   "execution_count": 40,
   "id": "7e6ee312",
   "metadata": {
    "execution": {
     "iopub.execute_input": "2024-05-12T14:07:46.388114Z",
     "iopub.status.busy": "2024-05-12T14:07:46.387389Z",
     "iopub.status.idle": "2024-05-12T14:07:46.391448Z",
     "shell.execute_reply": "2024-05-12T14:07:46.390583Z"
    },
    "papermill": {
     "duration": 0.030118,
     "end_time": "2024-05-12T14:07:46.393894",
     "exception": false,
     "start_time": "2024-05-12T14:07:46.363776",
     "status": "completed"
    },
    "tags": []
   },
   "outputs": [],
   "source": [
    "# test_set.info()"
   ]
  },
  {
   "cell_type": "code",
   "execution_count": 41,
   "id": "726f768b",
   "metadata": {
    "execution": {
     "iopub.execute_input": "2024-05-12T14:07:46.439836Z",
     "iopub.status.busy": "2024-05-12T14:07:46.439358Z",
     "iopub.status.idle": "2024-05-12T14:07:46.447751Z",
     "shell.execute_reply": "2024-05-12T14:07:46.446567Z"
    },
    "papermill": {
     "duration": 0.03463,
     "end_time": "2024-05-12T14:07:46.450429",
     "exception": false,
     "start_time": "2024-05-12T14:07:46.415799",
     "status": "completed"
    },
    "tags": []
   },
   "outputs": [],
   "source": [
    "X_test = test_set.drop('cardiovascular illness', axis=1)\n",
    "y_test = test_set['cardiovascular illness'].copy()"
   ]
  },
  {
   "cell_type": "code",
   "execution_count": 42,
   "id": "8c033dca",
   "metadata": {
    "execution": {
     "iopub.execute_input": "2024-05-12T14:07:46.496141Z",
     "iopub.status.busy": "2024-05-12T14:07:46.495690Z",
     "iopub.status.idle": "2024-05-12T14:07:46.549100Z",
     "shell.execute_reply": "2024-05-12T14:07:46.547438Z"
    },
    "papermill": {
     "duration": 0.082153,
     "end_time": "2024-05-12T14:07:46.554426",
     "exception": false,
     "start_time": "2024-05-12T14:07:46.472273",
     "status": "completed"
    },
    "tags": []
   },
   "outputs": [],
   "source": [
    "test_predictions1 = log_clf.predict(X_test)"
   ]
  },
  {
   "cell_type": "code",
   "execution_count": 43,
   "id": "e17619de",
   "metadata": {
    "execution": {
     "iopub.execute_input": "2024-05-12T14:07:46.654976Z",
     "iopub.status.busy": "2024-05-12T14:07:46.654271Z",
     "iopub.status.idle": "2024-05-12T14:07:47.555787Z",
     "shell.execute_reply": "2024-05-12T14:07:47.554590Z"
    },
    "papermill": {
     "duration": 0.95649,
     "end_time": "2024-05-12T14:07:47.558641",
     "exception": false,
     "start_time": "2024-05-12T14:07:46.602151",
     "status": "completed"
    },
    "tags": []
   },
   "outputs": [
    {
     "name": "stdout",
     "output_type": "stream",
     "text": [
      "              precision    recall  f1-score   support\n",
      "\n",
      "          no       0.70      0.76      0.73      6304\n",
      "         yes       0.75      0.69      0.72      6644\n",
      "\n",
      "    accuracy                           0.73     12948\n",
      "   macro avg       0.73      0.73      0.73     12948\n",
      "weighted avg       0.73      0.73      0.73     12948\n",
      "\n"
     ]
    }
   ],
   "source": [
    "print(classification_report(y_test, test_predictions1))"
   ]
  },
  {
   "cell_type": "code",
   "execution_count": 44,
   "id": "f58b5b78",
   "metadata": {
    "execution": {
     "iopub.execute_input": "2024-05-12T14:07:47.605863Z",
     "iopub.status.busy": "2024-05-12T14:07:47.605129Z",
     "iopub.status.idle": "2024-05-12T14:09:16.853410Z",
     "shell.execute_reply": "2024-05-12T14:09:16.852416Z"
    },
    "papermill": {
     "duration": 89.297068,
     "end_time": "2024-05-12T14:09:16.878509",
     "exception": false,
     "start_time": "2024-05-12T14:07:47.581441",
     "status": "completed"
    },
    "tags": []
   },
   "outputs": [
    {
     "data": {
      "text/html": [
       "<style>#sk-container-id-2 {color: black;background-color: white;}#sk-container-id-2 pre{padding: 0;}#sk-container-id-2 div.sk-toggleable {background-color: white;}#sk-container-id-2 label.sk-toggleable__label {cursor: pointer;display: block;width: 100%;margin-bottom: 0;padding: 0.3em;box-sizing: border-box;text-align: center;}#sk-container-id-2 label.sk-toggleable__label-arrow:before {content: \"▸\";float: left;margin-right: 0.25em;color: #696969;}#sk-container-id-2 label.sk-toggleable__label-arrow:hover:before {color: black;}#sk-container-id-2 div.sk-estimator:hover label.sk-toggleable__label-arrow:before {color: black;}#sk-container-id-2 div.sk-toggleable__content {max-height: 0;max-width: 0;overflow: hidden;text-align: left;background-color: #f0f8ff;}#sk-container-id-2 div.sk-toggleable__content pre {margin: 0.2em;color: black;border-radius: 0.25em;background-color: #f0f8ff;}#sk-container-id-2 input.sk-toggleable__control:checked~div.sk-toggleable__content {max-height: 200px;max-width: 100%;overflow: auto;}#sk-container-id-2 input.sk-toggleable__control:checked~label.sk-toggleable__label-arrow:before {content: \"▾\";}#sk-container-id-2 div.sk-estimator input.sk-toggleable__control:checked~label.sk-toggleable__label {background-color: #d4ebff;}#sk-container-id-2 div.sk-label input.sk-toggleable__control:checked~label.sk-toggleable__label {background-color: #d4ebff;}#sk-container-id-2 input.sk-hidden--visually {border: 0;clip: rect(1px 1px 1px 1px);clip: rect(1px, 1px, 1px, 1px);height: 1px;margin: -1px;overflow: hidden;padding: 0;position: absolute;width: 1px;}#sk-container-id-2 div.sk-estimator {font-family: monospace;background-color: #f0f8ff;border: 1px dotted black;border-radius: 0.25em;box-sizing: border-box;margin-bottom: 0.5em;}#sk-container-id-2 div.sk-estimator:hover {background-color: #d4ebff;}#sk-container-id-2 div.sk-parallel-item::after {content: \"\";width: 100%;border-bottom: 1px solid gray;flex-grow: 1;}#sk-container-id-2 div.sk-label:hover label.sk-toggleable__label {background-color: #d4ebff;}#sk-container-id-2 div.sk-serial::before {content: \"\";position: absolute;border-left: 1px solid gray;box-sizing: border-box;top: 0;bottom: 0;left: 50%;z-index: 0;}#sk-container-id-2 div.sk-serial {display: flex;flex-direction: column;align-items: center;background-color: white;padding-right: 0.2em;padding-left: 0.2em;position: relative;}#sk-container-id-2 div.sk-item {position: relative;z-index: 1;}#sk-container-id-2 div.sk-parallel {display: flex;align-items: stretch;justify-content: center;background-color: white;position: relative;}#sk-container-id-2 div.sk-item::before, #sk-container-id-2 div.sk-parallel-item::before {content: \"\";position: absolute;border-left: 1px solid gray;box-sizing: border-box;top: 0;bottom: 0;left: 50%;z-index: -1;}#sk-container-id-2 div.sk-parallel-item {display: flex;flex-direction: column;z-index: 1;position: relative;background-color: white;}#sk-container-id-2 div.sk-parallel-item:first-child::after {align-self: flex-end;width: 50%;}#sk-container-id-2 div.sk-parallel-item:last-child::after {align-self: flex-start;width: 50%;}#sk-container-id-2 div.sk-parallel-item:only-child::after {width: 0;}#sk-container-id-2 div.sk-dashed-wrapped {border: 1px dashed gray;margin: 0 0.4em 0.5em 0.4em;box-sizing: border-box;padding-bottom: 0.4em;background-color: white;}#sk-container-id-2 div.sk-label label {font-family: monospace;font-weight: bold;display: inline-block;line-height: 1.2em;}#sk-container-id-2 div.sk-label-container {text-align: center;}#sk-container-id-2 div.sk-container {/* jupyter's `normalize.less` sets `[hidden] { display: none; }` but bootstrap.min.css set `[hidden] { display: none !important; }` so we also need the `!important` here to be able to override the default hidden behavior on the sphinx rendered scikit-learn.org. See: https://github.com/scikit-learn/scikit-learn/issues/21755 */display: inline-block !important;position: relative;}#sk-container-id-2 div.sk-text-repr-fallback {display: none;}</style><div id=\"sk-container-id-2\" class=\"sk-top-container\"><div class=\"sk-text-repr-fallback\"><pre>Pipeline(steps=[(&#x27;columntransformer&#x27;,\n",
       "                 ColumnTransformer(transformers=[(&#x27;pipeline-1&#x27;,\n",
       "                                                  Pipeline(steps=[(&#x27;simpleimputer&#x27;,\n",
       "                                                                   SimpleImputer(strategy=&#x27;median&#x27;)),\n",
       "                                                                  (&#x27;standardscaler&#x27;,\n",
       "                                                                   StandardScaler())]),\n",
       "                                                  &lt;sklearn.compose._column_transformer.make_column_selector object at 0x7d806eb6d630&gt;),\n",
       "                                                 (&#x27;pipeline-2&#x27;,\n",
       "                                                  Pipeline(steps=[(&#x27;simpleimputer&#x27;,\n",
       "                                                                   SimpleImputer(strategy=&#x27;most_frequent&#x27;)),\n",
       "                                                                  (&#x27;onehotencoder&#x27;,\n",
       "                                                                   OneHotEncoder(handle_unknown=&#x27;ignore&#x27;))]),\n",
       "                                                  &lt;sklearn.compose._column_transformer.make_column_selector object at 0x7d806eb6e530&gt;)])),\n",
       "                (&#x27;randomforestclassifier&#x27;,\n",
       "                 RandomForestClassifier(n_estimators=1000))])</pre><b>In a Jupyter environment, please rerun this cell to show the HTML representation or trust the notebook. <br />On GitHub, the HTML representation is unable to render, please try loading this page with nbviewer.org.</b></div><div class=\"sk-container\" hidden><div class=\"sk-item sk-dashed-wrapped\"><div class=\"sk-label-container\"><div class=\"sk-label sk-toggleable\"><input class=\"sk-toggleable__control sk-hidden--visually\" id=\"sk-estimator-id-10\" type=\"checkbox\" ><label for=\"sk-estimator-id-10\" class=\"sk-toggleable__label sk-toggleable__label-arrow\">Pipeline</label><div class=\"sk-toggleable__content\"><pre>Pipeline(steps=[(&#x27;columntransformer&#x27;,\n",
       "                 ColumnTransformer(transformers=[(&#x27;pipeline-1&#x27;,\n",
       "                                                  Pipeline(steps=[(&#x27;simpleimputer&#x27;,\n",
       "                                                                   SimpleImputer(strategy=&#x27;median&#x27;)),\n",
       "                                                                  (&#x27;standardscaler&#x27;,\n",
       "                                                                   StandardScaler())]),\n",
       "                                                  &lt;sklearn.compose._column_transformer.make_column_selector object at 0x7d806eb6d630&gt;),\n",
       "                                                 (&#x27;pipeline-2&#x27;,\n",
       "                                                  Pipeline(steps=[(&#x27;simpleimputer&#x27;,\n",
       "                                                                   SimpleImputer(strategy=&#x27;most_frequent&#x27;)),\n",
       "                                                                  (&#x27;onehotencoder&#x27;,\n",
       "                                                                   OneHotEncoder(handle_unknown=&#x27;ignore&#x27;))]),\n",
       "                                                  &lt;sklearn.compose._column_transformer.make_column_selector object at 0x7d806eb6e530&gt;)])),\n",
       "                (&#x27;randomforestclassifier&#x27;,\n",
       "                 RandomForestClassifier(n_estimators=1000))])</pre></div></div></div><div class=\"sk-serial\"><div class=\"sk-item sk-dashed-wrapped\"><div class=\"sk-label-container\"><div class=\"sk-label sk-toggleable\"><input class=\"sk-toggleable__control sk-hidden--visually\" id=\"sk-estimator-id-11\" type=\"checkbox\" ><label for=\"sk-estimator-id-11\" class=\"sk-toggleable__label sk-toggleable__label-arrow\">columntransformer: ColumnTransformer</label><div class=\"sk-toggleable__content\"><pre>ColumnTransformer(transformers=[(&#x27;pipeline-1&#x27;,\n",
       "                                 Pipeline(steps=[(&#x27;simpleimputer&#x27;,\n",
       "                                                  SimpleImputer(strategy=&#x27;median&#x27;)),\n",
       "                                                 (&#x27;standardscaler&#x27;,\n",
       "                                                  StandardScaler())]),\n",
       "                                 &lt;sklearn.compose._column_transformer.make_column_selector object at 0x7d806eb6d630&gt;),\n",
       "                                (&#x27;pipeline-2&#x27;,\n",
       "                                 Pipeline(steps=[(&#x27;simpleimputer&#x27;,\n",
       "                                                  SimpleImputer(strategy=&#x27;most_frequent&#x27;)),\n",
       "                                                 (&#x27;onehotencoder&#x27;,\n",
       "                                                  OneHotEncoder(handle_unknown=&#x27;ignore&#x27;))]),\n",
       "                                 &lt;sklearn.compose._column_transformer.make_column_selector object at 0x7d806eb6e530&gt;)])</pre></div></div></div><div class=\"sk-parallel\"><div class=\"sk-parallel-item\"><div class=\"sk-item\"><div class=\"sk-label-container\"><div class=\"sk-label sk-toggleable\"><input class=\"sk-toggleable__control sk-hidden--visually\" id=\"sk-estimator-id-12\" type=\"checkbox\" ><label for=\"sk-estimator-id-12\" class=\"sk-toggleable__label sk-toggleable__label-arrow\">pipeline-1</label><div class=\"sk-toggleable__content\"><pre>&lt;sklearn.compose._column_transformer.make_column_selector object at 0x7d806eb6d630&gt;</pre></div></div></div><div class=\"sk-serial\"><div class=\"sk-item\"><div class=\"sk-serial\"><div class=\"sk-item\"><div class=\"sk-estimator sk-toggleable\"><input class=\"sk-toggleable__control sk-hidden--visually\" id=\"sk-estimator-id-13\" type=\"checkbox\" ><label for=\"sk-estimator-id-13\" class=\"sk-toggleable__label sk-toggleable__label-arrow\">SimpleImputer</label><div class=\"sk-toggleable__content\"><pre>SimpleImputer(strategy=&#x27;median&#x27;)</pre></div></div></div><div class=\"sk-item\"><div class=\"sk-estimator sk-toggleable\"><input class=\"sk-toggleable__control sk-hidden--visually\" id=\"sk-estimator-id-14\" type=\"checkbox\" ><label for=\"sk-estimator-id-14\" class=\"sk-toggleable__label sk-toggleable__label-arrow\">StandardScaler</label><div class=\"sk-toggleable__content\"><pre>StandardScaler()</pre></div></div></div></div></div></div></div></div><div class=\"sk-parallel-item\"><div class=\"sk-item\"><div class=\"sk-label-container\"><div class=\"sk-label sk-toggleable\"><input class=\"sk-toggleable__control sk-hidden--visually\" id=\"sk-estimator-id-15\" type=\"checkbox\" ><label for=\"sk-estimator-id-15\" class=\"sk-toggleable__label sk-toggleable__label-arrow\">pipeline-2</label><div class=\"sk-toggleable__content\"><pre>&lt;sklearn.compose._column_transformer.make_column_selector object at 0x7d806eb6e530&gt;</pre></div></div></div><div class=\"sk-serial\"><div class=\"sk-item\"><div class=\"sk-serial\"><div class=\"sk-item\"><div class=\"sk-estimator sk-toggleable\"><input class=\"sk-toggleable__control sk-hidden--visually\" id=\"sk-estimator-id-16\" type=\"checkbox\" ><label for=\"sk-estimator-id-16\" class=\"sk-toggleable__label sk-toggleable__label-arrow\">SimpleImputer</label><div class=\"sk-toggleable__content\"><pre>SimpleImputer(strategy=&#x27;most_frequent&#x27;)</pre></div></div></div><div class=\"sk-item\"><div class=\"sk-estimator sk-toggleable\"><input class=\"sk-toggleable__control sk-hidden--visually\" id=\"sk-estimator-id-17\" type=\"checkbox\" ><label for=\"sk-estimator-id-17\" class=\"sk-toggleable__label sk-toggleable__label-arrow\">OneHotEncoder</label><div class=\"sk-toggleable__content\"><pre>OneHotEncoder(handle_unknown=&#x27;ignore&#x27;)</pre></div></div></div></div></div></div></div></div></div></div><div class=\"sk-item\"><div class=\"sk-estimator sk-toggleable\"><input class=\"sk-toggleable__control sk-hidden--visually\" id=\"sk-estimator-id-18\" type=\"checkbox\" ><label for=\"sk-estimator-id-18\" class=\"sk-toggleable__label sk-toggleable__label-arrow\">RandomForestClassifier</label><div class=\"sk-toggleable__content\"><pre>RandomForestClassifier(n_estimators=1000)</pre></div></div></div></div></div></div></div>"
      ],
      "text/plain": [
       "Pipeline(steps=[('columntransformer',\n",
       "                 ColumnTransformer(transformers=[('pipeline-1',\n",
       "                                                  Pipeline(steps=[('simpleimputer',\n",
       "                                                                   SimpleImputer(strategy='median')),\n",
       "                                                                  ('standardscaler',\n",
       "                                                                   StandardScaler())]),\n",
       "                                                  <sklearn.compose._column_transformer.make_column_selector object at 0x7d806eb6d630>),\n",
       "                                                 ('pipeline-2',\n",
       "                                                  Pipeline(steps=[('simpleimputer',\n",
       "                                                                   SimpleImputer(strategy='most_frequent')),\n",
       "                                                                  ('onehotencoder',\n",
       "                                                                   OneHotEncoder(handle_unknown='ignore'))]),\n",
       "                                                  <sklearn.compose._column_transformer.make_column_selector object at 0x7d806eb6e530>)])),\n",
       "                ('randomforestclassifier',\n",
       "                 RandomForestClassifier(n_estimators=1000))])"
      ]
     },
     "execution_count": 44,
     "metadata": {},
     "output_type": "execute_result"
    }
   ],
   "source": [
    "from sklearn.ensemble import RandomForestClassifier\n",
    "\n",
    "rf_clf = make_pipeline(preprocessing, RandomForestClassifier(n_estimators=1_000))\n",
    "rf_clf.fit(X,y)"
   ]
  },
  {
   "cell_type": "code",
   "execution_count": 45,
   "id": "8e578f47",
   "metadata": {
    "execution": {
     "iopub.execute_input": "2024-05-12T14:09:16.927329Z",
     "iopub.status.busy": "2024-05-12T14:09:16.926591Z",
     "iopub.status.idle": "2024-05-12T14:09:22.809205Z",
     "shell.execute_reply": "2024-05-12T14:09:22.807194Z"
    },
    "papermill": {
     "duration": 5.910483,
     "end_time": "2024-05-12T14:09:22.812112",
     "exception": false,
     "start_time": "2024-05-12T14:09:16.901629",
     "status": "completed"
    },
    "tags": []
   },
   "outputs": [
    {
     "name": "stdout",
     "output_type": "stream",
     "text": [
      "              precision    recall  f1-score   support\n",
      "\n",
      "          no       0.68      0.68      0.68      6304\n",
      "         yes       0.69      0.70      0.70      6644\n",
      "\n",
      "    accuracy                           0.69     12948\n",
      "   macro avg       0.69      0.69      0.69     12948\n",
      "weighted avg       0.69      0.69      0.69     12948\n",
      "\n"
     ]
    }
   ],
   "source": [
    "test_predictions = rf_clf.predict(X_test)\n",
    "\n",
    "print(classification_report(y_test, test_predictions))"
   ]
  },
  {
   "cell_type": "code",
   "execution_count": 46,
   "id": "f49a5959",
   "metadata": {
    "execution": {
     "iopub.execute_input": "2024-05-12T14:09:22.863025Z",
     "iopub.status.busy": "2024-05-12T14:09:22.862598Z",
     "iopub.status.idle": "2024-05-12T14:09:22.880572Z",
     "shell.execute_reply": "2024-05-12T14:09:22.878923Z"
    },
    "papermill": {
     "duration": 0.045641,
     "end_time": "2024-05-12T14:09:22.883100",
     "exception": false,
     "start_time": "2024-05-12T14:09:22.837459",
     "status": "completed"
    },
    "tags": []
   },
   "outputs": [
    {
     "name": "stderr",
     "output_type": "stream",
     "text": [
      "/tmp/ipykernel_18/2700731287.py:2: FutureWarning: Downcasting behavior in `replace` is deprecated and will be removed in a future version. To retain the old behavior, explicitly call `result.infer_objects(copy=False)`. To opt-in to the future behavior, set `pd.set_option('future.no_silent_downcasting', True)`\n",
      "  test_set['cardiovascular illness'] = test_set['cardiovascular illness'].replace(dict2)\n"
     ]
    }
   ],
   "source": [
    "dict2 = {'no':0, 'yes':1}\n",
    "test_set['cardiovascular illness'] = test_set['cardiovascular illness'].replace(dict2)"
   ]
  },
  {
   "cell_type": "code",
   "execution_count": 47,
   "id": "48f3db26",
   "metadata": {
    "execution": {
     "iopub.execute_input": "2024-05-12T14:09:22.932195Z",
     "iopub.status.busy": "2024-05-12T14:09:22.931157Z",
     "iopub.status.idle": "2024-05-12T14:09:22.938996Z",
     "shell.execute_reply": "2024-05-12T14:09:22.937825Z"
    },
    "papermill": {
     "duration": 0.03552,
     "end_time": "2024-05-12T14:09:22.941582",
     "exception": false,
     "start_time": "2024-05-12T14:09:22.906062",
     "status": "completed"
    },
    "tags": []
   },
   "outputs": [],
   "source": [
    "X_test = test_set.drop(columns = ['cardiovascular illness'])\n",
    "y_test = test_set['cardiovascular illness'].copy()"
   ]
  },
  {
   "cell_type": "code",
   "execution_count": 48,
   "id": "6b87c8ff",
   "metadata": {
    "execution": {
     "iopub.execute_input": "2024-05-12T14:09:22.991058Z",
     "iopub.status.busy": "2024-05-12T14:09:22.990256Z",
     "iopub.status.idle": "2024-05-12T14:09:22.994922Z",
     "shell.execute_reply": "2024-05-12T14:09:22.993673Z"
    },
    "papermill": {
     "duration": 0.032156,
     "end_time": "2024-05-12T14:09:22.997759",
     "exception": false,
     "start_time": "2024-05-12T14:09:22.965603",
     "status": "completed"
    },
    "tags": []
   },
   "outputs": [],
   "source": [
    "#y_test"
   ]
  },
  {
   "cell_type": "code",
   "execution_count": 49,
   "id": "abb9499b",
   "metadata": {
    "execution": {
     "iopub.execute_input": "2024-05-12T14:09:23.048093Z",
     "iopub.status.busy": "2024-05-12T14:09:23.047631Z",
     "iopub.status.idle": "2024-05-12T14:09:23.094053Z",
     "shell.execute_reply": "2024-05-12T14:09:23.092699Z"
    },
    "papermill": {
     "duration": 0.076444,
     "end_time": "2024-05-12T14:09:23.096772",
     "exception": false,
     "start_time": "2024-05-12T14:09:23.020328",
     "status": "completed"
    },
    "tags": []
   },
   "outputs": [
    {
     "name": "stderr",
     "output_type": "stream",
     "text": [
      "/tmp/ipykernel_18/1631585773.py:2: FutureWarning: Downcasting behavior in `replace` is deprecated and will be removed in a future version. To retain the old behavior, explicitly call `result.infer_objects(copy=False)`. To opt-in to the future behavior, set `pd.set_option('future.no_silent_downcasting', True)`\n",
      "  train_set['cardiovascular illness'] = train_set['cardiovascular illness'].replace(dict2)\n"
     ]
    }
   ],
   "source": [
    "dict2 = {'no':0, 'yes':1}\n",
    "train_set['cardiovascular illness'] = train_set['cardiovascular illness'].replace(dict2)\n",
    "# train_set.head()"
   ]
  },
  {
   "cell_type": "code",
   "execution_count": 50,
   "id": "1168277a",
   "metadata": {
    "execution": {
     "iopub.execute_input": "2024-05-12T14:09:23.144687Z",
     "iopub.status.busy": "2024-05-12T14:09:23.144239Z",
     "iopub.status.idle": "2024-05-12T14:09:23.155147Z",
     "shell.execute_reply": "2024-05-12T14:09:23.153871Z"
    },
    "papermill": {
     "duration": 0.038249,
     "end_time": "2024-05-12T14:09:23.158111",
     "exception": false,
     "start_time": "2024-05-12T14:09:23.119862",
     "status": "completed"
    },
    "tags": []
   },
   "outputs": [],
   "source": [
    "X_train = train_set.drop(columns=['cardiovascular illness'])\n",
    "y_train = train_set['cardiovascular illness'].copy()"
   ]
  },
  {
   "cell_type": "code",
   "execution_count": 51,
   "id": "7fe32ba6",
   "metadata": {
    "execution": {
     "iopub.execute_input": "2024-05-12T14:09:23.207122Z",
     "iopub.status.busy": "2024-05-12T14:09:23.206679Z",
     "iopub.status.idle": "2024-05-12T14:09:24.234931Z",
     "shell.execute_reply": "2024-05-12T14:09:24.233769Z"
    },
    "papermill": {
     "duration": 1.056831,
     "end_time": "2024-05-12T14:09:24.237789",
     "exception": false,
     "start_time": "2024-05-12T14:09:23.180958",
     "status": "completed"
    },
    "tags": []
   },
   "outputs": [
    {
     "data": {
      "text/html": [
       "<style>#sk-container-id-3 {color: black;background-color: white;}#sk-container-id-3 pre{padding: 0;}#sk-container-id-3 div.sk-toggleable {background-color: white;}#sk-container-id-3 label.sk-toggleable__label {cursor: pointer;display: block;width: 100%;margin-bottom: 0;padding: 0.3em;box-sizing: border-box;text-align: center;}#sk-container-id-3 label.sk-toggleable__label-arrow:before {content: \"▸\";float: left;margin-right: 0.25em;color: #696969;}#sk-container-id-3 label.sk-toggleable__label-arrow:hover:before {color: black;}#sk-container-id-3 div.sk-estimator:hover label.sk-toggleable__label-arrow:before {color: black;}#sk-container-id-3 div.sk-toggleable__content {max-height: 0;max-width: 0;overflow: hidden;text-align: left;background-color: #f0f8ff;}#sk-container-id-3 div.sk-toggleable__content pre {margin: 0.2em;color: black;border-radius: 0.25em;background-color: #f0f8ff;}#sk-container-id-3 input.sk-toggleable__control:checked~div.sk-toggleable__content {max-height: 200px;max-width: 100%;overflow: auto;}#sk-container-id-3 input.sk-toggleable__control:checked~label.sk-toggleable__label-arrow:before {content: \"▾\";}#sk-container-id-3 div.sk-estimator input.sk-toggleable__control:checked~label.sk-toggleable__label {background-color: #d4ebff;}#sk-container-id-3 div.sk-label input.sk-toggleable__control:checked~label.sk-toggleable__label {background-color: #d4ebff;}#sk-container-id-3 input.sk-hidden--visually {border: 0;clip: rect(1px 1px 1px 1px);clip: rect(1px, 1px, 1px, 1px);height: 1px;margin: -1px;overflow: hidden;padding: 0;position: absolute;width: 1px;}#sk-container-id-3 div.sk-estimator {font-family: monospace;background-color: #f0f8ff;border: 1px dotted black;border-radius: 0.25em;box-sizing: border-box;margin-bottom: 0.5em;}#sk-container-id-3 div.sk-estimator:hover {background-color: #d4ebff;}#sk-container-id-3 div.sk-parallel-item::after {content: \"\";width: 100%;border-bottom: 1px solid gray;flex-grow: 1;}#sk-container-id-3 div.sk-label:hover label.sk-toggleable__label {background-color: #d4ebff;}#sk-container-id-3 div.sk-serial::before {content: \"\";position: absolute;border-left: 1px solid gray;box-sizing: border-box;top: 0;bottom: 0;left: 50%;z-index: 0;}#sk-container-id-3 div.sk-serial {display: flex;flex-direction: column;align-items: center;background-color: white;padding-right: 0.2em;padding-left: 0.2em;position: relative;}#sk-container-id-3 div.sk-item {position: relative;z-index: 1;}#sk-container-id-3 div.sk-parallel {display: flex;align-items: stretch;justify-content: center;background-color: white;position: relative;}#sk-container-id-3 div.sk-item::before, #sk-container-id-3 div.sk-parallel-item::before {content: \"\";position: absolute;border-left: 1px solid gray;box-sizing: border-box;top: 0;bottom: 0;left: 50%;z-index: -1;}#sk-container-id-3 div.sk-parallel-item {display: flex;flex-direction: column;z-index: 1;position: relative;background-color: white;}#sk-container-id-3 div.sk-parallel-item:first-child::after {align-self: flex-end;width: 50%;}#sk-container-id-3 div.sk-parallel-item:last-child::after {align-self: flex-start;width: 50%;}#sk-container-id-3 div.sk-parallel-item:only-child::after {width: 0;}#sk-container-id-3 div.sk-dashed-wrapped {border: 1px dashed gray;margin: 0 0.4em 0.5em 0.4em;box-sizing: border-box;padding-bottom: 0.4em;background-color: white;}#sk-container-id-3 div.sk-label label {font-family: monospace;font-weight: bold;display: inline-block;line-height: 1.2em;}#sk-container-id-3 div.sk-label-container {text-align: center;}#sk-container-id-3 div.sk-container {/* jupyter's `normalize.less` sets `[hidden] { display: none; }` but bootstrap.min.css set `[hidden] { display: none !important; }` so we also need the `!important` here to be able to override the default hidden behavior on the sphinx rendered scikit-learn.org. See: https://github.com/scikit-learn/scikit-learn/issues/21755 */display: inline-block !important;position: relative;}#sk-container-id-3 div.sk-text-repr-fallback {display: none;}</style><div id=\"sk-container-id-3\" class=\"sk-top-container\"><div class=\"sk-text-repr-fallback\"><pre>Pipeline(steps=[(&#x27;columntransformer&#x27;,\n",
       "                 ColumnTransformer(transformers=[(&#x27;pipeline-1&#x27;,\n",
       "                                                  Pipeline(steps=[(&#x27;simpleimputer&#x27;,\n",
       "                                                                   SimpleImputer(strategy=&#x27;median&#x27;)),\n",
       "                                                                  (&#x27;standardscaler&#x27;,\n",
       "                                                                   StandardScaler())]),\n",
       "                                                  &lt;sklearn.compose._column_transformer.make_column_selector object at 0x7d806eb6d630&gt;),\n",
       "                                                 (&#x27;pipeline-2&#x27;,\n",
       "                                                  Pipeline(steps=[(&#x27;simpleimputer&#x27;,\n",
       "                                                                   SimpleImputer(strategy=&#x27;most_freq...\n",
       "                               feature_types=None, gamma=None, grow_policy=None,\n",
       "                               importance_type=None,\n",
       "                               interaction_constraints=None, learning_rate=None,\n",
       "                               max_bin=None, max_cat_threshold=None,\n",
       "                               max_cat_to_onehot=None, max_delta_step=None,\n",
       "                               max_depth=None, max_leaves=None,\n",
       "                               min_child_weight=None, missing=nan,\n",
       "                               monotone_constraints=None, multi_strategy=None,\n",
       "                               n_estimators=None, n_jobs=None,\n",
       "                               num_parallel_tree=None, random_state=None, ...))])</pre><b>In a Jupyter environment, please rerun this cell to show the HTML representation or trust the notebook. <br />On GitHub, the HTML representation is unable to render, please try loading this page with nbviewer.org.</b></div><div class=\"sk-container\" hidden><div class=\"sk-item sk-dashed-wrapped\"><div class=\"sk-label-container\"><div class=\"sk-label sk-toggleable\"><input class=\"sk-toggleable__control sk-hidden--visually\" id=\"sk-estimator-id-19\" type=\"checkbox\" ><label for=\"sk-estimator-id-19\" class=\"sk-toggleable__label sk-toggleable__label-arrow\">Pipeline</label><div class=\"sk-toggleable__content\"><pre>Pipeline(steps=[(&#x27;columntransformer&#x27;,\n",
       "                 ColumnTransformer(transformers=[(&#x27;pipeline-1&#x27;,\n",
       "                                                  Pipeline(steps=[(&#x27;simpleimputer&#x27;,\n",
       "                                                                   SimpleImputer(strategy=&#x27;median&#x27;)),\n",
       "                                                                  (&#x27;standardscaler&#x27;,\n",
       "                                                                   StandardScaler())]),\n",
       "                                                  &lt;sklearn.compose._column_transformer.make_column_selector object at 0x7d806eb6d630&gt;),\n",
       "                                                 (&#x27;pipeline-2&#x27;,\n",
       "                                                  Pipeline(steps=[(&#x27;simpleimputer&#x27;,\n",
       "                                                                   SimpleImputer(strategy=&#x27;most_freq...\n",
       "                               feature_types=None, gamma=None, grow_policy=None,\n",
       "                               importance_type=None,\n",
       "                               interaction_constraints=None, learning_rate=None,\n",
       "                               max_bin=None, max_cat_threshold=None,\n",
       "                               max_cat_to_onehot=None, max_delta_step=None,\n",
       "                               max_depth=None, max_leaves=None,\n",
       "                               min_child_weight=None, missing=nan,\n",
       "                               monotone_constraints=None, multi_strategy=None,\n",
       "                               n_estimators=None, n_jobs=None,\n",
       "                               num_parallel_tree=None, random_state=None, ...))])</pre></div></div></div><div class=\"sk-serial\"><div class=\"sk-item sk-dashed-wrapped\"><div class=\"sk-label-container\"><div class=\"sk-label sk-toggleable\"><input class=\"sk-toggleable__control sk-hidden--visually\" id=\"sk-estimator-id-20\" type=\"checkbox\" ><label for=\"sk-estimator-id-20\" class=\"sk-toggleable__label sk-toggleable__label-arrow\">columntransformer: ColumnTransformer</label><div class=\"sk-toggleable__content\"><pre>ColumnTransformer(transformers=[(&#x27;pipeline-1&#x27;,\n",
       "                                 Pipeline(steps=[(&#x27;simpleimputer&#x27;,\n",
       "                                                  SimpleImputer(strategy=&#x27;median&#x27;)),\n",
       "                                                 (&#x27;standardscaler&#x27;,\n",
       "                                                  StandardScaler())]),\n",
       "                                 &lt;sklearn.compose._column_transformer.make_column_selector object at 0x7d806eb6d630&gt;),\n",
       "                                (&#x27;pipeline-2&#x27;,\n",
       "                                 Pipeline(steps=[(&#x27;simpleimputer&#x27;,\n",
       "                                                  SimpleImputer(strategy=&#x27;most_frequent&#x27;)),\n",
       "                                                 (&#x27;onehotencoder&#x27;,\n",
       "                                                  OneHotEncoder(handle_unknown=&#x27;ignore&#x27;))]),\n",
       "                                 &lt;sklearn.compose._column_transformer.make_column_selector object at 0x7d806eb6e530&gt;)])</pre></div></div></div><div class=\"sk-parallel\"><div class=\"sk-parallel-item\"><div class=\"sk-item\"><div class=\"sk-label-container\"><div class=\"sk-label sk-toggleable\"><input class=\"sk-toggleable__control sk-hidden--visually\" id=\"sk-estimator-id-21\" type=\"checkbox\" ><label for=\"sk-estimator-id-21\" class=\"sk-toggleable__label sk-toggleable__label-arrow\">pipeline-1</label><div class=\"sk-toggleable__content\"><pre>&lt;sklearn.compose._column_transformer.make_column_selector object at 0x7d806eb6d630&gt;</pre></div></div></div><div class=\"sk-serial\"><div class=\"sk-item\"><div class=\"sk-serial\"><div class=\"sk-item\"><div class=\"sk-estimator sk-toggleable\"><input class=\"sk-toggleable__control sk-hidden--visually\" id=\"sk-estimator-id-22\" type=\"checkbox\" ><label for=\"sk-estimator-id-22\" class=\"sk-toggleable__label sk-toggleable__label-arrow\">SimpleImputer</label><div class=\"sk-toggleable__content\"><pre>SimpleImputer(strategy=&#x27;median&#x27;)</pre></div></div></div><div class=\"sk-item\"><div class=\"sk-estimator sk-toggleable\"><input class=\"sk-toggleable__control sk-hidden--visually\" id=\"sk-estimator-id-23\" type=\"checkbox\" ><label for=\"sk-estimator-id-23\" class=\"sk-toggleable__label sk-toggleable__label-arrow\">StandardScaler</label><div class=\"sk-toggleable__content\"><pre>StandardScaler()</pre></div></div></div></div></div></div></div></div><div class=\"sk-parallel-item\"><div class=\"sk-item\"><div class=\"sk-label-container\"><div class=\"sk-label sk-toggleable\"><input class=\"sk-toggleable__control sk-hidden--visually\" id=\"sk-estimator-id-24\" type=\"checkbox\" ><label for=\"sk-estimator-id-24\" class=\"sk-toggleable__label sk-toggleable__label-arrow\">pipeline-2</label><div class=\"sk-toggleable__content\"><pre>&lt;sklearn.compose._column_transformer.make_column_selector object at 0x7d806eb6e530&gt;</pre></div></div></div><div class=\"sk-serial\"><div class=\"sk-item\"><div class=\"sk-serial\"><div class=\"sk-item\"><div class=\"sk-estimator sk-toggleable\"><input class=\"sk-toggleable__control sk-hidden--visually\" id=\"sk-estimator-id-25\" type=\"checkbox\" ><label for=\"sk-estimator-id-25\" class=\"sk-toggleable__label sk-toggleable__label-arrow\">SimpleImputer</label><div class=\"sk-toggleable__content\"><pre>SimpleImputer(strategy=&#x27;most_frequent&#x27;)</pre></div></div></div><div class=\"sk-item\"><div class=\"sk-estimator sk-toggleable\"><input class=\"sk-toggleable__control sk-hidden--visually\" id=\"sk-estimator-id-26\" type=\"checkbox\" ><label for=\"sk-estimator-id-26\" class=\"sk-toggleable__label sk-toggleable__label-arrow\">OneHotEncoder</label><div class=\"sk-toggleable__content\"><pre>OneHotEncoder(handle_unknown=&#x27;ignore&#x27;)</pre></div></div></div></div></div></div></div></div></div></div><div class=\"sk-item\"><div class=\"sk-estimator sk-toggleable\"><input class=\"sk-toggleable__control sk-hidden--visually\" id=\"sk-estimator-id-27\" type=\"checkbox\" ><label for=\"sk-estimator-id-27\" class=\"sk-toggleable__label sk-toggleable__label-arrow\">XGBClassifier</label><div class=\"sk-toggleable__content\"><pre>XGBClassifier(base_score=None, booster=None, callbacks=None,\n",
       "              colsample_bylevel=None, colsample_bynode=None,\n",
       "              colsample_bytree=None, device=None, early_stopping_rounds=None,\n",
       "              enable_categorical=False, eval_metric=None, feature_types=None,\n",
       "              gamma=None, grow_policy=None, importance_type=None,\n",
       "              interaction_constraints=None, learning_rate=None, max_bin=None,\n",
       "              max_cat_threshold=None, max_cat_to_onehot=None,\n",
       "              max_delta_step=None, max_depth=None, max_leaves=None,\n",
       "              min_child_weight=None, missing=nan, monotone_constraints=None,\n",
       "              multi_strategy=None, n_estimators=None, n_jobs=None,\n",
       "              num_parallel_tree=None, random_state=None, ...)</pre></div></div></div></div></div></div></div>"
      ],
      "text/plain": [
       "Pipeline(steps=[('columntransformer',\n",
       "                 ColumnTransformer(transformers=[('pipeline-1',\n",
       "                                                  Pipeline(steps=[('simpleimputer',\n",
       "                                                                   SimpleImputer(strategy='median')),\n",
       "                                                                  ('standardscaler',\n",
       "                                                                   StandardScaler())]),\n",
       "                                                  <sklearn.compose._column_transformer.make_column_selector object at 0x7d806eb6d630>),\n",
       "                                                 ('pipeline-2',\n",
       "                                                  Pipeline(steps=[('simpleimputer',\n",
       "                                                                   SimpleImputer(strategy='most_freq...\n",
       "                               feature_types=None, gamma=None, grow_policy=None,\n",
       "                               importance_type=None,\n",
       "                               interaction_constraints=None, learning_rate=None,\n",
       "                               max_bin=None, max_cat_threshold=None,\n",
       "                               max_cat_to_onehot=None, max_delta_step=None,\n",
       "                               max_depth=None, max_leaves=None,\n",
       "                               min_child_weight=None, missing=nan,\n",
       "                               monotone_constraints=None, multi_strategy=None,\n",
       "                               n_estimators=None, n_jobs=None,\n",
       "                               num_parallel_tree=None, random_state=None, ...))])"
      ]
     },
     "execution_count": 51,
     "metadata": {},
     "output_type": "execute_result"
    }
   ],
   "source": [
    "from xgboost import XGBClassifier\n",
    "\n",
    "xgb_clf = make_pipeline(preprocessing, XGBClassifier())\n",
    "xgb_clf.fit(X_train, y_train)"
   ]
  },
  {
   "cell_type": "code",
   "execution_count": 52,
   "id": "981b657d",
   "metadata": {
    "execution": {
     "iopub.execute_input": "2024-05-12T14:09:24.286722Z",
     "iopub.status.busy": "2024-05-12T14:09:24.286127Z",
     "iopub.status.idle": "2024-05-12T14:09:24.383149Z",
     "shell.execute_reply": "2024-05-12T14:09:24.381631Z"
    },
    "papermill": {
     "duration": 0.124998,
     "end_time": "2024-05-12T14:09:24.385910",
     "exception": false,
     "start_time": "2024-05-12T14:09:24.260912",
     "status": "completed"
    },
    "tags": []
   },
   "outputs": [
    {
     "name": "stdout",
     "output_type": "stream",
     "text": [
      "              precision    recall  f1-score   support\n",
      "\n",
      "           0       0.71      0.76      0.73      6304\n",
      "           1       0.75      0.70      0.73      6644\n",
      "\n",
      "    accuracy                           0.73     12948\n",
      "   macro avg       0.73      0.73      0.73     12948\n",
      "weighted avg       0.73      0.73      0.73     12948\n",
      "\n"
     ]
    }
   ],
   "source": [
    "test_predictions3 = xgb_clf.predict(X_test)\n",
    "\n",
    "print(classification_report(y_test, test_predictions3))"
   ]
  }
 ],
 "metadata": {
  "kaggle": {
   "accelerator": "none",
   "dataSources": [
    {
     "datasetId": 107706,
     "sourceId": 256873,
     "sourceType": "datasetVersion"
    }
   ],
   "dockerImageVersionId": 30698,
   "isGpuEnabled": false,
   "isInternetEnabled": true,
   "language": "python",
   "sourceType": "notebook"
  },
  "kernelspec": {
   "display_name": "Python 3",
   "language": "python",
   "name": "python3"
  },
  "language_info": {
   "codemirror_mode": {
    "name": "ipython",
    "version": 3
   },
   "file_extension": ".py",
   "mimetype": "text/x-python",
   "name": "python",
   "nbconvert_exporter": "python",
   "pygments_lexer": "ipython3",
   "version": "3.10.13"
  },
  "papermill": {
   "default_parameters": {},
   "duration": 115.830951,
   "end_time": "2024-05-12T14:09:25.433345",
   "environment_variables": {},
   "exception": null,
   "input_path": "__notebook__.ipynb",
   "output_path": "__notebook__.ipynb",
   "parameters": {},
   "start_time": "2024-05-12T14:07:29.602394",
   "version": "2.5.0"
  }
 },
 "nbformat": 4,
 "nbformat_minor": 5
}
